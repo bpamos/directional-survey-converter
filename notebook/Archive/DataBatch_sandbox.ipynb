{
 "cells": [
  {
   "cell_type": "code",
   "execution_count": 1,
   "metadata": {},
   "outputs": [
    {
     "name": "stdout",
     "output_type": "stream",
     "text": [
      "C:\\Users\\BpAmos\\Documents\\repos\\directional-survey-converter\n"
     ]
    }
   ],
   "source": [
    "# ONLY RUN ONCE, must restart notebook otherwise\n",
    "import pandas as pd\n",
    "import os\n",
    "from pathlib import Path\n",
    "current_dir = Path.cwd()\n",
    "path = current_dir.parent\n",
    "print(path)\n",
    "#change directory to get src class data\n",
    "os.chdir(path)\n",
    "from src.data_object import *\n",
    "from src.directional_survey import *\n",
    "from src.data_batch import *"
   ]
  },
  {
   "cell_type": "markdown",
   "metadata": {},
   "source": [
    "# Data Block\n",
    "\n",
    "get a block of data files from a folder or group of folders to convert into data objects for transformation."
   ]
  },
  {
   "cell_type": "code",
   "execution_count": 2,
   "metadata": {},
   "outputs": [],
   "source": [
    "my_files = get_files(path/'data','.json')\n",
    "with open(my_files[0]) as json_file:\n",
    "    data = json.load(json_file)\n",
    "json_file.close()"
   ]
  },
  {
   "cell_type": "code",
   "execution_count": 3,
   "metadata": {},
   "outputs": [],
   "source": [
    "my_files = get_files(path/'data','.csv')\n",
    "df = pd.read_csv(my_files[0], sep=',')\n",
    "df = df[['wellId', 'md', 'inc', 'azim', 'surface_latitude', 'surface_longitude']]"
   ]
  },
  {
   "cell_type": "code",
   "execution_count": 4,
   "metadata": {},
   "outputs": [
    {
     "data": {
      "text/html": [
       "<div>\n",
       "<style scoped>\n",
       "    .dataframe tbody tr th:only-of-type {\n",
       "        vertical-align: middle;\n",
       "    }\n",
       "\n",
       "    .dataframe tbody tr th {\n",
       "        vertical-align: top;\n",
       "    }\n",
       "\n",
       "    .dataframe thead th {\n",
       "        text-align: right;\n",
       "    }\n",
       "</style>\n",
       "<table border=\"1\" class=\"dataframe\">\n",
       "  <thead>\n",
       "    <tr style=\"text-align: right;\">\n",
       "      <th></th>\n",
       "      <th>wellId</th>\n",
       "      <th>md</th>\n",
       "      <th>inc</th>\n",
       "      <th>azim</th>\n",
       "      <th>surface_latitude</th>\n",
       "      <th>surface_longitude</th>\n",
       "    </tr>\n",
       "  </thead>\n",
       "  <tbody>\n",
       "    <tr>\n",
       "      <th>0</th>\n",
       "      <td>well_C</td>\n",
       "      <td>0.00</td>\n",
       "      <td>0.00</td>\n",
       "      <td>227.11</td>\n",
       "      <td>29.908294</td>\n",
       "      <td>47.688521</td>\n",
       "    </tr>\n",
       "    <tr>\n",
       "      <th>1</th>\n",
       "      <td>well_C</td>\n",
       "      <td>35.00</td>\n",
       "      <td>0.00</td>\n",
       "      <td>227.11</td>\n",
       "      <td>29.908294</td>\n",
       "      <td>47.688521</td>\n",
       "    </tr>\n",
       "    <tr>\n",
       "      <th>2</th>\n",
       "      <td>well_C</td>\n",
       "      <td>774.81</td>\n",
       "      <td>0.46</td>\n",
       "      <td>227.11</td>\n",
       "      <td>29.908294</td>\n",
       "      <td>47.688521</td>\n",
       "    </tr>\n",
       "    <tr>\n",
       "      <th>3</th>\n",
       "      <td>well_C</td>\n",
       "      <td>800.00</td>\n",
       "      <td>0.13</td>\n",
       "      <td>163.86</td>\n",
       "      <td>29.908294</td>\n",
       "      <td>47.688521</td>\n",
       "    </tr>\n",
       "    <tr>\n",
       "      <th>4</th>\n",
       "      <td>well_C</td>\n",
       "      <td>900.00</td>\n",
       "      <td>0.57</td>\n",
       "      <td>230.43</td>\n",
       "      <td>29.908294</td>\n",
       "      <td>47.688521</td>\n",
       "    </tr>\n",
       "    <tr>\n",
       "      <th>...</th>\n",
       "      <td>...</td>\n",
       "      <td>...</td>\n",
       "      <td>...</td>\n",
       "      <td>...</td>\n",
       "      <td>...</td>\n",
       "      <td>...</td>\n",
       "    </tr>\n",
       "    <tr>\n",
       "      <th>105</th>\n",
       "      <td>well_C</td>\n",
       "      <td>10613.00</td>\n",
       "      <td>89.88</td>\n",
       "      <td>27.59</td>\n",
       "      <td>29.908294</td>\n",
       "      <td>47.688521</td>\n",
       "    </tr>\n",
       "    <tr>\n",
       "      <th>106</th>\n",
       "      <td>well_C</td>\n",
       "      <td>10707.00</td>\n",
       "      <td>90.00</td>\n",
       "      <td>26.69</td>\n",
       "      <td>29.908294</td>\n",
       "      <td>47.688521</td>\n",
       "    </tr>\n",
       "    <tr>\n",
       "      <th>107</th>\n",
       "      <td>well_C</td>\n",
       "      <td>10802.00</td>\n",
       "      <td>89.72</td>\n",
       "      <td>26.72</td>\n",
       "      <td>29.908294</td>\n",
       "      <td>47.688521</td>\n",
       "    </tr>\n",
       "    <tr>\n",
       "      <th>108</th>\n",
       "      <td>well_C</td>\n",
       "      <td>10851.00</td>\n",
       "      <td>90.06</td>\n",
       "      <td>27.04</td>\n",
       "      <td>29.908294</td>\n",
       "      <td>47.688521</td>\n",
       "    </tr>\n",
       "    <tr>\n",
       "      <th>109</th>\n",
       "      <td>well_C</td>\n",
       "      <td>10890.00</td>\n",
       "      <td>90.00</td>\n",
       "      <td>27.35</td>\n",
       "      <td>29.908294</td>\n",
       "      <td>47.688521</td>\n",
       "    </tr>\n",
       "  </tbody>\n",
       "</table>\n",
       "<p>110 rows × 6 columns</p>\n",
       "</div>"
      ],
      "text/plain": [
       "     wellId        md    inc    azim  surface_latitude  surface_longitude\n",
       "0    well_C      0.00   0.00  227.11         29.908294          47.688521\n",
       "1    well_C     35.00   0.00  227.11         29.908294          47.688521\n",
       "2    well_C    774.81   0.46  227.11         29.908294          47.688521\n",
       "3    well_C    800.00   0.13  163.86         29.908294          47.688521\n",
       "4    well_C    900.00   0.57  230.43         29.908294          47.688521\n",
       "..      ...       ...    ...     ...               ...                ...\n",
       "105  well_C  10613.00  89.88   27.59         29.908294          47.688521\n",
       "106  well_C  10707.00  90.00   26.69         29.908294          47.688521\n",
       "107  well_C  10802.00  89.72   26.72         29.908294          47.688521\n",
       "108  well_C  10851.00  90.06   27.04         29.908294          47.688521\n",
       "109  well_C  10890.00  90.00   27.35         29.908294          47.688521\n",
       "\n",
       "[110 rows x 6 columns]"
      ]
     },
     "execution_count": 4,
     "metadata": {},
     "output_type": "execute_result"
    }
   ],
   "source": [
    "df"
   ]
  },
  {
   "cell_type": "code",
   "execution_count": 5,
   "metadata": {},
   "outputs": [],
   "source": [
    "# myItems = ItemList.from_folder(path, presort=True, include='data', recurse = True)\n",
    "# #print(myItems.items)\n",
    "# print(myItems.path)\n",
    "# print(myItems.items)\n",
    "# print(len(myItems))\n",
    "# print(myItems[0])"
   ]
  },
  {
   "cell_type": "code",
   "execution_count": 6,
   "metadata": {},
   "outputs": [
    {
     "name": "stdout",
     "output_type": "stream",
     "text": [
      "C:\\Users\\BpAmos\\Documents\\repos\\directional-survey-converter\\data\n",
      "[WindowsPath('C:/Users/BpAmos/Documents/repos/directional-survey-converter/data/wellbore_survey.csv')]\n",
      "1\n",
      "C:\\Users\\BpAmos\\Documents\\repos\\directional-survey-converter\\data\\wellbore_survey.csv\n"
     ]
    }
   ],
   "source": [
    "myItems = ItemList.from_folder(path/'data', extensions='.csv')\n",
    "#print(myItems.extensions)\n",
    "print(myItems.path)\n",
    "print(myItems.items)\n",
    "print(len(myItems))\n",
    "print(myItems[0])"
   ]
  },
  {
   "cell_type": "code",
   "execution_count": 7,
   "metadata": {},
   "outputs": [
    {
     "data": {
      "text/plain": [
       "ItemList (1 items)\n",
       "C:\\Users\\BpAmos\\Documents\\repos\\directional-survey-converter\\data\\wellbore_survey.csv\n",
       "Path: C:\\Users\\BpAmos\\Documents\\repos\\directional-survey-converter\\data"
      ]
     },
     "execution_count": 7,
     "metadata": {},
     "output_type": "execute_result"
    }
   ],
   "source": [
    "myItems"
   ]
  },
  {
   "cell_type": "code",
   "execution_count": 8,
   "metadata": {},
   "outputs": [],
   "source": [
    "#myItems.add(myItems)\n",
    "#myItems.items"
   ]
  },
  {
   "cell_type": "code",
   "execution_count": 9,
   "metadata": {},
   "outputs": [
    {
     "data": {
      "text/plain": [
       "array([WindowsPath('C:/Users/BpAmos/Documents/repos/directional-survey-converter/data/wellbore_survey.csv')],\n",
       "      dtype=object)"
      ]
     },
     "execution_count": 9,
     "metadata": {},
     "output_type": "execute_result"
    }
   ],
   "source": [
    "myItems.items[:]"
   ]
  },
  {
   "cell_type": "code",
   "execution_count": null,
   "metadata": {},
   "outputs": [],
   "source": []
  },
  {
   "cell_type": "code",
   "execution_count": 10,
   "metadata": {},
   "outputs": [],
   "source": [
    "class ItemBase():\n",
    "    \"Base item type in the library.\"\n",
    "    def __init__(self, path:Any):\n",
    "        self.path = path\n",
    "        self.extension = self.path.suffix"
   ]
  },
  {
   "cell_type": "code",
   "execution_count": 17,
   "metadata": {},
   "outputs": [],
   "source": [
    "class TransformOne(ItemBase):\n",
    "    def __init__(self, item):\n",
    "        super().__init__(item)\n",
    "        \n",
    "    def from_json(self, **kwargs):\n",
    "        if self.extension == '.json':\n",
    "            with open(self.path) as json_file:\n",
    "                data = json.load(json_file)\n",
    "                return data\n",
    "            json_file.close()\n",
    "    \n",
    "    @classmethod\n",
    "    def from_df(cls,  df:DataFrame, wellId_name: Optional[str] = None, md_name: Optional[str] = None,\n",
    "                inc_name: Optional[str] = None, azim_name: Optional[str] = None,\n",
    "                surface_latitude_name: Optional[str] = None,\n",
    "                surface_longitude_name: Optional[str] = None) -> 'DirectionalSurveyObj':\n",
    "    \n",
    "        # if no column names are specified use 0:5 for dir survey obj\n",
    "        wellId_name = ifnone(wellId_name, df.columns[0])\n",
    "        md_name = ifnone(md_name, df.columns[1])\n",
    "        inc_name = ifnone(inc_name, df.columns[2])\n",
    "        azim_name = ifnone(azim_name, df.columns[3])\n",
    "        surface_latitude_name = ifnone(surface_latitude_name, df.columns[4])\n",
    "        surface_longitude_name = ifnone(surface_longitude_name, df.columns[5])\n",
    "    \n",
    "        dataclass_obj = dict(wellId=df[wellId_name][0],\n",
    "                                   md=np.array(df[md_name]),\n",
    "                                   inc=np.array(df[inc_name]),\n",
    "                                   azim=np.array(df[azim_name]),\n",
    "                                   surface_latitude=df[surface_latitude_name][0],\n",
    "                                   surface_longitude=df[surface_longitude_name][0])\n",
    "        return dataclass_obj\n",
    "    \n",
    "    def from_csv(self, **kwargs):\n",
    "        if self.extension == '.csv':\n",
    "            print(self.path)\n",
    "            # go through csv steps\n",
    "            # Transform.from_csv: > return self.from_df\n",
    "            # self.from_df > return self.from_json\n",
    "            df = pd.read_csv(self.path, sep=',')\n",
    "            return self.from_df(df, **kwargs)"
   ]
  },
  {
   "cell_type": "code",
   "execution_count": 23,
   "metadata": {},
   "outputs": [
    {
     "ename": "IndexError",
     "evalue": "index 1 is out of bounds for axis 0 with size 1",
     "output_type": "error",
     "traceback": [
      "\u001b[1;31m---------------------------------------------------------------------------\u001b[0m",
      "\u001b[1;31mIndexError\u001b[0m                                Traceback (most recent call last)",
      "\u001b[1;32m<ipython-input-23-0793de96b9ab>\u001b[0m in \u001b[0;36m<module>\u001b[1;34m\u001b[0m\n\u001b[1;32m----> 1\u001b[1;33m \u001b[0mone_item\u001b[0m \u001b[1;33m=\u001b[0m \u001b[0mmyItems\u001b[0m\u001b[1;33m.\u001b[0m\u001b[0mitems\u001b[0m\u001b[1;33m[\u001b[0m\u001b[1;36m1\u001b[0m\u001b[1;33m]\u001b[0m\u001b[1;33m\u001b[0m\u001b[1;33m\u001b[0m\u001b[0m\n\u001b[0m\u001b[0;32m      2\u001b[0m \u001b[0mprint\u001b[0m\u001b[1;33m(\u001b[0m\u001b[0mone_item\u001b[0m\u001b[1;33m)\u001b[0m\u001b[1;33m\u001b[0m\u001b[1;33m\u001b[0m\u001b[0m\n\u001b[0;32m      3\u001b[0m \u001b[1;33m\u001b[0m\u001b[0m\n\u001b[0;32m      4\u001b[0m \u001b[0mone_item\u001b[0m \u001b[1;33m=\u001b[0m \u001b[0mItemBase\u001b[0m\u001b[1;33m(\u001b[0m\u001b[0mone_item\u001b[0m\u001b[1;33m)\u001b[0m\u001b[1;33m\u001b[0m\u001b[1;33m\u001b[0m\u001b[0m\n\u001b[0;32m      5\u001b[0m \u001b[0mprint\u001b[0m\u001b[1;33m(\u001b[0m\u001b[0mone_item\u001b[0m\u001b[1;33m.\u001b[0m\u001b[0mpath\u001b[0m\u001b[1;33m)\u001b[0m\u001b[1;33m\u001b[0m\u001b[1;33m\u001b[0m\u001b[0m\n",
      "\u001b[1;31mIndexError\u001b[0m: index 1 is out of bounds for axis 0 with size 1"
     ]
    }
   ],
   "source": [
    "one_item = myItems.items[1]\n",
    "print(one_item)\n",
    "\n",
    "one_item = ItemBase(one_item)\n",
    "print(one_item.path)\n",
    "print(one_item.extension)"
   ]
  },
  {
   "cell_type": "code",
   "execution_count": 22,
   "metadata": {},
   "outputs": [
    {
     "name": "stdout",
     "output_type": "stream",
     "text": [
      "C:\\Users\\BpAmos\\Documents\\repos\\directional-survey-converter\\data\\wellbore_survey.csv\n",
      ".csv\n"
     ]
    }
   ],
   "source": [
    "my_transform_one = TransformOne(myItems.items[0])\n",
    "print(my_transform_one.path)\n",
    "print(my_transform_one.extension)"
   ]
  },
  {
   "cell_type": "code",
   "execution_count": 20,
   "metadata": {},
   "outputs": [
    {
     "name": "stdout",
     "output_type": "stream",
     "text": [
      "C:\\Users\\BpAmos\\Documents\\repos\\directional-survey-converter\\data\\wellbore_survey.csv\n"
     ]
    },
    {
     "data": {
      "text/plain": [
       "{'wellId': 'well_C',\n",
       " 'md': array([    0.  ,    35.  ,   774.81,   800.  ,   900.  ,  1000.  ,\n",
       "         1100.  ,  1200.  ,  1300.  ,  1400.  ,  1500.  ,  1600.  ,\n",
       "         1700.  ,  1800.  ,  1900.  ,  2000.  ,  2100.  ,  2200.  ,\n",
       "         2300.  ,  2400.  ,  2500.  ,  2600.  ,  2700.  ,  2800.  ,\n",
       "         2900.  ,  3000.  ,  3100.  ,  3200.  ,  3300.  ,  3400.  ,\n",
       "         3500.  ,  3600.  ,  3700.  ,  3800.  ,  3900.  ,  4000.  ,\n",
       "         4100.  ,  4200.  ,  4300.  ,  4400.  ,  4500.  ,  4600.  ,\n",
       "         4700.  ,  4800.  ,  4900.  ,  5000.  ,  5100.  ,  5200.  ,\n",
       "         5300.  ,  5400.  ,  5500.  ,  5600.  ,  5700.  ,  5800.  ,\n",
       "         5900.  ,  6000.  ,  6100.  ,  6200.  ,  6300.  ,  6400.  ,\n",
       "         6450.67,  6532.  ,  6625.  ,  6720.  ,  6813.  ,  6909.  ,\n",
       "         7002.  ,  7098.  ,  7191.  ,  7286.  ,  7379.  ,  7475.  ,\n",
       "         7569.  ,  7663.  ,  7758.  ,  7851.  ,  7947.  ,  8040.  ,\n",
       "         8135.  ,  8229.  ,  8324.  ,  8418.  ,  8512.  ,  8606.  ,\n",
       "         8700.  ,  8794.  ,  8859.  ,  8924.  ,  9018.  ,  9112.  ,\n",
       "         9206.  ,  9292.  ,  9386.  ,  9481.  ,  9574.  ,  9669.  ,\n",
       "         9764.  ,  9858.  ,  9952.  , 10047.  , 10142.  , 10236.  ,\n",
       "        10330.  , 10424.  , 10517.  , 10613.  , 10707.  , 10802.  ,\n",
       "        10851.  , 10890.  ]),\n",
       " 'inc': array([ 0.  ,  0.  ,  0.46,  0.13,  0.57,  0.49,  0.29,  0.6 ,  0.53,\n",
       "         0.83,  0.61,  0.87,  1.17,  1.27,  1.21,  1.18,  1.24,  1.07,\n",
       "         1.14,  1.16,  0.86,  0.95,  1.22,  0.82,  0.83,  0.98,  0.87,\n",
       "         1.25,  1.06,  1.07,  1.34,  1.03,  1.17,  1.34,  1.37,  1.39,\n",
       "         1.16,  1.61,  1.58,  1.78,  1.78,  1.81,  1.86,  1.63,  1.51,\n",
       "         1.57,  1.09,  0.99,  0.88,  0.91,  0.83,  0.77,  0.64,  0.91,\n",
       "         0.94,  0.66,  1.09,  0.91,  0.95,  0.8 ,  4.91, 10.35, 15.28,\n",
       "        20.67, 26.19, 34.23, 40.44, 44.43, 45.39, 48.78, 51.19, 53.89,\n",
       "        56.1 , 58.69, 61.62, 64.38, 67.3 , 70.15, 72.39, 75.47, 78.67,\n",
       "        81.46, 84.59, 86.2 , 87.65, 89.13, 90.27, 89.72, 89.9 , 90.02,\n",
       "        90.05, 90.03, 89.94, 90.06, 90.37, 90.24, 90.06, 89.97, 89.88,\n",
       "        90.15, 90.03, 89.91, 89.97, 90.  , 89.88, 89.88, 90.  , 89.72,\n",
       "        90.06, 90.  ]),\n",
       " 'azim': array([227.11, 227.11, 227.11, 163.86, 230.43, 254.47, 268.25, 147.67,\n",
       "        236.56, 190.05, 342.93, 184.69, 187.06, 193.66, 195.77, 185.77,\n",
       "        214.81, 203.82, 189.81, 194.18, 109.65, 214.46, 205.35, 190.63,\n",
       "        187.75, 193.45, 188.19, 205.4 , 130.09, 218.09, 247.16, 245.17,\n",
       "        239.46, 234.52, 232.45, 228.1 , 199.28, 305.98, 213.22, 211.63,\n",
       "        207.08, 209.84, 204.39, 208.  , 208.46, 201.98, 187.95, 185.23,\n",
       "        165.95, 163.86, 138.75, 253.13, 132.16, 189.07, 141.79, 143.34,\n",
       "        306.53, 111.26, 117.69,  87.41,  55.44,  48.23,  50.93,  49.37,\n",
       "         48.77,  48.96,  48.41,  48.88,  49.58,  49.67,  49.73,  49.78,\n",
       "         49.14,  49.25,  49.5 ,  49.12,  48.63,  48.79,  48.83,  49.02,\n",
       "         49.49,  49.55,  49.29,  47.62,  47.22,  47.69,  48.36,  48.41,\n",
       "         44.97,  42.69,  40.86,  40.48,  40.36,  39.41,  38.74,  40.09,\n",
       "         38.63,  35.85,  33.71,  32.12,  30.91,  29.75,  28.78,  28.53,\n",
       "         29.28,  27.59,  26.69,  26.72,  27.04,  27.35]),\n",
       " 'surface_latitude': 0.0,\n",
       " 'surface_longitude': -118.0}"
      ]
     },
     "execution_count": 20,
     "metadata": {},
     "output_type": "execute_result"
    }
   ],
   "source": [
    "my_dict_obj = my_transform_one.from_csv()\n",
    "\n",
    "my_dict_obj"
   ]
  },
  {
   "cell_type": "code",
   "execution_count": 15,
   "metadata": {},
   "outputs": [],
   "source": [
    "# I HAVE GOTTEN TO THE POINT THAT I NEED TO serialize the json\n",
    "# once I can do that into the data class for both csv > df > dict > dataclass\n",
    "# and json > dict > dataclass\n",
    "\n",
    "# with everything serialzed in the correct format, then the dataclass obj validates \n",
    "# that all keys are the correct units, lenghts, values\n",
    "# then I can input them through the calc and i am pretty much done"
   ]
  },
  {
   "cell_type": "code",
   "execution_count": 16,
   "metadata": {},
   "outputs": [
    {
     "ename": "TypeError",
     "evalue": "Object of type ndarray is not JSON serializable",
     "output_type": "error",
     "traceback": [
      "\u001b[1;31m---------------------------------------------------------------------------\u001b[0m",
      "\u001b[1;31mTypeError\u001b[0m                                 Traceback (most recent call last)",
      "\u001b[1;32m<ipython-input-16-61a1212a5d43>\u001b[0m in \u001b[0;36m<module>\u001b[1;34m\u001b[0m\n\u001b[1;32m----> 1\u001b[1;33m \u001b[0mjson_data\u001b[0m \u001b[1;33m=\u001b[0m \u001b[0mjson\u001b[0m\u001b[1;33m.\u001b[0m\u001b[0mdumps\u001b[0m\u001b[1;33m(\u001b[0m\u001b[0mmy_dict_obj\u001b[0m\u001b[1;33m)\u001b[0m\u001b[1;33m\u001b[0m\u001b[1;33m\u001b[0m\u001b[0m\n\u001b[0m\u001b[0;32m      2\u001b[0m \u001b[0mjson_data\u001b[0m\u001b[1;33m\u001b[0m\u001b[1;33m\u001b[0m\u001b[0m\n",
      "\u001b[1;32m~\\anaconda3\\envs\\directional-survey\\lib\\json\\__init__.py\u001b[0m in \u001b[0;36mdumps\u001b[1;34m(obj, skipkeys, ensure_ascii, check_circular, allow_nan, cls, indent, separators, default, sort_keys, **kw)\u001b[0m\n\u001b[0;32m    229\u001b[0m         \u001b[0mcls\u001b[0m \u001b[1;32mis\u001b[0m \u001b[1;32mNone\u001b[0m \u001b[1;32mand\u001b[0m \u001b[0mindent\u001b[0m \u001b[1;32mis\u001b[0m \u001b[1;32mNone\u001b[0m \u001b[1;32mand\u001b[0m \u001b[0mseparators\u001b[0m \u001b[1;32mis\u001b[0m \u001b[1;32mNone\u001b[0m \u001b[1;32mand\u001b[0m\u001b[1;33m\u001b[0m\u001b[1;33m\u001b[0m\u001b[0m\n\u001b[0;32m    230\u001b[0m         default is None and not sort_keys and not kw):\n\u001b[1;32m--> 231\u001b[1;33m         \u001b[1;32mreturn\u001b[0m \u001b[0m_default_encoder\u001b[0m\u001b[1;33m.\u001b[0m\u001b[0mencode\u001b[0m\u001b[1;33m(\u001b[0m\u001b[0mobj\u001b[0m\u001b[1;33m)\u001b[0m\u001b[1;33m\u001b[0m\u001b[1;33m\u001b[0m\u001b[0m\n\u001b[0m\u001b[0;32m    232\u001b[0m     \u001b[1;32mif\u001b[0m \u001b[0mcls\u001b[0m \u001b[1;32mis\u001b[0m \u001b[1;32mNone\u001b[0m\u001b[1;33m:\u001b[0m\u001b[1;33m\u001b[0m\u001b[1;33m\u001b[0m\u001b[0m\n\u001b[0;32m    233\u001b[0m         \u001b[0mcls\u001b[0m \u001b[1;33m=\u001b[0m \u001b[0mJSONEncoder\u001b[0m\u001b[1;33m\u001b[0m\u001b[1;33m\u001b[0m\u001b[0m\n",
      "\u001b[1;32m~\\anaconda3\\envs\\directional-survey\\lib\\json\\encoder.py\u001b[0m in \u001b[0;36mencode\u001b[1;34m(self, o)\u001b[0m\n\u001b[0;32m    197\u001b[0m         \u001b[1;31m# exceptions aren't as detailed.  The list call should be roughly\u001b[0m\u001b[1;33m\u001b[0m\u001b[1;33m\u001b[0m\u001b[1;33m\u001b[0m\u001b[0m\n\u001b[0;32m    198\u001b[0m         \u001b[1;31m# equivalent to the PySequence_Fast that ''.join() would do.\u001b[0m\u001b[1;33m\u001b[0m\u001b[1;33m\u001b[0m\u001b[1;33m\u001b[0m\u001b[0m\n\u001b[1;32m--> 199\u001b[1;33m         \u001b[0mchunks\u001b[0m \u001b[1;33m=\u001b[0m \u001b[0mself\u001b[0m\u001b[1;33m.\u001b[0m\u001b[0miterencode\u001b[0m\u001b[1;33m(\u001b[0m\u001b[0mo\u001b[0m\u001b[1;33m,\u001b[0m \u001b[0m_one_shot\u001b[0m\u001b[1;33m=\u001b[0m\u001b[1;32mTrue\u001b[0m\u001b[1;33m)\u001b[0m\u001b[1;33m\u001b[0m\u001b[1;33m\u001b[0m\u001b[0m\n\u001b[0m\u001b[0;32m    200\u001b[0m         \u001b[1;32mif\u001b[0m \u001b[1;32mnot\u001b[0m \u001b[0misinstance\u001b[0m\u001b[1;33m(\u001b[0m\u001b[0mchunks\u001b[0m\u001b[1;33m,\u001b[0m \u001b[1;33m(\u001b[0m\u001b[0mlist\u001b[0m\u001b[1;33m,\u001b[0m \u001b[0mtuple\u001b[0m\u001b[1;33m)\u001b[0m\u001b[1;33m)\u001b[0m\u001b[1;33m:\u001b[0m\u001b[1;33m\u001b[0m\u001b[1;33m\u001b[0m\u001b[0m\n\u001b[0;32m    201\u001b[0m             \u001b[0mchunks\u001b[0m \u001b[1;33m=\u001b[0m \u001b[0mlist\u001b[0m\u001b[1;33m(\u001b[0m\u001b[0mchunks\u001b[0m\u001b[1;33m)\u001b[0m\u001b[1;33m\u001b[0m\u001b[1;33m\u001b[0m\u001b[0m\n",
      "\u001b[1;32m~\\anaconda3\\envs\\directional-survey\\lib\\json\\encoder.py\u001b[0m in \u001b[0;36miterencode\u001b[1;34m(self, o, _one_shot)\u001b[0m\n\u001b[0;32m    255\u001b[0m                 \u001b[0mself\u001b[0m\u001b[1;33m.\u001b[0m\u001b[0mkey_separator\u001b[0m\u001b[1;33m,\u001b[0m \u001b[0mself\u001b[0m\u001b[1;33m.\u001b[0m\u001b[0mitem_separator\u001b[0m\u001b[1;33m,\u001b[0m \u001b[0mself\u001b[0m\u001b[1;33m.\u001b[0m\u001b[0msort_keys\u001b[0m\u001b[1;33m,\u001b[0m\u001b[1;33m\u001b[0m\u001b[1;33m\u001b[0m\u001b[0m\n\u001b[0;32m    256\u001b[0m                 self.skipkeys, _one_shot)\n\u001b[1;32m--> 257\u001b[1;33m         \u001b[1;32mreturn\u001b[0m \u001b[0m_iterencode\u001b[0m\u001b[1;33m(\u001b[0m\u001b[0mo\u001b[0m\u001b[1;33m,\u001b[0m \u001b[1;36m0\u001b[0m\u001b[1;33m)\u001b[0m\u001b[1;33m\u001b[0m\u001b[1;33m\u001b[0m\u001b[0m\n\u001b[0m\u001b[0;32m    258\u001b[0m \u001b[1;33m\u001b[0m\u001b[0m\n\u001b[0;32m    259\u001b[0m def _make_iterencode(markers, _default, _encoder, _indent, _floatstr,\n",
      "\u001b[1;32m~\\anaconda3\\envs\\directional-survey\\lib\\json\\encoder.py\u001b[0m in \u001b[0;36mdefault\u001b[1;34m(self, o)\u001b[0m\n\u001b[0;32m    177\u001b[0m \u001b[1;33m\u001b[0m\u001b[0m\n\u001b[0;32m    178\u001b[0m         \"\"\"\n\u001b[1;32m--> 179\u001b[1;33m         raise TypeError(f'Object of type {o.__class__.__name__} '\n\u001b[0m\u001b[0;32m    180\u001b[0m                         f'is not JSON serializable')\n\u001b[0;32m    181\u001b[0m \u001b[1;33m\u001b[0m\u001b[0m\n",
      "\u001b[1;31mTypeError\u001b[0m: Object of type ndarray is not JSON serializable"
     ]
    }
   ],
   "source": [
    "json_data = json.dumps(my_dict_obj)\n",
    "json_data"
   ]
  },
  {
   "cell_type": "code",
   "execution_count": null,
   "metadata": {},
   "outputs": [],
   "source": []
  },
  {
   "cell_type": "code",
   "execution_count": null,
   "metadata": {},
   "outputs": [],
   "source": []
  },
  {
   "cell_type": "code",
   "execution_count": null,
   "metadata": {},
   "outputs": [],
   "source": [
    "DataObject(**my_dict_obj)"
   ]
  },
  {
   "cell_type": "code",
   "execution_count": null,
   "metadata": {},
   "outputs": [],
   "source": []
  },
  {
   "cell_type": "code",
   "execution_count": null,
   "metadata": {},
   "outputs": [],
   "source": []
  },
  {
   "cell_type": "code",
   "execution_count": null,
   "metadata": {},
   "outputs": [],
   "source": []
  },
  {
   "cell_type": "code",
   "execution_count": null,
   "metadata": {},
   "outputs": [],
   "source": []
  },
  {
   "cell_type": "code",
   "execution_count": null,
   "metadata": {},
   "outputs": [],
   "source": []
  },
  {
   "cell_type": "code",
   "execution_count": null,
   "metadata": {},
   "outputs": [],
   "source": []
  },
  {
   "cell_type": "code",
   "execution_count": null,
   "metadata": {},
   "outputs": [],
   "source": []
  },
  {
   "cell_type": "code",
   "execution_count": 14,
   "metadata": {},
   "outputs": [],
   "source": [
    "class TransformList(ItemList):\n",
    "    \"transform `ItemList` to proper format obj\"\n",
    "    def __init__(self, items:Iterator):\n",
    "        super().__init__(items)\n",
    "    \n",
    "    def get(self, i):\n",
    "        o = self.items[i]\n",
    "        if o is None: return None\n",
    "        return TransformOne(o)\n",
    "        "
   ]
  },
  {
   "cell_type": "code",
   "execution_count": 14,
   "metadata": {},
   "outputs": [],
   "source": [
    "\n",
    "        \n",
    "class TransformOne(ItemBase):\n",
    "\n",
    "    def __init__(self, item):\n",
    "        super().__init__(item)\n",
    "    \n",
    "    def from_json(self, **kwargs):\n",
    "        if self.extension == '.json':\n",
    "            with open(self.data) as json_file:\n",
    "                data = json.load(json_file)\n",
    "                return data\n",
    "            json_file.close()\n",
    "    \n",
    "    @classmethod\n",
    "    def from_df(cls,  df:DataFrame, wellId_name: Optional[str] = None, md_name: Optional[str] = None,\n",
    "                inc_name: Optional[str] = None, azim_name: Optional[str] = None,\n",
    "                surface_latitude_name: Optional[str] = None,\n",
    "                surface_longitude_name: Optional[str] = None) -> 'DirectionalSurveyObj':\n",
    "    \n",
    "        # if no column names are specified use 0:5 for dir survey obj\n",
    "        wellId_name = ifnone(wellId_name, df.columns[0])\n",
    "        md_name = ifnone(md_name, df.columns[1])\n",
    "        inc_name = ifnone(inc_name, df.columns[2])\n",
    "        azim_name = ifnone(azim_name, df.columns[3])\n",
    "        surface_latitude_name = ifnone(surface_latitude_name, df.columns[4])\n",
    "        surface_longitude_name = ifnone(surface_longitude_name, df.columns[5])\n",
    "    \n",
    "        dataclass_obj = dict(wellId=df[wellId_name][0],\n",
    "                                   md=np.array(df[md_name]),\n",
    "                                   inc=np.array(df[inc_name]),\n",
    "                                   azim=np.array(df[azim_name]),\n",
    "                                   surface_latitude=df[surface_latitude_name][0],\n",
    "                                   surface_longitude=df[surface_longitude_name][0])\n",
    "        return dataclass_obj\n",
    "    \n",
    "    def from_csv(self, **kwargs):\n",
    "        if self.extension == '.csv':\n",
    "            print(self.data)\n",
    "            # go through csv steps\n",
    "            # Transform.from_csv: > return self.from_df\n",
    "            # self.from_df > return self.from_json\n",
    "            df = pd.read_csv(self.data, sep=',')\n",
    "            return self.from_df(df, **kwargs)\n",
    "    \n"
   ]
  },
  {
   "cell_type": "code",
   "execution_count": 15,
   "metadata": {},
   "outputs": [],
   "source": [
    "class ItemBase():\n",
    "    \"Base item type in the library.\"\n",
    "    def __init__(self, data:Any):\n",
    "        self.data = data\n",
    "        self.extension = self.data.suffix"
   ]
  },
  {
   "cell_type": "code",
   "execution_count": 16,
   "metadata": {},
   "outputs": [
    {
     "data": {
      "text/plain": [
       "TransformList (1 items)\n",
       "<__main__.TransformOne object at 0x00000192374B5BC8>\n",
       "Path: ."
      ]
     },
     "execution_count": 16,
     "metadata": {},
     "output_type": "execute_result"
    }
   ],
   "source": [
    "my_transfrom_list = TransformList(myItems)\n",
    "my_transfrom_list\n"
   ]
  },
  {
   "cell_type": "code",
   "execution_count": 17,
   "metadata": {},
   "outputs": [
    {
     "data": {
      "text/plain": [
       "'.json'"
      ]
     },
     "execution_count": 17,
     "metadata": {},
     "output_type": "execute_result"
    }
   ],
   "source": [
    "my_transform_one = my_transfrom_list.get(0)\n",
    "my_transform_one.data\n",
    "my_transform_one.extension"
   ]
  },
  {
   "cell_type": "code",
   "execution_count": 18,
   "metadata": {},
   "outputs": [
    {
     "name": "stdout",
     "output_type": "stream",
     "text": [
      "C:\\Users\\BpAmos\\Documents\\repos\\directional-survey-converter\\data\\wellbore_survey.json\n",
      ".json\n"
     ]
    }
   ],
   "source": [
    "my_trans = TransformList(myItems)\n",
    "my_trans = my_trans.get(0)\n",
    "print(my_trans.data)\n",
    "print(my_trans.extension)"
   ]
  },
  {
   "cell_type": "code",
   "execution_count": 19,
   "metadata": {},
   "outputs": [
    {
     "name": "stdout",
     "output_type": "stream",
     "text": [
      "C:\\Users\\BpAmos\\Documents\\repos\\directional-survey-converter\\data\\wellbore_survey.json\n",
      ".json\n"
     ]
    },
    {
     "data": {
      "text/plain": [
       "{'wellId': 'well_C',\n",
       " 'md': [0.0,\n",
       "  35.0,\n",
       "  774.81,\n",
       "  800.0,\n",
       "  900.0,\n",
       "  1000.0,\n",
       "  1100.0,\n",
       "  1200.0,\n",
       "  1300.0,\n",
       "  1400.0,\n",
       "  1500.0,\n",
       "  1600.0,\n",
       "  1700.0,\n",
       "  1800.0,\n",
       "  1900.0,\n",
       "  2000.0,\n",
       "  2100.0,\n",
       "  2200.0,\n",
       "  2300.0,\n",
       "  2400.0,\n",
       "  2500.0,\n",
       "  2600.0,\n",
       "  2700.0,\n",
       "  2800.0,\n",
       "  2900.0,\n",
       "  3000.0,\n",
       "  3100.0,\n",
       "  3200.0,\n",
       "  3300.0,\n",
       "  3400.0,\n",
       "  3500.0,\n",
       "  3600.0,\n",
       "  3700.0,\n",
       "  3800.0,\n",
       "  3900.0,\n",
       "  4000.0,\n",
       "  4100.0,\n",
       "  4200.0,\n",
       "  4300.0,\n",
       "  4400.0,\n",
       "  4500.0,\n",
       "  4600.0,\n",
       "  4700.0,\n",
       "  4800.0,\n",
       "  4900.0,\n",
       "  5000.0,\n",
       "  5100.0,\n",
       "  5200.0,\n",
       "  5300.0,\n",
       "  5400.0,\n",
       "  5500.0,\n",
       "  5600.0,\n",
       "  5700.0,\n",
       "  5800.0,\n",
       "  5900.0,\n",
       "  6000.0,\n",
       "  6100.0,\n",
       "  6200.0,\n",
       "  6300.0,\n",
       "  6400.0,\n",
       "  6450.67,\n",
       "  6532.0,\n",
       "  6625.0,\n",
       "  6720.0,\n",
       "  6813.0,\n",
       "  6909.0,\n",
       "  7002.0,\n",
       "  7098.0,\n",
       "  7191.0,\n",
       "  7286.0,\n",
       "  7379.0,\n",
       "  7475.0,\n",
       "  7569.0,\n",
       "  7663.0,\n",
       "  7758.0,\n",
       "  7851.0,\n",
       "  7947.0,\n",
       "  8040.0,\n",
       "  8135.0,\n",
       "  8229.0,\n",
       "  8324.0,\n",
       "  8418.0,\n",
       "  8512.0,\n",
       "  8606.0,\n",
       "  8700.0,\n",
       "  8794.0,\n",
       "  8859.0,\n",
       "  8924.0,\n",
       "  9018.0,\n",
       "  9112.0,\n",
       "  9206.0,\n",
       "  9292.0,\n",
       "  9386.0,\n",
       "  9481.0,\n",
       "  9574.0,\n",
       "  9669.0,\n",
       "  9764.0,\n",
       "  9858.0,\n",
       "  9952.0,\n",
       "  10047.0,\n",
       "  10142.0,\n",
       "  10236.0,\n",
       "  10330.0,\n",
       "  10424.0,\n",
       "  10517.0,\n",
       "  10613.0,\n",
       "  10707.0,\n",
       "  10802.0,\n",
       "  10851.0,\n",
       "  10890.0],\n",
       " 'inc': [0.0,\n",
       "  0.0,\n",
       "  0.46,\n",
       "  0.13,\n",
       "  0.57,\n",
       "  0.49,\n",
       "  0.29,\n",
       "  0.6,\n",
       "  0.53,\n",
       "  0.83,\n",
       "  0.61,\n",
       "  0.87,\n",
       "  1.17,\n",
       "  1.27,\n",
       "  1.21,\n",
       "  1.18,\n",
       "  1.24,\n",
       "  1.07,\n",
       "  1.14,\n",
       "  1.16,\n",
       "  0.86,\n",
       "  0.95,\n",
       "  1.22,\n",
       "  0.82,\n",
       "  0.83,\n",
       "  0.98,\n",
       "  0.87,\n",
       "  1.25,\n",
       "  1.06,\n",
       "  1.07,\n",
       "  1.34,\n",
       "  1.03,\n",
       "  1.17,\n",
       "  1.34,\n",
       "  1.37,\n",
       "  1.39,\n",
       "  1.16,\n",
       "  1.61,\n",
       "  1.58,\n",
       "  1.78,\n",
       "  1.78,\n",
       "  1.81,\n",
       "  1.86,\n",
       "  1.63,\n",
       "  1.51,\n",
       "  1.57,\n",
       "  1.09,\n",
       "  0.99,\n",
       "  0.88,\n",
       "  0.91,\n",
       "  0.83,\n",
       "  0.77,\n",
       "  0.64,\n",
       "  0.91,\n",
       "  0.94,\n",
       "  0.66,\n",
       "  1.09,\n",
       "  0.91,\n",
       "  0.95,\n",
       "  0.8,\n",
       "  4.91,\n",
       "  10.35,\n",
       "  15.28,\n",
       "  20.67,\n",
       "  26.19,\n",
       "  34.23,\n",
       "  40.44,\n",
       "  44.43,\n",
       "  45.39,\n",
       "  48.78,\n",
       "  51.19,\n",
       "  53.89,\n",
       "  56.1,\n",
       "  58.69,\n",
       "  61.62,\n",
       "  64.38,\n",
       "  67.3,\n",
       "  70.15,\n",
       "  72.39,\n",
       "  75.47,\n",
       "  78.67,\n",
       "  81.46,\n",
       "  84.59,\n",
       "  86.2,\n",
       "  87.65,\n",
       "  89.13,\n",
       "  90.27,\n",
       "  89.72,\n",
       "  89.9,\n",
       "  90.02,\n",
       "  90.05,\n",
       "  90.03,\n",
       "  89.94,\n",
       "  90.06,\n",
       "  90.37,\n",
       "  90.24,\n",
       "  90.06,\n",
       "  89.97,\n",
       "  89.88,\n",
       "  90.15,\n",
       "  90.03,\n",
       "  89.91,\n",
       "  89.97,\n",
       "  90.0,\n",
       "  89.88,\n",
       "  89.88,\n",
       "  90.0,\n",
       "  89.72,\n",
       "  90.06,\n",
       "  90.0],\n",
       " 'azim': [227.11,\n",
       "  227.11,\n",
       "  227.11,\n",
       "  163.86,\n",
       "  230.43,\n",
       "  254.47,\n",
       "  268.25,\n",
       "  147.67,\n",
       "  236.56,\n",
       "  190.05,\n",
       "  342.93,\n",
       "  184.69,\n",
       "  187.06,\n",
       "  193.66,\n",
       "  195.77,\n",
       "  185.77,\n",
       "  214.81,\n",
       "  203.82,\n",
       "  189.81,\n",
       "  194.18,\n",
       "  109.65,\n",
       "  214.46,\n",
       "  205.35,\n",
       "  190.63,\n",
       "  187.75,\n",
       "  193.45,\n",
       "  188.19,\n",
       "  205.4,\n",
       "  130.09,\n",
       "  218.09,\n",
       "  247.16,\n",
       "  245.17,\n",
       "  239.46,\n",
       "  234.52,\n",
       "  232.45,\n",
       "  228.1,\n",
       "  199.28,\n",
       "  305.98,\n",
       "  213.22,\n",
       "  211.63,\n",
       "  207.08,\n",
       "  209.84,\n",
       "  204.39,\n",
       "  208.0,\n",
       "  208.46,\n",
       "  201.98,\n",
       "  187.95,\n",
       "  185.23,\n",
       "  165.95,\n",
       "  163.86,\n",
       "  138.75,\n",
       "  253.13,\n",
       "  132.16,\n",
       "  189.07,\n",
       "  141.79,\n",
       "  143.34,\n",
       "  306.53,\n",
       "  111.26,\n",
       "  117.69,\n",
       "  87.41,\n",
       "  55.44,\n",
       "  48.23,\n",
       "  50.93,\n",
       "  49.37,\n",
       "  48.77,\n",
       "  48.96,\n",
       "  48.41,\n",
       "  48.88,\n",
       "  49.58,\n",
       "  49.67,\n",
       "  49.73,\n",
       "  49.78,\n",
       "  49.14,\n",
       "  49.25,\n",
       "  49.5,\n",
       "  49.12,\n",
       "  48.63,\n",
       "  48.79,\n",
       "  48.83,\n",
       "  49.02,\n",
       "  49.49,\n",
       "  49.55,\n",
       "  49.29,\n",
       "  47.62,\n",
       "  47.22,\n",
       "  47.69,\n",
       "  48.36,\n",
       "  48.41,\n",
       "  44.97,\n",
       "  42.69,\n",
       "  40.86,\n",
       "  40.48,\n",
       "  40.36,\n",
       "  39.41,\n",
       "  38.74,\n",
       "  40.09,\n",
       "  38.63,\n",
       "  35.85,\n",
       "  33.71,\n",
       "  32.12,\n",
       "  30.91,\n",
       "  29.75,\n",
       "  28.78,\n",
       "  28.53,\n",
       "  29.28,\n",
       "  27.59,\n",
       "  26.69,\n",
       "  26.72,\n",
       "  27.04,\n",
       "  27.35],\n",
       " 'surface_latitude': 29.90829444,\n",
       " 'surface_longitude': 47.68852083}"
      ]
     },
     "execution_count": 19,
     "metadata": {},
     "output_type": "execute_result"
    }
   ],
   "source": [
    "my_trans = TransformList(myItems)\n",
    "my_trans =  my_trans.get(0)\n",
    "print(my_trans.data)\n",
    "print(my_trans.extension)\n",
    "\n",
    "#my_obj = my_trans.from_csv()\n",
    "my_obj = my_trans.from_json()\n",
    "my_obj"
   ]
  },
  {
   "cell_type": "code",
   "execution_count": 20,
   "metadata": {},
   "outputs": [
    {
     "ename": "ValueError",
     "evalue": "The field `md` was assigned by `<class 'list'>` instead of `<class 'numpy.ndarray'>`",
     "output_type": "error",
     "traceback": [
      "\u001b[1;31m---------------------------------------------------------------------------\u001b[0m",
      "\u001b[1;31mValueError\u001b[0m                                Traceback (most recent call last)",
      "\u001b[1;32m<ipython-input-20-b252817fa9a0>\u001b[0m in \u001b[0;36m<module>\u001b[1;34m\u001b[0m\n\u001b[1;32m----> 1\u001b[1;33m \u001b[0mmy_data_obj\u001b[0m \u001b[1;33m=\u001b[0m \u001b[0mDataObject\u001b[0m\u001b[1;33m(\u001b[0m\u001b[1;33m**\u001b[0m\u001b[0mmy_obj\u001b[0m\u001b[1;33m)\u001b[0m\u001b[1;33m\u001b[0m\u001b[1;33m\u001b[0m\u001b[0m\n\u001b[0m\u001b[0;32m      2\u001b[0m \u001b[0mmy_data_obj\u001b[0m\u001b[1;33m.\u001b[0m\u001b[0mmd\u001b[0m\u001b[1;33m\u001b[0m\u001b[1;33m\u001b[0m\u001b[0m\n",
      "\u001b[1;32m~\\Documents\\repos\\directional-survey-converter\\src\\data_object.py\u001b[0m in \u001b[0;36m__init__\u001b[1;34m(self, wellId, md, inc, azim, surface_latitude, surface_longitude, tvd, n_s_deviation, e_w_deviation, dls, surface_x, surface_y, x_points, y_points, zone_number, zone_letter, latitude_points, longitude_points, isHorizontal)\u001b[0m\n",
      "\u001b[1;32m~\\Documents\\repos\\directional-survey-converter\\src\\data_object.py\u001b[0m in \u001b[0;36m__post_init__\u001b[1;34m(self)\u001b[0m\n\u001b[0;32m    133\u001b[0m                     \u001b[1;32mpass\u001b[0m\u001b[1;33m\u001b[0m\u001b[1;33m\u001b[0m\u001b[0m\n\u001b[0;32m    134\u001b[0m                 \u001b[1;32melse\u001b[0m\u001b[1;33m:\u001b[0m\u001b[1;33m\u001b[0m\u001b[1;33m\u001b[0m\u001b[0m\n\u001b[1;32m--> 135\u001b[1;33m                     \u001b[1;32mraise\u001b[0m \u001b[0mValueError\u001b[0m\u001b[1;33m(\u001b[0m\u001b[1;34mf\"The field `{name}` was assigned by `{current_type}` instead of `{field_type}`\"\u001b[0m\u001b[1;33m)\u001b[0m\u001b[1;33m\u001b[0m\u001b[1;33m\u001b[0m\u001b[0m\n\u001b[0m\u001b[0;32m    136\u001b[0m         \u001b[0mself\u001b[0m\u001b[1;33m.\u001b[0m\u001b[0mvalidate_array_length\u001b[0m\u001b[1;33m(\u001b[0m\u001b[1;33m)\u001b[0m\u001b[1;33m\u001b[0m\u001b[1;33m\u001b[0m\u001b[0m\n\u001b[0;32m    137\u001b[0m         \u001b[0mself\u001b[0m\u001b[1;33m.\u001b[0m\u001b[0mvalidate_array_sign\u001b[0m\u001b[1;33m(\u001b[0m\u001b[1;33m)\u001b[0m\u001b[1;33m\u001b[0m\u001b[1;33m\u001b[0m\u001b[0m\n",
      "\u001b[1;31mValueError\u001b[0m: The field `md` was assigned by `<class 'list'>` instead of `<class 'numpy.ndarray'>`"
     ]
    }
   ],
   "source": [
    "my_data_obj = DataObject(**my_obj)\n",
    "my_data_obj.md"
   ]
  },
  {
   "cell_type": "code",
   "execution_count": null,
   "metadata": {},
   "outputs": [],
   "source": []
  },
  {
   "cell_type": "code",
   "execution_count": null,
   "metadata": {},
   "outputs": [],
   "source": []
  },
  {
   "cell_type": "code",
   "execution_count": null,
   "metadata": {},
   "outputs": [],
   "source": []
  },
  {
   "cell_type": "code",
   "execution_count": null,
   "metadata": {},
   "outputs": [],
   "source": []
  },
  {
   "cell_type": "code",
   "execution_count": null,
   "metadata": {},
   "outputs": [],
   "source": []
  },
  {
   "cell_type": "code",
   "execution_count": 481,
   "metadata": {},
   "outputs": [
    {
     "name": "stdout",
     "output_type": "stream",
     "text": [
      "0\n",
      "{'wellId': 'well_C', 'md': [0.0, 35.0, 774.81, 800.0, 900.0, 1000.0, 1100.0, 1200.0, 1300.0, 1400.0, 1500.0, 1600.0, 1700.0, 1800.0, 1900.0, 2000.0, 2100.0, 2200.0, 2300.0, 2400.0, 2500.0, 2600.0, 2700.0, 2800.0, 2900.0, 3000.0, 3100.0, 3200.0, 3300.0, 3400.0, 3500.0, 3600.0, 3700.0, 3800.0, 3900.0, 4000.0, 4100.0, 4200.0, 4300.0, 4400.0, 4500.0, 4600.0, 4700.0, 4800.0, 4900.0, 5000.0, 5100.0, 5200.0, 5300.0, 5400.0, 5500.0, 5600.0, 5700.0, 5800.0, 5900.0, 6000.0, 6100.0, 6200.0, 6300.0, 6400.0, 6450.67, 6532.0, 6625.0, 6720.0, 6813.0, 6909.0, 7002.0, 7098.0, 7191.0, 7286.0, 7379.0, 7475.0, 7569.0, 7663.0, 7758.0, 7851.0, 7947.0, 8040.0, 8135.0, 8229.0, 8324.0, 8418.0, 8512.0, 8606.0, 8700.0, 8794.0, 8859.0, 8924.0, 9018.0, 9112.0, 9206.0, 9292.0, 9386.0, 9481.0, 9574.0, 9669.0, 9764.0, 9858.0, 9952.0, 10047.0, 10142.0, 10236.0, 10330.0, 10424.0, 10517.0, 10613.0, 10707.0, 10802.0, 10851.0, 10890.0], 'inc': [0.0, 0.0, 0.46, 0.13, 0.57, 0.49, 0.29, 0.6, 0.53, 0.83, 0.61, 0.87, 1.17, 1.27, 1.21, 1.18, 1.24, 1.07, 1.14, 1.16, 0.86, 0.95, 1.22, 0.82, 0.83, 0.98, 0.87, 1.25, 1.06, 1.07, 1.34, 1.03, 1.17, 1.34, 1.37, 1.39, 1.16, 1.61, 1.58, 1.78, 1.78, 1.81, 1.86, 1.63, 1.51, 1.57, 1.09, 0.99, 0.88, 0.91, 0.83, 0.77, 0.64, 0.91, 0.94, 0.66, 1.09, 0.91, 0.95, 0.8, 4.91, 10.35, 15.28, 20.67, 26.19, 34.23, 40.44, 44.43, 45.39, 48.78, 51.19, 53.89, 56.1, 58.69, 61.62, 64.38, 67.3, 70.15, 72.39, 75.47, 78.67, 81.46, 84.59, 86.2, 87.65, 89.13, 90.27, 89.72, 89.9, 90.02, 90.05, 90.03, 89.94, 90.06, 90.37, 90.24, 90.06, 89.97, 89.88, 90.15, 90.03, 89.91, 89.97, 90.0, 89.88, 89.88, 90.0, 89.72, 90.06, 90.0], 'azim': [227.11, 227.11, 227.11, 163.86, 230.43, 254.47, 268.25, 147.67, 236.56, 190.05, 342.93, 184.69, 187.06, 193.66, 195.77, 185.77, 214.81, 203.82, 189.81, 194.18, 109.65, 214.46, 205.35, 190.63, 187.75, 193.45, 188.19, 205.4, 130.09, 218.09, 247.16, 245.17, 239.46, 234.52, 232.45, 228.1, 199.28, 305.98, 213.22, 211.63, 207.08, 209.84, 204.39, 208.0, 208.46, 201.98, 187.95, 185.23, 165.95, 163.86, 138.75, 253.13, 132.16, 189.07, 141.79, 143.34, 306.53, 111.26, 117.69, 87.41, 55.44, 48.23, 50.93, 49.37, 48.77, 48.96, 48.41, 48.88, 49.58, 49.67, 49.73, 49.78, 49.14, 49.25, 49.5, 49.12, 48.63, 48.79, 48.83, 49.02, 49.49, 49.55, 49.29, 47.62, 47.22, 47.69, 48.36, 48.41, 44.97, 42.69, 40.86, 40.48, 40.36, 39.41, 38.74, 40.09, 38.63, 35.85, 33.71, 32.12, 30.91, 29.75, 28.78, 28.53, 29.28, 27.59, 26.69, 26.72, 27.04, 27.35], 'surface_latitude': 29.90829444, 'surface_longitude': 47.68852083}\n",
      "1\n",
      "{'wellId': 'well_C', 'md': [0.0, 35.0, 774.81, 800.0, 900.0, 1000.0, 1100.0, 1200.0, 1300.0, 1400.0, 1500.0, 1600.0, 1700.0, 1800.0, 1900.0, 2000.0, 2100.0, 2200.0, 2300.0, 2400.0, 2500.0, 2600.0, 2700.0, 2800.0, 2900.0, 3000.0, 3100.0, 3200.0, 3300.0, 3400.0, 3500.0, 3600.0, 3700.0, 3800.0, 3900.0, 4000.0, 4100.0, 4200.0, 4300.0, 4400.0, 4500.0, 4600.0, 4700.0, 4800.0, 4900.0, 5000.0, 5100.0, 5200.0, 5300.0, 5400.0, 5500.0, 5600.0, 5700.0, 5800.0, 5900.0, 6000.0, 6100.0, 6200.0, 6300.0, 6400.0, 6450.67, 6532.0, 6625.0, 6720.0, 6813.0, 6909.0, 7002.0, 7098.0, 7191.0, 7286.0, 7379.0, 7475.0, 7569.0, 7663.0, 7758.0, 7851.0, 7947.0, 8040.0, 8135.0, 8229.0, 8324.0, 8418.0, 8512.0, 8606.0, 8700.0, 8794.0, 8859.0, 8924.0, 9018.0, 9112.0, 9206.0, 9292.0, 9386.0, 9481.0, 9574.0, 9669.0, 9764.0, 9858.0, 9952.0, 10047.0, 10142.0, 10236.0, 10330.0, 10424.0, 10517.0, 10613.0, 10707.0, 10802.0, 10851.0, 10890.0], 'inc': [0.0, 0.0, 0.46, 0.13, 0.57, 0.49, 0.29, 0.6, 0.53, 0.83, 0.61, 0.87, 1.17, 1.27, 1.21, 1.18, 1.24, 1.07, 1.14, 1.16, 0.86, 0.95, 1.22, 0.82, 0.83, 0.98, 0.87, 1.25, 1.06, 1.07, 1.34, 1.03, 1.17, 1.34, 1.37, 1.39, 1.16, 1.61, 1.58, 1.78, 1.78, 1.81, 1.86, 1.63, 1.51, 1.57, 1.09, 0.99, 0.88, 0.91, 0.83, 0.77, 0.64, 0.91, 0.94, 0.66, 1.09, 0.91, 0.95, 0.8, 4.91, 10.35, 15.28, 20.67, 26.19, 34.23, 40.44, 44.43, 45.39, 48.78, 51.19, 53.89, 56.1, 58.69, 61.62, 64.38, 67.3, 70.15, 72.39, 75.47, 78.67, 81.46, 84.59, 86.2, 87.65, 89.13, 90.27, 89.72, 89.9, 90.02, 90.05, 90.03, 89.94, 90.06, 90.37, 90.24, 90.06, 89.97, 89.88, 90.15, 90.03, 89.91, 89.97, 90.0, 89.88, 89.88, 90.0, 89.72, 90.06, 90.0], 'azim': [227.11, 227.11, 227.11, 163.86, 230.43, 254.47, 268.25, 147.67, 236.56, 190.05, 342.93, 184.69, 187.06, 193.66, 195.77, 185.77, 214.81, 203.82, 189.81, 194.18, 109.65, 214.46, 205.35, 190.63, 187.75, 193.45, 188.19, 205.4, 130.09, 218.09, 247.16, 245.17, 239.46, 234.52, 232.45, 228.1, 199.28, 305.98, 213.22, 211.63, 207.08, 209.84, 204.39, 208.0, 208.46, 201.98, 187.95, 185.23, 165.95, 163.86, 138.75, 253.13, 132.16, 189.07, 141.79, 143.34, 306.53, 111.26, 117.69, 87.41, 55.44, 48.23, 50.93, 49.37, 48.77, 48.96, 48.41, 48.88, 49.58, 49.67, 49.73, 49.78, 49.14, 49.25, 49.5, 49.12, 48.63, 48.79, 48.83, 49.02, 49.49, 49.55, 49.29, 47.62, 47.22, 47.69, 48.36, 48.41, 44.97, 42.69, 40.86, 40.48, 40.36, 39.41, 38.74, 40.09, 38.63, 35.85, 33.71, 32.12, 30.91, 29.75, 28.78, 28.53, 29.28, 27.59, 26.69, 26.72, 27.04, 27.35], 'surface_latitude': 29.90829444, 'surface_longitude': 47.68852083}\n"
     ]
    }
   ],
   "source": [
    "my_trans = TransformList(myItems)\n",
    "for i in range(0,len(my_trans)):\n",
    "    print(i)\n",
    "    my_obj = my_trans.get(i)\n",
    "    print(my_obj.from_json())\n",
    "    "
   ]
  },
  {
   "cell_type": "code",
   "execution_count": null,
   "metadata": {},
   "outputs": [],
   "source": []
  },
  {
   "cell_type": "code",
   "execution_count": 306,
   "metadata": {},
   "outputs": [
    {
     "name": "stdout",
     "output_type": "stream",
     "text": [
      "C:\\Users\\BpAmos\\Documents\\repos\\directional-survey-converter\\data\\wellbore_survey.csv\n"
     ]
    },
    {
     "data": {
      "text/plain": [
       "DataObject(wellId='well_C', md=array([    0.  ,    35.  ,   774.81,   800.  ,   900.  ,  1000.  ,\n",
       "        1100.  ,  1200.  ,  1300.  ,  1400.  ,  1500.  ,  1600.  ,\n",
       "        1700.  ,  1800.  ,  1900.  ,  2000.  ,  2100.  ,  2200.  ,\n",
       "        2300.  ,  2400.  ,  2500.  ,  2600.  ,  2700.  ,  2800.  ,\n",
       "        2900.  ,  3000.  ,  3100.  ,  3200.  ,  3300.  ,  3400.  ,\n",
       "        3500.  ,  3600.  ,  3700.  ,  3800.  ,  3900.  ,  4000.  ,\n",
       "        4100.  ,  4200.  ,  4300.  ,  4400.  ,  4500.  ,  4600.  ,\n",
       "        4700.  ,  4800.  ,  4900.  ,  5000.  ,  5100.  ,  5200.  ,\n",
       "        5300.  ,  5400.  ,  5500.  ,  5600.  ,  5700.  ,  5800.  ,\n",
       "        5900.  ,  6000.  ,  6100.  ,  6200.  ,  6300.  ,  6400.  ,\n",
       "        6450.67,  6532.  ,  6625.  ,  6720.  ,  6813.  ,  6909.  ,\n",
       "        7002.  ,  7098.  ,  7191.  ,  7286.  ,  7379.  ,  7475.  ,\n",
       "        7569.  ,  7663.  ,  7758.  ,  7851.  ,  7947.  ,  8040.  ,\n",
       "        8135.  ,  8229.  ,  8324.  ,  8418.  ,  8512.  ,  8606.  ,\n",
       "        8700.  ,  8794.  ,  8859.  ,  8924.  ,  9018.  ,  9112.  ,\n",
       "        9206.  ,  9292.  ,  9386.  ,  9481.  ,  9574.  ,  9669.  ,\n",
       "        9764.  ,  9858.  ,  9952.  , 10047.  , 10142.  , 10236.  ,\n",
       "       10330.  , 10424.  , 10517.  , 10613.  , 10707.  , 10802.  ,\n",
       "       10851.  , 10890.  ]), inc=array([ 0.  ,  0.  ,  0.46,  0.13,  0.57,  0.49,  0.29,  0.6 ,  0.53,\n",
       "        0.83,  0.61,  0.87,  1.17,  1.27,  1.21,  1.18,  1.24,  1.07,\n",
       "        1.14,  1.16,  0.86,  0.95,  1.22,  0.82,  0.83,  0.98,  0.87,\n",
       "        1.25,  1.06,  1.07,  1.34,  1.03,  1.17,  1.34,  1.37,  1.39,\n",
       "        1.16,  1.61,  1.58,  1.78,  1.78,  1.81,  1.86,  1.63,  1.51,\n",
       "        1.57,  1.09,  0.99,  0.88,  0.91,  0.83,  0.77,  0.64,  0.91,\n",
       "        0.94,  0.66,  1.09,  0.91,  0.95,  0.8 ,  4.91, 10.35, 15.28,\n",
       "       20.67, 26.19, 34.23, 40.44, 44.43, 45.39, 48.78, 51.19, 53.89,\n",
       "       56.1 , 58.69, 61.62, 64.38, 67.3 , 70.15, 72.39, 75.47, 78.67,\n",
       "       81.46, 84.59, 86.2 , 87.65, 89.13, 90.27, 89.72, 89.9 , 90.02,\n",
       "       90.05, 90.03, 89.94, 90.06, 90.37, 90.24, 90.06, 89.97, 89.88,\n",
       "       90.15, 90.03, 89.91, 89.97, 90.  , 89.88, 89.88, 90.  , 89.72,\n",
       "       90.06, 90.  ]), azim=array([227.11, 227.11, 227.11, 163.86, 230.43, 254.47, 268.25, 147.67,\n",
       "       236.56, 190.05, 342.93, 184.69, 187.06, 193.66, 195.77, 185.77,\n",
       "       214.81, 203.82, 189.81, 194.18, 109.65, 214.46, 205.35, 190.63,\n",
       "       187.75, 193.45, 188.19, 205.4 , 130.09, 218.09, 247.16, 245.17,\n",
       "       239.46, 234.52, 232.45, 228.1 , 199.28, 305.98, 213.22, 211.63,\n",
       "       207.08, 209.84, 204.39, 208.  , 208.46, 201.98, 187.95, 185.23,\n",
       "       165.95, 163.86, 138.75, 253.13, 132.16, 189.07, 141.79, 143.34,\n",
       "       306.53, 111.26, 117.69,  87.41,  55.44,  48.23,  50.93,  49.37,\n",
       "        48.77,  48.96,  48.41,  48.88,  49.58,  49.67,  49.73,  49.78,\n",
       "        49.14,  49.25,  49.5 ,  49.12,  48.63,  48.79,  48.83,  49.02,\n",
       "        49.49,  49.55,  49.29,  47.62,  47.22,  47.69,  48.36,  48.41,\n",
       "        44.97,  42.69,  40.86,  40.48,  40.36,  39.41,  38.74,  40.09,\n",
       "        38.63,  35.85,  33.71,  32.12,  30.91,  29.75,  28.78,  28.53,\n",
       "        29.28,  27.59,  26.69,  26.72,  27.04,  27.35]), surface_latitude=0.0, surface_longitude=-118.0, tvd=None, n_s_deviation=None, e_w_deviation=None, dls=None, surface_x=None, surface_y=None, x_points=None, y_points=None, zone_number=None, zone_letter=None, latitude_points=None, longitude_points=None, isHorizontal=None)"
      ]
     },
     "execution_count": 306,
     "metadata": {},
     "output_type": "execute_result"
    }
   ],
   "source": [
    "oneItem = myItems.items[0]\n",
    "\n",
    "extension = oneItem.suffix\n",
    "if extension == '.csv':\n",
    "    print(oneItem)\n",
    "    # go through csv steps\n",
    "    # Transform.from_csv: > return self.from_df\n",
    "    # self.from_df > return self.from_json\n",
    "    data = pd.read_csv(oneItem, sep=',')\n",
    "\n",
    "data.columns\n",
    "\n",
    "mynewData = DataBatch(data)\n",
    "mynewData.from_df()"
   ]
  },
  {
   "cell_type": "code",
   "execution_count": 302,
   "metadata": {},
   "outputs": [],
   "source": []
  },
  {
   "cell_type": "code",
   "execution_count": null,
   "metadata": {},
   "outputs": [],
   "source": []
  },
  {
   "cell_type": "code",
   "execution_count": null,
   "metadata": {},
   "outputs": [],
   "source": []
  },
  {
   "cell_type": "code",
   "execution_count": null,
   "metadata": {},
   "outputs": [],
   "source": []
  },
  {
   "cell_type": "code",
   "execution_count": null,
   "metadata": {},
   "outputs": [],
   "source": []
  },
  {
   "cell_type": "code",
   "execution_count": null,
   "metadata": {},
   "outputs": [],
   "source": []
  },
  {
   "cell_type": "code",
   "execution_count": null,
   "metadata": {},
   "outputs": [],
   "source": []
  },
  {
   "cell_type": "code",
   "execution_count": null,
   "metadata": {},
   "outputs": [],
   "source": []
  },
  {
   "cell_type": "code",
   "execution_count": null,
   "metadata": {},
   "outputs": [],
   "source": []
  },
  {
   "cell_type": "code",
   "execution_count": null,
   "metadata": {},
   "outputs": [],
   "source": []
  },
  {
   "cell_type": "code",
   "execution_count": null,
   "metadata": {},
   "outputs": [],
   "source": []
  },
  {
   "cell_type": "code",
   "execution_count": null,
   "metadata": {},
   "outputs": [],
   "source": []
  },
  {
   "cell_type": "code",
   "execution_count": null,
   "metadata": {},
   "outputs": [],
   "source": []
  },
  {
   "cell_type": "code",
   "execution_count": null,
   "metadata": {},
   "outputs": [],
   "source": []
  },
  {
   "cell_type": "markdown",
   "metadata": {},
   "source": [
    "## test with different column headers"
   ]
  },
  {
   "cell_type": "code",
   "execution_count": 33,
   "metadata": {},
   "outputs": [
    {
     "data": {
      "text/html": [
       "<div>\n",
       "<style scoped>\n",
       "    .dataframe tbody tr th:only-of-type {\n",
       "        vertical-align: middle;\n",
       "    }\n",
       "\n",
       "    .dataframe tbody tr th {\n",
       "        vertical-align: top;\n",
       "    }\n",
       "\n",
       "    .dataframe thead th {\n",
       "        text-align: right;\n",
       "    }\n",
       "</style>\n",
       "<table border=\"1\" class=\"dataframe\">\n",
       "  <thead>\n",
       "    <tr style=\"text-align: right;\">\n",
       "      <th></th>\n",
       "      <th>surface_longitude</th>\n",
       "      <th>surface_latitude</th>\n",
       "      <th>Azimuth</th>\n",
       "      <th>Inclination</th>\n",
       "      <th>MD</th>\n",
       "      <th>UWI</th>\n",
       "    </tr>\n",
       "  </thead>\n",
       "  <tbody>\n",
       "    <tr>\n",
       "      <th>0</th>\n",
       "      <td>47.688521</td>\n",
       "      <td>29.908294</td>\n",
       "      <td>227.11</td>\n",
       "      <td>0.00</td>\n",
       "      <td>0.00</td>\n",
       "      <td>well_C</td>\n",
       "    </tr>\n",
       "    <tr>\n",
       "      <th>1</th>\n",
       "      <td>47.688521</td>\n",
       "      <td>29.908294</td>\n",
       "      <td>227.11</td>\n",
       "      <td>0.00</td>\n",
       "      <td>35.00</td>\n",
       "      <td>well_C</td>\n",
       "    </tr>\n",
       "    <tr>\n",
       "      <th>2</th>\n",
       "      <td>47.688521</td>\n",
       "      <td>29.908294</td>\n",
       "      <td>227.11</td>\n",
       "      <td>0.46</td>\n",
       "      <td>774.81</td>\n",
       "      <td>well_C</td>\n",
       "    </tr>\n",
       "    <tr>\n",
       "      <th>3</th>\n",
       "      <td>47.688521</td>\n",
       "      <td>29.908294</td>\n",
       "      <td>163.86</td>\n",
       "      <td>0.13</td>\n",
       "      <td>800.00</td>\n",
       "      <td>well_C</td>\n",
       "    </tr>\n",
       "    <tr>\n",
       "      <th>4</th>\n",
       "      <td>47.688521</td>\n",
       "      <td>29.908294</td>\n",
       "      <td>230.43</td>\n",
       "      <td>0.57</td>\n",
       "      <td>900.00</td>\n",
       "      <td>well_C</td>\n",
       "    </tr>\n",
       "  </tbody>\n",
       "</table>\n",
       "</div>"
      ],
      "text/plain": [
       "   surface_longitude  surface_latitude  Azimuth  Inclination      MD     UWI\n",
       "0          47.688521         29.908294   227.11         0.00    0.00  well_C\n",
       "1          47.688521         29.908294   227.11         0.00   35.00  well_C\n",
       "2          47.688521         29.908294   227.11         0.46  774.81  well_C\n",
       "3          47.688521         29.908294   163.86         0.13  800.00  well_C\n",
       "4          47.688521         29.908294   230.43         0.57  900.00  well_C"
      ]
     },
     "execution_count": 33,
     "metadata": {},
     "output_type": "execute_result"
    }
   ],
   "source": [
    "df.rename(columns = {'wellId':'UWI', 'md':'MD', \n",
    "                              'inc':'Inclination', 'azim':'Azimuth'}, inplace = True)\n",
    "df = df.iloc[:, ::-1]\n",
    "df.head()"
   ]
  },
  {
   "cell_type": "code",
   "execution_count": 34,
   "metadata": {},
   "outputs": [
    {
     "data": {
      "text/plain": [
       "DataObject(wellId='well_C', md=array([    0.  ,    35.  ,   774.81,   800.  ,   900.  ,  1000.  ,\n",
       "        1100.  ,  1200.  ,  1300.  ,  1400.  ,  1500.  ,  1600.  ,\n",
       "        1700.  ,  1800.  ,  1900.  ,  2000.  ,  2100.  ,  2200.  ,\n",
       "        2300.  ,  2400.  ,  2500.  ,  2600.  ,  2700.  ,  2800.  ,\n",
       "        2900.  ,  3000.  ,  3100.  ,  3200.  ,  3300.  ,  3400.  ,\n",
       "        3500.  ,  3600.  ,  3700.  ,  3800.  ,  3900.  ,  4000.  ,\n",
       "        4100.  ,  4200.  ,  4300.  ,  4400.  ,  4500.  ,  4600.  ,\n",
       "        4700.  ,  4800.  ,  4900.  ,  5000.  ,  5100.  ,  5200.  ,\n",
       "        5300.  ,  5400.  ,  5500.  ,  5600.  ,  5700.  ,  5800.  ,\n",
       "        5900.  ,  6000.  ,  6100.  ,  6200.  ,  6300.  ,  6400.  ,\n",
       "        6450.67,  6532.  ,  6625.  ,  6720.  ,  6813.  ,  6909.  ,\n",
       "        7002.  ,  7098.  ,  7191.  ,  7286.  ,  7379.  ,  7475.  ,\n",
       "        7569.  ,  7663.  ,  7758.  ,  7851.  ,  7947.  ,  8040.  ,\n",
       "        8135.  ,  8229.  ,  8324.  ,  8418.  ,  8512.  ,  8606.  ,\n",
       "        8700.  ,  8794.  ,  8859.  ,  8924.  ,  9018.  ,  9112.  ,\n",
       "        9206.  ,  9292.  ,  9386.  ,  9481.  ,  9574.  ,  9669.  ,\n",
       "        9764.  ,  9858.  ,  9952.  , 10047.  , 10142.  , 10236.  ,\n",
       "       10330.  , 10424.  , 10517.  , 10613.  , 10707.  , 10802.  ,\n",
       "       10851.  , 10890.  ]), inc=array([ 0.  ,  0.  ,  0.46,  0.13,  0.57,  0.49,  0.29,  0.6 ,  0.53,\n",
       "        0.83,  0.61,  0.87,  1.17,  1.27,  1.21,  1.18,  1.24,  1.07,\n",
       "        1.14,  1.16,  0.86,  0.95,  1.22,  0.82,  0.83,  0.98,  0.87,\n",
       "        1.25,  1.06,  1.07,  1.34,  1.03,  1.17,  1.34,  1.37,  1.39,\n",
       "        1.16,  1.61,  1.58,  1.78,  1.78,  1.81,  1.86,  1.63,  1.51,\n",
       "        1.57,  1.09,  0.99,  0.88,  0.91,  0.83,  0.77,  0.64,  0.91,\n",
       "        0.94,  0.66,  1.09,  0.91,  0.95,  0.8 ,  4.91, 10.35, 15.28,\n",
       "       20.67, 26.19, 34.23, 40.44, 44.43, 45.39, 48.78, 51.19, 53.89,\n",
       "       56.1 , 58.69, 61.62, 64.38, 67.3 , 70.15, 72.39, 75.47, 78.67,\n",
       "       81.46, 84.59, 86.2 , 87.65, 89.13, 90.27, 89.72, 89.9 , 90.02,\n",
       "       90.05, 90.03, 89.94, 90.06, 90.37, 90.24, 90.06, 89.97, 89.88,\n",
       "       90.15, 90.03, 89.91, 89.97, 90.  , 89.88, 89.88, 90.  , 89.72,\n",
       "       90.06, 90.  ]), azim=array([227.11, 227.11, 227.11, 163.86, 230.43, 254.47, 268.25, 147.67,\n",
       "       236.56, 190.05, 342.93, 184.69, 187.06, 193.66, 195.77, 185.77,\n",
       "       214.81, 203.82, 189.81, 194.18, 109.65, 214.46, 205.35, 190.63,\n",
       "       187.75, 193.45, 188.19, 205.4 , 130.09, 218.09, 247.16, 245.17,\n",
       "       239.46, 234.52, 232.45, 228.1 , 199.28, 305.98, 213.22, 211.63,\n",
       "       207.08, 209.84, 204.39, 208.  , 208.46, 201.98, 187.95, 185.23,\n",
       "       165.95, 163.86, 138.75, 253.13, 132.16, 189.07, 141.79, 143.34,\n",
       "       306.53, 111.26, 117.69,  87.41,  55.44,  48.23,  50.93,  49.37,\n",
       "        48.77,  48.96,  48.41,  48.88,  49.58,  49.67,  49.73,  49.78,\n",
       "        49.14,  49.25,  49.5 ,  49.12,  48.63,  48.79,  48.83,  49.02,\n",
       "        49.49,  49.55,  49.29,  47.62,  47.22,  47.69,  48.36,  48.41,\n",
       "        44.97,  42.69,  40.86,  40.48,  40.36,  39.41,  38.74,  40.09,\n",
       "        38.63,  35.85,  33.71,  32.12,  30.91,  29.75,  28.78,  28.53,\n",
       "        29.28,  27.59,  26.69,  26.72,  27.04,  27.35]), surface_latitude=29.90829444, surface_longitude=47.68852083, tvd=None, n_s_deviation=None, e_w_deviation=None, dls=None, surface_x=None, surface_y=None, x_points=None, y_points=None, zone_number=None, zone_letter=None, latitude_points=None, longitude_points=None, isHorizontal=None)"
      ]
     },
     "execution_count": 34,
     "metadata": {},
     "output_type": "execute_result"
    }
   ],
   "source": [
    "my_data = DataBatch(df)\n",
    "my_data.from_df(wellId_name='UWI',md_name='MD', inc_name='Inclination',\n",
    "                       azim_name='Azimuth', surface_latitude_name='surface_latitude',\n",
    "                       surface_longitude_name='surface_longitude')"
   ]
  },
  {
   "cell_type": "code",
   "execution_count": null,
   "metadata": {},
   "outputs": [],
   "source": []
  },
  {
   "cell_type": "code",
   "execution_count": null,
   "metadata": {},
   "outputs": [],
   "source": []
  },
  {
   "cell_type": "code",
   "execution_count": null,
   "metadata": {},
   "outputs": [],
   "source": []
  },
  {
   "cell_type": "code",
   "execution_count": null,
   "metadata": {},
   "outputs": [],
   "source": []
  },
  {
   "cell_type": "code",
   "execution_count": null,
   "metadata": {},
   "outputs": [],
   "source": []
  },
  {
   "cell_type": "code",
   "execution_count": 40,
   "metadata": {},
   "outputs": [
    {
     "data": {
      "text/html": [
       "<div>\n",
       "<style scoped>\n",
       "    .dataframe tbody tr th:only-of-type {\n",
       "        vertical-align: middle;\n",
       "    }\n",
       "\n",
       "    .dataframe tbody tr th {\n",
       "        vertical-align: top;\n",
       "    }\n",
       "\n",
       "    .dataframe thead th {\n",
       "        text-align: right;\n",
       "    }\n",
       "</style>\n",
       "<table border=\"1\" class=\"dataframe\">\n",
       "  <thead>\n",
       "    <tr style=\"text-align: right;\">\n",
       "      <th></th>\n",
       "      <th>md</th>\n",
       "      <th>inc</th>\n",
       "      <th>azim</th>\n",
       "    </tr>\n",
       "  </thead>\n",
       "  <tbody>\n",
       "    <tr>\n",
       "      <th>0</th>\n",
       "      <td>0.00</td>\n",
       "      <td>0.00</td>\n",
       "      <td>227.11</td>\n",
       "    </tr>\n",
       "    <tr>\n",
       "      <th>1</th>\n",
       "      <td>35.00</td>\n",
       "      <td>0.00</td>\n",
       "      <td>227.11</td>\n",
       "    </tr>\n",
       "    <tr>\n",
       "      <th>2</th>\n",
       "      <td>774.81</td>\n",
       "      <td>0.46</td>\n",
       "      <td>227.11</td>\n",
       "    </tr>\n",
       "    <tr>\n",
       "      <th>3</th>\n",
       "      <td>800.00</td>\n",
       "      <td>0.13</td>\n",
       "      <td>163.86</td>\n",
       "    </tr>\n",
       "    <tr>\n",
       "      <th>4</th>\n",
       "      <td>900.00</td>\n",
       "      <td>0.57</td>\n",
       "      <td>230.43</td>\n",
       "    </tr>\n",
       "    <tr>\n",
       "      <th>...</th>\n",
       "      <td>...</td>\n",
       "      <td>...</td>\n",
       "      <td>...</td>\n",
       "    </tr>\n",
       "    <tr>\n",
       "      <th>105</th>\n",
       "      <td>10613.00</td>\n",
       "      <td>89.88</td>\n",
       "      <td>27.59</td>\n",
       "    </tr>\n",
       "    <tr>\n",
       "      <th>106</th>\n",
       "      <td>10707.00</td>\n",
       "      <td>90.00</td>\n",
       "      <td>26.69</td>\n",
       "    </tr>\n",
       "    <tr>\n",
       "      <th>107</th>\n",
       "      <td>10802.00</td>\n",
       "      <td>89.72</td>\n",
       "      <td>26.72</td>\n",
       "    </tr>\n",
       "    <tr>\n",
       "      <th>108</th>\n",
       "      <td>10851.00</td>\n",
       "      <td>90.06</td>\n",
       "      <td>27.04</td>\n",
       "    </tr>\n",
       "    <tr>\n",
       "      <th>109</th>\n",
       "      <td>10890.00</td>\n",
       "      <td>90.00</td>\n",
       "      <td>27.35</td>\n",
       "    </tr>\n",
       "  </tbody>\n",
       "</table>\n",
       "<p>110 rows × 3 columns</p>\n",
       "</div>"
      ],
      "text/plain": [
       "           md    inc    azim\n",
       "0        0.00   0.00  227.11\n",
       "1       35.00   0.00  227.11\n",
       "2      774.81   0.46  227.11\n",
       "3      800.00   0.13  163.86\n",
       "4      900.00   0.57  230.43\n",
       "..        ...    ...     ...\n",
       "105  10613.00  89.88   27.59\n",
       "106  10707.00  90.00   26.69\n",
       "107  10802.00  89.72   26.72\n",
       "108  10851.00  90.06   27.04\n",
       "109  10890.00  90.00   27.35\n",
       "\n",
       "[110 rows x 3 columns]"
      ]
     },
     "execution_count": 40,
     "metadata": {},
     "output_type": "execute_result"
    }
   ],
   "source": [
    "df = df[['md', 'inc', 'azim']]\n",
    "df"
   ]
  },
  {
   "cell_type": "code",
   "execution_count": 54,
   "metadata": {},
   "outputs": [],
   "source": [
    "def from_df_and_header_vals(df:DataFrame, wellId_val:str='wellId_example',md_name:Optional[str]=None,\n",
    "            inc_name:Optional[str]=None, azim_name:Optional[str]=None,\n",
    "                surface_latitude_val:float=42.8746,\n",
    "                surface_longitude_val:float=74.5698) -> 'DirectionalSurveyObj':\n",
    "    \"\"\"Create a `dataclass_obj` suitable for `DirectionalSurvey()` from a dataframe.\n",
    "    \n",
    "    Params:\n",
    "    df: Dataframe with well data from single well and all data columns.\n",
    "    \n",
    "    Return:\n",
    "    dataclass_obj\n",
    "    \n",
    "    \"\"\"\n",
    "    # if no column names are specified use 0:5 for dir survey obj\n",
    "    md_name = ifnone(md_name, df.columns[0])\n",
    "    inc_name = ifnone(inc_name, df.columns[1])\n",
    "    azim_name = ifnone(azim_name, df.columns[2])\n",
    "    \n",
    "    dataclass_obj = DirectionalSurvey(wellId = wellId_val,\n",
    "                                      md = np.array(df[md_name]),\n",
    "                                      inc = np.array(df[inc_name]),\n",
    "                                      azim = np.array(df[azim_name]),\n",
    "                                      surface_latitude = surface_latitude_val,\n",
    "                                      surface_longitude = surface_longitude_val)\n",
    "    return dataclass_obj\n",
    "    "
   ]
  },
  {
   "cell_type": "code",
   "execution_count": 55,
   "metadata": {},
   "outputs": [
    {
     "data": {
      "text/plain": [
       "DirectionalSurvey(wellId='wellId_example', md=array([    0.  ,    35.  ,   774.81,   800.  ,   900.  ,  1000.  ,\n",
       "        1100.  ,  1200.  ,  1300.  ,  1400.  ,  1500.  ,  1600.  ,\n",
       "        1700.  ,  1800.  ,  1900.  ,  2000.  ,  2100.  ,  2200.  ,\n",
       "        2300.  ,  2400.  ,  2500.  ,  2600.  ,  2700.  ,  2800.  ,\n",
       "        2900.  ,  3000.  ,  3100.  ,  3200.  ,  3300.  ,  3400.  ,\n",
       "        3500.  ,  3600.  ,  3700.  ,  3800.  ,  3900.  ,  4000.  ,\n",
       "        4100.  ,  4200.  ,  4300.  ,  4400.  ,  4500.  ,  4600.  ,\n",
       "        4700.  ,  4800.  ,  4900.  ,  5000.  ,  5100.  ,  5200.  ,\n",
       "        5300.  ,  5400.  ,  5500.  ,  5600.  ,  5700.  ,  5800.  ,\n",
       "        5900.  ,  6000.  ,  6100.  ,  6200.  ,  6300.  ,  6400.  ,\n",
       "        6450.67,  6532.  ,  6625.  ,  6720.  ,  6813.  ,  6909.  ,\n",
       "        7002.  ,  7098.  ,  7191.  ,  7286.  ,  7379.  ,  7475.  ,\n",
       "        7569.  ,  7663.  ,  7758.  ,  7851.  ,  7947.  ,  8040.  ,\n",
       "        8135.  ,  8229.  ,  8324.  ,  8418.  ,  8512.  ,  8606.  ,\n",
       "        8700.  ,  8794.  ,  8859.  ,  8924.  ,  9018.  ,  9112.  ,\n",
       "        9206.  ,  9292.  ,  9386.  ,  9481.  ,  9574.  ,  9669.  ,\n",
       "        9764.  ,  9858.  ,  9952.  , 10047.  , 10142.  , 10236.  ,\n",
       "       10330.  , 10424.  , 10517.  , 10613.  , 10707.  , 10802.  ,\n",
       "       10851.  , 10890.  ]), inc=array([ 0.  ,  0.  ,  0.46,  0.13,  0.57,  0.49,  0.29,  0.6 ,  0.53,\n",
       "        0.83,  0.61,  0.87,  1.17,  1.27,  1.21,  1.18,  1.24,  1.07,\n",
       "        1.14,  1.16,  0.86,  0.95,  1.22,  0.82,  0.83,  0.98,  0.87,\n",
       "        1.25,  1.06,  1.07,  1.34,  1.03,  1.17,  1.34,  1.37,  1.39,\n",
       "        1.16,  1.61,  1.58,  1.78,  1.78,  1.81,  1.86,  1.63,  1.51,\n",
       "        1.57,  1.09,  0.99,  0.88,  0.91,  0.83,  0.77,  0.64,  0.91,\n",
       "        0.94,  0.66,  1.09,  0.91,  0.95,  0.8 ,  4.91, 10.35, 15.28,\n",
       "       20.67, 26.19, 34.23, 40.44, 44.43, 45.39, 48.78, 51.19, 53.89,\n",
       "       56.1 , 58.69, 61.62, 64.38, 67.3 , 70.15, 72.39, 75.47, 78.67,\n",
       "       81.46, 84.59, 86.2 , 87.65, 89.13, 90.27, 89.72, 89.9 , 90.02,\n",
       "       90.05, 90.03, 89.94, 90.06, 90.37, 90.24, 90.06, 89.97, 89.88,\n",
       "       90.15, 90.03, 89.91, 89.97, 90.  , 89.88, 89.88, 90.  , 89.72,\n",
       "       90.06, 90.  ]), azim=array([227.11, 227.11, 227.11, 163.86, 230.43, 254.47, 268.25, 147.67,\n",
       "       236.56, 190.05, 342.93, 184.69, 187.06, 193.66, 195.77, 185.77,\n",
       "       214.81, 203.82, 189.81, 194.18, 109.65, 214.46, 205.35, 190.63,\n",
       "       187.75, 193.45, 188.19, 205.4 , 130.09, 218.09, 247.16, 245.17,\n",
       "       239.46, 234.52, 232.45, 228.1 , 199.28, 305.98, 213.22, 211.63,\n",
       "       207.08, 209.84, 204.39, 208.  , 208.46, 201.98, 187.95, 185.23,\n",
       "       165.95, 163.86, 138.75, 253.13, 132.16, 189.07, 141.79, 143.34,\n",
       "       306.53, 111.26, 117.69,  87.41,  55.44,  48.23,  50.93,  49.37,\n",
       "        48.77,  48.96,  48.41,  48.88,  49.58,  49.67,  49.73,  49.78,\n",
       "        49.14,  49.25,  49.5 ,  49.12,  48.63,  48.79,  48.83,  49.02,\n",
       "        49.49,  49.55,  49.29,  47.62,  47.22,  47.69,  48.36,  48.41,\n",
       "        44.97,  42.69,  40.86,  40.48,  40.36,  39.41,  38.74,  40.09,\n",
       "        38.63,  35.85,  33.71,  32.12,  30.91,  29.75,  28.78,  28.53,\n",
       "        29.28,  27.59,  26.69,  26.72,  27.04,  27.35]), surface_latitude=42.8746, surface_longitude=74.5698, tvd=None, n_s_deviation=None, e_w_deviation=None, dls=None, surface_x=None, surface_y=None, x_points=None, y_points=None, zone_number=None, zone_letter=None, latitude_points=None, longitude_points=None, isHorizontal=None)"
      ]
     },
     "execution_count": 55,
     "metadata": {},
     "output_type": "execute_result"
    }
   ],
   "source": [
    "my_dataclass = from_df_and_header_vals(df, wellId_val='my_new_well', surface_latitude_val=23.,surface_longitude_val=56.)\n",
    "my_dataclass = from_df_and_header_vals(df)\n",
    "my_dataclass"
   ]
  }
 ],
 "metadata": {
  "kernelspec": {
   "display_name": "Python 3",
   "language": "python",
   "name": "python3"
  },
  "language_info": {
   "codemirror_mode": {
    "name": "ipython",
    "version": 3
   },
   "file_extension": ".py",
   "mimetype": "text/x-python",
   "name": "python",
   "nbconvert_exporter": "python",
   "pygments_lexer": "ipython3",
   "version": "3.7.7"
  },
  "toc": {
   "base_numbering": 1,
   "nav_menu": {},
   "number_sections": true,
   "sideBar": true,
   "skip_h1_title": false,
   "title_cell": "Table of Contents",
   "title_sidebar": "Contents",
   "toc_cell": false,
   "toc_position": {},
   "toc_section_display": true,
   "toc_window_display": false
  },
  "varInspector": {
   "cols": {
    "lenName": 16,
    "lenType": 16,
    "lenVar": 40
   },
   "kernels_config": {
    "python": {
     "delete_cmd_postfix": "",
     "delete_cmd_prefix": "del ",
     "library": "var_list.py",
     "varRefreshCmd": "print(var_dic_list())"
    },
    "r": {
     "delete_cmd_postfix": ") ",
     "delete_cmd_prefix": "rm(",
     "library": "var_list.r",
     "varRefreshCmd": "cat(var_dic_list()) "
    }
   },
   "types_to_exclude": [
    "module",
    "function",
    "builtin_function_or_method",
    "instance",
    "_Feature"
   ],
   "window_display": false
  }
 },
 "nbformat": 4,
 "nbformat_minor": 4
}
