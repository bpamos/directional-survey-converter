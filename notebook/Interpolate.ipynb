{
 "cells": [
  {
   "cell_type": "markdown",
   "metadata": {},
   "source": [
    "# Interpolate\n",
    "\n",
    "interpolate new data into well header"
   ]
  },
  {
   "cell_type": "code",
   "execution_count": 1,
   "metadata": {},
   "outputs": [
    {
     "name": "stdout",
     "output_type": "stream",
     "text": [
      "C:\\Users\\BpAmos\\Documents\\repos\\directional-survey-converter\n"
     ]
    }
   ],
   "source": [
    "# ONLY RUN ONCE, must restart notebook otherwise\n",
    "import pandas as pd\n",
    "import os\n",
    "from pathlib import Path\n",
    "current_dir = Path.cwd()\n",
    "path = current_dir.parent\n",
    "print(path)\n",
    "#change directory to get src class data\n",
    "os.chdir(path)\n",
    "from src.data_object import *\n",
    "from src.transforms import *\n",
    "\n",
    "from src.calculable_object import *\n",
    "from src.wellbore_trajectory import *\n",
    "\n",
    "\n",
    "from scipy import interpolate"
   ]
  },
  {
   "cell_type": "markdown",
   "metadata": {},
   "source": [
    "## Get Files"
   ]
  },
  {
   "cell_type": "code",
   "execution_count": 2,
   "metadata": {},
   "outputs": [
    {
     "data": {
      "text/plain": [
       "[WindowsPath('C:/Users/BpAmos/Documents/repos/directional-survey-converter/data/wellbore_survey.csv'),\n",
       " WindowsPath('C:/Users/BpAmos/Documents/repos/directional-survey-converter/data/wellbore_survey.json'),\n",
       " WindowsPath('C:/Users/BpAmos/Documents/repos/directional-survey-converter/data/wellbore_survey_many.csv'),\n",
       " WindowsPath('C:/Users/BpAmos/Documents/repos/directional-survey-converter/data/well_C.csv'),\n",
       " WindowsPath('C:/Users/BpAmos/Documents/repos/directional-survey-converter/data/well_header.csv'),\n",
       " WindowsPath('C:/Users/BpAmos/Documents/repos/directional-survey-converter/data/well_interpolate_data.csv')]"
      ]
     },
     "execution_count": 2,
     "metadata": {},
     "output_type": "execute_result"
    }
   ],
   "source": [
    "file_paths = get_files(path, folders='data')\n",
    "file_paths.items"
   ]
  },
  {
   "cell_type": "code",
   "execution_count": 3,
   "metadata": {},
   "outputs": [
    {
     "data": {
      "text/html": [
       "<div>\n",
       "<style scoped>\n",
       "    .dataframe tbody tr th:only-of-type {\n",
       "        vertical-align: middle;\n",
       "    }\n",
       "\n",
       "    .dataframe tbody tr th {\n",
       "        vertical-align: top;\n",
       "    }\n",
       "\n",
       "    .dataframe thead th {\n",
       "        text-align: right;\n",
       "    }\n",
       "</style>\n",
       "<table border=\"1\" class=\"dataframe\">\n",
       "  <thead>\n",
       "    <tr style=\"text-align: right;\">\n",
       "      <th></th>\n",
       "      <th>wellId</th>\n",
       "      <th>md</th>\n",
       "      <th>inc</th>\n",
       "      <th>azim</th>\n",
       "    </tr>\n",
       "  </thead>\n",
       "  <tbody>\n",
       "    <tr>\n",
       "      <th>0</th>\n",
       "      <td>well_C</td>\n",
       "      <td>0.00</td>\n",
       "      <td>0.00</td>\n",
       "      <td>227.11</td>\n",
       "    </tr>\n",
       "    <tr>\n",
       "      <th>1</th>\n",
       "      <td>well_C</td>\n",
       "      <td>35.00</td>\n",
       "      <td>0.00</td>\n",
       "      <td>227.11</td>\n",
       "    </tr>\n",
       "    <tr>\n",
       "      <th>2</th>\n",
       "      <td>well_C</td>\n",
       "      <td>774.81</td>\n",
       "      <td>0.46</td>\n",
       "      <td>227.11</td>\n",
       "    </tr>\n",
       "    <tr>\n",
       "      <th>3</th>\n",
       "      <td>well_C</td>\n",
       "      <td>800.00</td>\n",
       "      <td>0.13</td>\n",
       "      <td>163.86</td>\n",
       "    </tr>\n",
       "    <tr>\n",
       "      <th>4</th>\n",
       "      <td>well_C</td>\n",
       "      <td>900.00</td>\n",
       "      <td>0.57</td>\n",
       "      <td>230.43</td>\n",
       "    </tr>\n",
       "  </tbody>\n",
       "</table>\n",
       "</div>"
      ],
      "text/plain": [
       "   wellId      md   inc    azim\n",
       "0  well_C    0.00  0.00  227.11\n",
       "1  well_C   35.00  0.00  227.11\n",
       "2  well_C  774.81  0.46  227.11\n",
       "3  well_C  800.00  0.13  163.86\n",
       "4  well_C  900.00  0.57  230.43"
      ]
     },
     "execution_count": 3,
     "metadata": {},
     "output_type": "execute_result"
    }
   ],
   "source": [
    "filePath = file_paths[0]\n",
    "filePath\n",
    "df_well = pd.read_csv(filePath, sep=',')\n",
    "df_well = df_well[['wellId','md','inc','azim']]\n",
    "df_well.head()"
   ]
  },
  {
   "cell_type": "code",
   "execution_count": 5,
   "metadata": {},
   "outputs": [
    {
     "data": {
      "text/html": [
       "<div>\n",
       "<style scoped>\n",
       "    .dataframe tbody tr th:only-of-type {\n",
       "        vertical-align: middle;\n",
       "    }\n",
       "\n",
       "    .dataframe tbody tr th {\n",
       "        vertical-align: top;\n",
       "    }\n",
       "\n",
       "    .dataframe thead th {\n",
       "        text-align: right;\n",
       "    }\n",
       "</style>\n",
       "<table border=\"1\" class=\"dataframe\">\n",
       "  <thead>\n",
       "    <tr style=\"text-align: right;\">\n",
       "      <th></th>\n",
       "      <th>wellId</th>\n",
       "      <th>var_type</th>\n",
       "      <th>name</th>\n",
       "      <th>top_depth</th>\n",
       "      <th>bottom_depth</th>\n",
       "    </tr>\n",
       "  </thead>\n",
       "  <tbody>\n",
       "    <tr>\n",
       "      <th>0</th>\n",
       "      <td>well_C</td>\n",
       "      <td>wellTop</td>\n",
       "      <td>top_A</td>\n",
       "      <td>1234</td>\n",
       "      <td>1450</td>\n",
       "    </tr>\n",
       "    <tr>\n",
       "      <th>1</th>\n",
       "      <td>well_C</td>\n",
       "      <td>wellTop</td>\n",
       "      <td>top_B</td>\n",
       "      <td>1450</td>\n",
       "      <td>1625</td>\n",
       "    </tr>\n",
       "  </tbody>\n",
       "</table>\n",
       "</div>"
      ],
      "text/plain": [
       "   wellId var_type   name  top_depth  bottom_depth\n",
       "0  well_C  wellTop  top_A       1234          1450\n",
       "1  well_C  wellTop  top_B       1450          1625"
      ]
     },
     "execution_count": 5,
     "metadata": {},
     "output_type": "execute_result"
    }
   ],
   "source": [
    "filePath = file_paths[5]\n",
    "df_interp = pd.read_csv(filePath, sep=',')\n",
    "df_interp.head()"
   ]
  },
  {
   "cell_type": "code",
   "execution_count": 5,
   "metadata": {},
   "outputs": [],
   "source": []
  },
  {
   "cell_type": "code",
   "execution_count": 6,
   "metadata": {},
   "outputs": [
    {
     "data": {
      "text/html": [
       "<div>\n",
       "<style scoped>\n",
       "    .dataframe tbody tr th:only-of-type {\n",
       "        vertical-align: middle;\n",
       "    }\n",
       "\n",
       "    .dataframe tbody tr th {\n",
       "        vertical-align: top;\n",
       "    }\n",
       "\n",
       "    .dataframe thead th {\n",
       "        text-align: right;\n",
       "    }\n",
       "</style>\n",
       "<table border=\"1\" class=\"dataframe\">\n",
       "  <thead>\n",
       "    <tr style=\"text-align: right;\">\n",
       "      <th></th>\n",
       "      <th>wellId</th>\n",
       "      <th>var_type</th>\n",
       "      <th>name</th>\n",
       "      <th>top_depth</th>\n",
       "      <th>bottom_depth</th>\n",
       "    </tr>\n",
       "  </thead>\n",
       "  <tbody>\n",
       "    <tr>\n",
       "      <th>0</th>\n",
       "      <td>well_C</td>\n",
       "      <td>wellTop</td>\n",
       "      <td>top_A</td>\n",
       "      <td>1234</td>\n",
       "      <td>1450</td>\n",
       "    </tr>\n",
       "    <tr>\n",
       "      <th>1</th>\n",
       "      <td>well_C</td>\n",
       "      <td>wellTop</td>\n",
       "      <td>top_B</td>\n",
       "      <td>1450</td>\n",
       "      <td>1625</td>\n",
       "    </tr>\n",
       "  </tbody>\n",
       "</table>\n",
       "</div>"
      ],
      "text/plain": [
       "   wellId var_type   name  top_depth  bottom_depth\n",
       "0  well_C  wellTop  top_A       1234          1450\n",
       "1  well_C  wellTop  top_B       1450          1625"
      ]
     },
     "execution_count": 6,
     "metadata": {},
     "output_type": "execute_result"
    }
   ],
   "source": [
    "filePath = file_paths[3]\n",
    "df_interp = pd.read_csv(filePath, sep=',')\n",
    "df_interp.head()"
   ]
  },
  {
   "cell_type": "code",
   "execution_count": 179,
   "metadata": {},
   "outputs": [
    {
     "data": {
      "text/plain": [
       "'top_A'"
      ]
     },
     "execution_count": 179,
     "metadata": {},
     "output_type": "execute_result"
    }
   ],
   "source": [
    "interp_dict = df_interp.to_dict('records')\n",
    "wellId = interp_dict[0]['wellId']\n",
    "var_type = interp_dict[0]['var_type']\n",
    "name = interp_dict[0]['name']\n",
    "name"
   ]
  },
  {
   "cell_type": "code",
   "execution_count": 178,
   "metadata": {},
   "outputs": [
    {
     "data": {
      "text/plain": [
       "array([1234, 1450])"
      ]
     },
     "execution_count": 178,
     "metadata": {},
     "output_type": "execute_result"
    }
   ],
   "source": [
    "interp_vals = np.array([interp_dict[0]['top_depth'],interp_dict[0]['bottom_depth']])\n",
    "interp_vals"
   ]
  },
  {
   "cell_type": "code",
   "execution_count": 185,
   "metadata": {},
   "outputs": [
    {
     "data": {
      "text/plain": [
       "{'wellId': 'well_C',\n",
       " 'var_type': 'wellTop',\n",
       " 'type': {'name': 'top_A', 'values': array([1234, 1450])}}"
      ]
     },
     "execution_count": 185,
     "metadata": {},
     "output_type": "execute_result"
    }
   ],
   "source": [
    "\n",
    "\n",
    "new_dict = {'wellId':wellId,\n",
    "           \"var_type\":var_type,\n",
    "            \"type\":{'name':name, 'values':interp_vals}}\n",
    "new_dict"
   ]
  },
  {
   "cell_type": "code",
   "execution_count": null,
   "metadata": {},
   "outputs": [],
   "source": []
  },
  {
   "cell_type": "code",
   "execution_count": 152,
   "metadata": {},
   "outputs": [],
   "source": [
    "md = np.array(df_well['md'])\n",
    "inc = np.array(df_well['inc'])\n",
    "azim = np.array(df_well['azim'])\n",
    "#print(md)\n",
    "#print(inc)\n",
    "index_val = np.array(df_well.index, float)\n",
    "#index_val"
   ]
  },
  {
   "cell_type": "code",
   "execution_count": 61,
   "metadata": {},
   "outputs": [
    {
     "data": {
      "text/plain": [
       "array([1234, 1450], dtype=int64)"
      ]
     },
     "execution_count": 61,
     "metadata": {},
     "output_type": "execute_result"
    }
   ],
   "source": [
    "new_md = np.array(df_interp['top_depth'])\n",
    "new_md"
   ]
  },
  {
   "cell_type": "code",
   "execution_count": null,
   "metadata": {},
   "outputs": [],
   "source": []
  },
  {
   "cell_type": "code",
   "execution_count": 243,
   "metadata": {},
   "outputs": [],
   "source": [
    "def interp_new_values(interp_md, md, y):\n",
    "    \n",
    "    \n",
    "    # stack original arrays\n",
    "    original_vals =  np.stack((md, y))\n",
    "\n",
    "    \n",
    "    # interp new param values from md and provided values\n",
    "    y_new = np.interp(interp_md,md,y)\n",
    "\n",
    "    # stack the new md values and the new interp values\n",
    "    interp_vals = np.stack((interp_md, y_new))\n",
    "\n",
    "    \n",
    "    # concat original array stack and new interp value array stack\n",
    "    concat_arrays = np.concatenate((original_vals,interp_vals),axis=1)\n",
    "    \n",
    "    # sort the new concat arrays by md\n",
    "    sorted_arr = concat_arrays[:, concat_arrays[0].argsort()]\n",
    "    \n",
    "    md, y = sorted_arr[0], sorted_arr[1]\n",
    "    \n",
    "    return md,y    "
   ]
  },
  {
   "cell_type": "code",
   "execution_count": 271,
   "metadata": {},
   "outputs": [],
   "source": [
    "def interp_vals(interp_md, md, inc_arr, azim_arr):\n",
    "    \n",
    "    md_new,inc_arr = interp_new_values(interp_md, md, inc_arr)\n",
    "    #print(md)\n",
    "    md_new,azim_arr = interp_new_values(interp_md, md, azim_arr)\n",
    "    #print(md)\n",
    "    \n",
    "    interp_vals = np.stack((md_new, inc_arr,azim_arr),axis=1)\n",
    "    #print(interp_vals)\n",
    "    \n",
    "    df_array = pd.DataFrame(data=interp_vals, columns=[\"md\", \"inc\", 'azim'])\n",
    "    \n",
    "    return df_array"
   ]
  },
  {
   "cell_type": "code",
   "execution_count": 283,
   "metadata": {},
   "outputs": [
    {
     "data": {
      "text/html": [
       "<div>\n",
       "<style scoped>\n",
       "    .dataframe tbody tr th:only-of-type {\n",
       "        vertical-align: middle;\n",
       "    }\n",
       "\n",
       "    .dataframe tbody tr th {\n",
       "        vertical-align: top;\n",
       "    }\n",
       "\n",
       "    .dataframe thead th {\n",
       "        text-align: right;\n",
       "    }\n",
       "</style>\n",
       "<table border=\"1\" class=\"dataframe\">\n",
       "  <thead>\n",
       "    <tr style=\"text-align: right;\">\n",
       "      <th></th>\n",
       "      <th>md</th>\n",
       "      <th>inc</th>\n",
       "      <th>azim</th>\n",
       "      <th>well_top</th>\n",
       "    </tr>\n",
       "  </thead>\n",
       "  <tbody>\n",
       "    <tr>\n",
       "      <th>0</th>\n",
       "      <td>0.00</td>\n",
       "      <td>0.0000</td>\n",
       "      <td>227.1100</td>\n",
       "      <td>None</td>\n",
       "    </tr>\n",
       "    <tr>\n",
       "      <th>1</th>\n",
       "      <td>35.00</td>\n",
       "      <td>0.0000</td>\n",
       "      <td>227.1100</td>\n",
       "      <td>None</td>\n",
       "    </tr>\n",
       "    <tr>\n",
       "      <th>2</th>\n",
       "      <td>774.81</td>\n",
       "      <td>0.4600</td>\n",
       "      <td>227.1100</td>\n",
       "      <td>None</td>\n",
       "    </tr>\n",
       "    <tr>\n",
       "      <th>3</th>\n",
       "      <td>800.00</td>\n",
       "      <td>0.1300</td>\n",
       "      <td>163.8600</td>\n",
       "      <td>None</td>\n",
       "    </tr>\n",
       "    <tr>\n",
       "      <th>4</th>\n",
       "      <td>900.00</td>\n",
       "      <td>0.5700</td>\n",
       "      <td>230.4300</td>\n",
       "      <td>None</td>\n",
       "    </tr>\n",
       "    <tr>\n",
       "      <th>5</th>\n",
       "      <td>1000.00</td>\n",
       "      <td>0.4900</td>\n",
       "      <td>254.4700</td>\n",
       "      <td>None</td>\n",
       "    </tr>\n",
       "    <tr>\n",
       "      <th>6</th>\n",
       "      <td>1100.00</td>\n",
       "      <td>0.2900</td>\n",
       "      <td>268.2500</td>\n",
       "      <td>None</td>\n",
       "    </tr>\n",
       "    <tr>\n",
       "      <th>7</th>\n",
       "      <td>1200.00</td>\n",
       "      <td>0.6000</td>\n",
       "      <td>147.6700</td>\n",
       "      <td>None</td>\n",
       "    </tr>\n",
       "    <tr>\n",
       "      <th>8</th>\n",
       "      <td>1234.00</td>\n",
       "      <td>0.5762</td>\n",
       "      <td>177.8926</td>\n",
       "      <td>top_A</td>\n",
       "    </tr>\n",
       "    <tr>\n",
       "      <th>9</th>\n",
       "      <td>1300.00</td>\n",
       "      <td>0.5300</td>\n",
       "      <td>236.5600</td>\n",
       "      <td>top_A</td>\n",
       "    </tr>\n",
       "    <tr>\n",
       "      <th>10</th>\n",
       "      <td>1400.00</td>\n",
       "      <td>0.8300</td>\n",
       "      <td>190.0500</td>\n",
       "      <td>top_A</td>\n",
       "    </tr>\n",
       "    <tr>\n",
       "      <th>11</th>\n",
       "      <td>1450.00</td>\n",
       "      <td>0.7200</td>\n",
       "      <td>266.4900</td>\n",
       "      <td>top_A</td>\n",
       "    </tr>\n",
       "    <tr>\n",
       "      <th>12</th>\n",
       "      <td>1500.00</td>\n",
       "      <td>0.6100</td>\n",
       "      <td>342.9300</td>\n",
       "      <td>None</td>\n",
       "    </tr>\n",
       "    <tr>\n",
       "      <th>13</th>\n",
       "      <td>1600.00</td>\n",
       "      <td>0.8700</td>\n",
       "      <td>184.6900</td>\n",
       "      <td>None</td>\n",
       "    </tr>\n",
       "    <tr>\n",
       "      <th>14</th>\n",
       "      <td>1700.00</td>\n",
       "      <td>1.1700</td>\n",
       "      <td>187.0600</td>\n",
       "      <td>None</td>\n",
       "    </tr>\n",
       "    <tr>\n",
       "      <th>15</th>\n",
       "      <td>1800.00</td>\n",
       "      <td>1.2700</td>\n",
       "      <td>193.6600</td>\n",
       "      <td>None</td>\n",
       "    </tr>\n",
       "    <tr>\n",
       "      <th>16</th>\n",
       "      <td>1900.00</td>\n",
       "      <td>1.2100</td>\n",
       "      <td>195.7700</td>\n",
       "      <td>None</td>\n",
       "    </tr>\n",
       "    <tr>\n",
       "      <th>17</th>\n",
       "      <td>2000.00</td>\n",
       "      <td>1.1800</td>\n",
       "      <td>185.7700</td>\n",
       "      <td>None</td>\n",
       "    </tr>\n",
       "    <tr>\n",
       "      <th>18</th>\n",
       "      <td>2100.00</td>\n",
       "      <td>1.2400</td>\n",
       "      <td>214.8100</td>\n",
       "      <td>None</td>\n",
       "    </tr>\n",
       "    <tr>\n",
       "      <th>19</th>\n",
       "      <td>2200.00</td>\n",
       "      <td>1.0700</td>\n",
       "      <td>203.8200</td>\n",
       "      <td>None</td>\n",
       "    </tr>\n",
       "  </tbody>\n",
       "</table>\n",
       "</div>"
      ],
      "text/plain": [
       "         md     inc      azim well_top\n",
       "0      0.00  0.0000  227.1100     None\n",
       "1     35.00  0.0000  227.1100     None\n",
       "2    774.81  0.4600  227.1100     None\n",
       "3    800.00  0.1300  163.8600     None\n",
       "4    900.00  0.5700  230.4300     None\n",
       "5   1000.00  0.4900  254.4700     None\n",
       "6   1100.00  0.2900  268.2500     None\n",
       "7   1200.00  0.6000  147.6700     None\n",
       "8   1234.00  0.5762  177.8926    top_A\n",
       "9   1300.00  0.5300  236.5600    top_A\n",
       "10  1400.00  0.8300  190.0500    top_A\n",
       "11  1450.00  0.7200  266.4900    top_A\n",
       "12  1500.00  0.6100  342.9300     None\n",
       "13  1600.00  0.8700  184.6900     None\n",
       "14  1700.00  1.1700  187.0600     None\n",
       "15  1800.00  1.2700  193.6600     None\n",
       "16  1900.00  1.2100  195.7700     None\n",
       "17  2000.00  1.1800  185.7700     None\n",
       "18  2100.00  1.2400  214.8100     None\n",
       "19  2200.00  1.0700  203.8200     None"
      ]
     },
     "execution_count": 283,
     "metadata": {},
     "output_type": "execute_result"
    }
   ],
   "source": [
    "md = np.array(df_well['md'])\n",
    "inc = np.array(df_well['inc'])\n",
    "azim = np.array(df_well['azim'])\n",
    "\n",
    "interp_md = np.array(df_interp['top_depth'])\n",
    "y = azim\n",
    "\n",
    "#md,y = interp_new_values(interp_md, md, y)\n",
    "# print(md)\n",
    "# print(y)\n",
    "\n",
    "df_array = interp_vals(interp_md, md, inc, azim)\n",
    "df_array.head(20)\n",
    "\n",
    "\n",
    "# convert to series\n",
    "s = pd.Series(df_array['md'])\n",
    "s = s.between(interp_md.min(), interp_md.max(), inclusive=True)\n",
    "\n",
    "# replace column\n",
    "df_array['well_top'] = s\n",
    "df_array['well_top'] = np.where(df_array['well_top']==True, name, None)\n",
    "df_array.head(20)"
   ]
  },
  {
   "cell_type": "code",
   "execution_count": null,
   "metadata": {},
   "outputs": [],
   "source": []
  },
  {
   "cell_type": "code",
   "execution_count": null,
   "metadata": {},
   "outputs": [],
   "source": []
  },
  {
   "cell_type": "code",
   "execution_count": 238,
   "metadata": {},
   "outputs": [
    {
     "data": {
      "text/plain": [
       "array([    0.  ,    35.  ,   774.81,   800.  ,   900.  ,  1000.  ,\n",
       "        1100.  ,  1200.  ,  1234.  ,  1300.  ,  1400.  ,  1450.  ,\n",
       "        1500.  ,  1600.  ,  1700.  ,  1800.  ,  1900.  ,  2000.  ,\n",
       "        2100.  ,  2200.  ,  2300.  ,  2400.  ,  2500.  ,  2600.  ,\n",
       "        2700.  ,  2800.  ,  2900.  ,  3000.  ,  3100.  ,  3200.  ,\n",
       "        3300.  ,  3400.  ,  3500.  ,  3600.  ,  3700.  ,  3800.  ,\n",
       "        3900.  ,  4000.  ,  4100.  ,  4200.  ,  4300.  ,  4400.  ,\n",
       "        4500.  ,  4600.  ,  4700.  ,  4800.  ,  4900.  ,  5000.  ,\n",
       "        5100.  ,  5200.  ,  5300.  ,  5400.  ,  5500.  ,  5600.  ,\n",
       "        5700.  ,  5800.  ,  5900.  ,  6000.  ,  6100.  ,  6200.  ,\n",
       "        6300.  ,  6400.  ,  6450.67,  6532.  ,  6625.  ,  6720.  ,\n",
       "        6813.  ,  6909.  ,  7002.  ,  7098.  ,  7191.  ,  7286.  ,\n",
       "        7379.  ,  7475.  ,  7569.  ,  7663.  ,  7758.  ,  7851.  ,\n",
       "        7947.  ,  8040.  ,  8135.  ,  8229.  ,  8324.  ,  8418.  ,\n",
       "        8512.  ,  8606.  ,  8700.  ,  8794.  ,  8859.  ,  8924.  ,\n",
       "        9018.  ,  9112.  ,  9206.  ,  9292.  ,  9386.  ,  9481.  ,\n",
       "        9574.  ,  9669.  ,  9764.  ,  9858.  ,  9952.  , 10047.  ,\n",
       "       10142.  , 10236.  , 10330.  , 10424.  , 10517.  , 10613.  ,\n",
       "       10707.  , 10802.  , 10851.  , 10890.  ])"
      ]
     },
     "execution_count": 238,
     "metadata": {},
     "output_type": "execute_result"
    }
   ],
   "source": [
    "df_array = pd.DataFrame(data=numpy_data, index=[\"row1\", \"row2\"], columns=[\"column1\", \"column2\"])"
   ]
  },
  {
   "cell_type": "code",
   "execution_count": null,
   "metadata": {},
   "outputs": [],
   "source": []
  },
  {
   "cell_type": "code",
   "execution_count": null,
   "metadata": {},
   "outputs": [],
   "source": []
  },
  {
   "cell_type": "code",
   "execution_count": 217,
   "metadata": {},
   "outputs": [
    {
     "data": {
      "text/plain": [
       "array(['yes', 'yes'], dtype='<U3')"
      ]
     },
     "execution_count": 217,
     "metadata": {},
     "output_type": "execute_result"
    }
   ],
   "source": [
    "new_array = np.array(['yes','yes'])\n",
    "new_array2 = np.array([3,4])\n",
    "new_array"
   ]
  },
  {
   "cell_type": "code",
   "execution_count": 219,
   "metadata": {},
   "outputs": [
    {
     "data": {
      "text/plain": [
       "array([['yes', 'yes'],\n",
       "       ['3', '4'],\n",
       "       ['yes', 'yes']], dtype='<U11')"
      ]
     },
     "execution_count": 219,
     "metadata": {},
     "output_type": "execute_result"
    }
   ],
   "source": [
    "np.stack((new_array,new_array2,new_array))"
   ]
  },
  {
   "cell_type": "code",
   "execution_count": 229,
   "metadata": {},
   "outputs": [
    {
     "data": {
      "text/plain": [
       "array([None, None, None, None, None, None, None, None, None, None, None,\n",
       "       None, None, None, None, None, None, None, None, None, None, None,\n",
       "       None, None, None, None, None, None, None, None, None, None, None,\n",
       "       None, None, None, None, None, None, None, None, None, None, None,\n",
       "       None, None, None, None, None, None, None, None, None, None, None,\n",
       "       None, None, None, None, None, None, None, None, None, None, None,\n",
       "       None, None, None, None, None, None, None, None, None, None, None,\n",
       "       None, None, None, None, None, None, None, None, None, None, None,\n",
       "       None, None, None, None, None, None, None, None, None, None, None,\n",
       "       None, None, None, None, None, None, None, None, None, None, None],\n",
       "      dtype=object)"
      ]
     },
     "execution_count": 229,
     "metadata": {},
     "output_type": "execute_result"
    }
   ],
   "source": [
    "md.size\n",
    "a = np.empty(md.size, dtype=object) \n",
    "a"
   ]
  },
  {
   "cell_type": "code",
   "execution_count": null,
   "metadata": {},
   "outputs": [],
   "source": []
  },
  {
   "cell_type": "code",
   "execution_count": null,
   "metadata": {},
   "outputs": [],
   "source": []
  },
  {
   "cell_type": "code",
   "execution_count": null,
   "metadata": {},
   "outputs": [],
   "source": []
  },
  {
   "cell_type": "code",
   "execution_count": null,
   "metadata": {},
   "outputs": [],
   "source": []
  },
  {
   "cell_type": "code",
   "execution_count": 9,
   "metadata": {},
   "outputs": [
    {
     "data": {
      "text/plain": [
       "DeviationSurvey(wellId='well_C', md=array([    0.  ,    35.  ,   774.81,   800.  ,   900.  ,  1000.  ,\n",
       "        1100.  ,  1200.  ,  1300.  ,  1400.  ,  1500.  ,  1600.  ,\n",
       "        1700.  ,  1800.  ,  1900.  ,  2000.  ,  2100.  ,  2200.  ,\n",
       "        2300.  ,  2400.  ,  2500.  ,  2600.  ,  2700.  ,  2800.  ,\n",
       "        2900.  ,  3000.  ,  3100.  ,  3200.  ,  3300.  ,  3400.  ,\n",
       "        3500.  ,  3600.  ,  3700.  ,  3800.  ,  3900.  ,  4000.  ,\n",
       "        4100.  ,  4200.  ,  4300.  ,  4400.  ,  4500.  ,  4600.  ,\n",
       "        4700.  ,  4800.  ,  4900.  ,  5000.  ,  5100.  ,  5200.  ,\n",
       "        5300.  ,  5400.  ,  5500.  ,  5600.  ,  5700.  ,  5800.  ,\n",
       "        5900.  ,  6000.  ,  6100.  ,  6200.  ,  6300.  ,  6400.  ,\n",
       "        6450.67,  6532.  ,  6625.  ,  6720.  ,  6813.  ,  6909.  ,\n",
       "        7002.  ,  7098.  ,  7191.  ,  7286.  ,  7379.  ,  7475.  ,\n",
       "        7569.  ,  7663.  ,  7758.  ,  7851.  ,  7947.  ,  8040.  ,\n",
       "        8135.  ,  8229.  ,  8324.  ,  8418.  ,  8512.  ,  8606.  ,\n",
       "        8700.  ,  8794.  ,  8859.  ,  8924.  ,  9018.  ,  9112.  ,\n",
       "        9206.  ,  9292.  ,  9386.  ,  9481.  ,  9574.  ,  9669.  ,\n",
       "        9764.  ,  9858.  ,  9952.  , 10047.  , 10142.  , 10236.  ,\n",
       "       10330.  , 10424.  , 10517.  , 10613.  , 10707.  , 10802.  ,\n",
       "       10851.  , 10890.  ]), inc=array([ 0.  ,  0.  ,  0.46,  0.13,  0.57,  0.49,  0.29,  0.6 ,  0.53,\n",
       "        0.83,  0.61,  0.87,  1.17,  1.27,  1.21,  1.18,  1.24,  1.07,\n",
       "        1.14,  1.16,  0.86,  0.95,  1.22,  0.82,  0.83,  0.98,  0.87,\n",
       "        1.25,  1.06,  1.07,  1.34,  1.03,  1.17,  1.34,  1.37,  1.39,\n",
       "        1.16,  1.61,  1.58,  1.78,  1.78,  1.81,  1.86,  1.63,  1.51,\n",
       "        1.57,  1.09,  0.99,  0.88,  0.91,  0.83,  0.77,  0.64,  0.91,\n",
       "        0.94,  0.66,  1.09,  0.91,  0.95,  0.8 ,  4.91, 10.35, 15.28,\n",
       "       20.67, 26.19, 34.23, 40.44, 44.43, 45.39, 48.78, 51.19, 53.89,\n",
       "       56.1 , 58.69, 61.62, 64.38, 67.3 , 70.15, 72.39, 75.47, 78.67,\n",
       "       81.46, 84.59, 86.2 , 87.65, 89.13, 90.27, 89.72, 89.9 , 90.02,\n",
       "       90.05, 90.03, 89.94, 90.06, 90.37, 90.24, 90.06, 89.97, 89.88,\n",
       "       90.15, 90.03, 89.91, 89.97, 90.  , 89.88, 89.88, 90.  , 89.72,\n",
       "       90.06, 90.  ]), azim=array([227.11, 227.11, 227.11, 163.86, 230.43, 254.47, 268.25, 147.67,\n",
       "       236.56, 190.05, 342.93, 184.69, 187.06, 193.66, 195.77, 185.77,\n",
       "       214.81, 203.82, 189.81, 194.18, 109.65, 214.46, 205.35, 190.63,\n",
       "       187.75, 193.45, 188.19, 205.4 , 130.09, 218.09, 247.16, 245.17,\n",
       "       239.46, 234.52, 232.45, 228.1 , 199.28, 305.98, 213.22, 211.63,\n",
       "       207.08, 209.84, 204.39, 208.  , 208.46, 201.98, 187.95, 185.23,\n",
       "       165.95, 163.86, 138.75, 253.13, 132.16, 189.07, 141.79, 143.34,\n",
       "       306.53, 111.26, 117.69,  87.41,  55.44,  48.23,  50.93,  49.37,\n",
       "        48.77,  48.96,  48.41,  48.88,  49.58,  49.67,  49.73,  49.78,\n",
       "        49.14,  49.25,  49.5 ,  49.12,  48.63,  48.79,  48.83,  49.02,\n",
       "        49.49,  49.55,  49.29,  47.62,  47.22,  47.69,  48.36,  48.41,\n",
       "        44.97,  42.69,  40.86,  40.48,  40.36,  39.41,  38.74,  40.09,\n",
       "        38.63,  35.85,  33.71,  32.12,  30.91,  29.75,  28.78,  28.53,\n",
       "        29.28,  27.59,  26.69,  26.72,  27.04,  27.35]), surface_latitude=29.90829444, surface_longitude=47.68852083, tvd=None, n_s_deviation=None, e_w_deviation=None, dls=None, surface_x=None, surface_y=None, x_points=None, y_points=None, zone_number=None, zone_letter=None, latitude_points=None, longitude_points=None, isHorizontal=None)"
      ]
     },
     "execution_count": 9,
     "metadata": {},
     "output_type": "execute_result"
    }
   ],
   "source": [
    "# use that path to greate a Deviation Survey Object\n",
    "my_calc_obj = WellboreTrajectory(data)\n",
    "my_calc_obj.deviation_survey_obj"
   ]
  },
  {
   "cell_type": "code",
   "execution_count": 33,
   "metadata": {},
   "outputs": [
    {
     "data": {
      "text/plain": [
       "DeviationSurvey(wellId='well_C', md=array([    0.  ,    35.  ,   774.81,   800.  ,   900.  ,  1000.  ,\n",
       "        1100.  ,  1200.  ,  1300.  ,  1400.  ,  1500.  ,  1600.  ,\n",
       "        1700.  ,  1800.  ,  1900.  ,  2000.  ,  2100.  ,  2200.  ,\n",
       "        2300.  ,  2400.  ,  2500.  ,  2600.  ,  2700.  ,  2800.  ,\n",
       "        2900.  ,  3000.  ,  3100.  ,  3200.  ,  3300.  ,  3400.  ,\n",
       "        3500.  ,  3600.  ,  3700.  ,  3800.  ,  3900.  ,  4000.  ,\n",
       "        4100.  ,  4200.  ,  4300.  ,  4400.  ,  4500.  ,  4600.  ,\n",
       "        4700.  ,  4800.  ,  4900.  ,  5000.  ,  5100.  ,  5200.  ,\n",
       "        5300.  ,  5400.  ,  5500.  ,  5600.  ,  5700.  ,  5800.  ,\n",
       "        5900.  ,  6000.  ,  6100.  ,  6200.  ,  6300.  ,  6400.  ,\n",
       "        6450.67,  6532.  ,  6625.  ,  6720.  ,  6813.  ,  6909.  ,\n",
       "        7002.  ,  7098.  ,  7191.  ,  7286.  ,  7379.  ,  7475.  ,\n",
       "        7569.  ,  7663.  ,  7758.  ,  7851.  ,  7947.  ,  8040.  ,\n",
       "        8135.  ,  8229.  ,  8324.  ,  8418.  ,  8512.  ,  8606.  ,\n",
       "        8700.  ,  8794.  ,  8859.  ,  8924.  ,  9018.  ,  9112.  ,\n",
       "        9206.  ,  9292.  ,  9386.  ,  9481.  ,  9574.  ,  9669.  ,\n",
       "        9764.  ,  9858.  ,  9952.  , 10047.  , 10142.  , 10236.  ,\n",
       "       10330.  , 10424.  , 10517.  , 10613.  , 10707.  , 10802.  ,\n",
       "       10851.  , 10890.  ]), inc=array([ 0.  ,  0.  ,  0.46,  0.13,  0.57,  0.49,  0.29,  0.6 ,  0.53,\n",
       "        0.83,  0.61,  0.87,  1.17,  1.27,  1.21,  1.18,  1.24,  1.07,\n",
       "        1.14,  1.16,  0.86,  0.95,  1.22,  0.82,  0.83,  0.98,  0.87,\n",
       "        1.25,  1.06,  1.07,  1.34,  1.03,  1.17,  1.34,  1.37,  1.39,\n",
       "        1.16,  1.61,  1.58,  1.78,  1.78,  1.81,  1.86,  1.63,  1.51,\n",
       "        1.57,  1.09,  0.99,  0.88,  0.91,  0.83,  0.77,  0.64,  0.91,\n",
       "        0.94,  0.66,  1.09,  0.91,  0.95,  0.8 ,  4.91, 10.35, 15.28,\n",
       "       20.67, 26.19, 34.23, 40.44, 44.43, 45.39, 48.78, 51.19, 53.89,\n",
       "       56.1 , 58.69, 61.62, 64.38, 67.3 , 70.15, 72.39, 75.47, 78.67,\n",
       "       81.46, 84.59, 86.2 , 87.65, 89.13, 90.27, 89.72, 89.9 , 90.02,\n",
       "       90.05, 90.03, 89.94, 90.06, 90.37, 90.24, 90.06, 89.97, 89.88,\n",
       "       90.15, 90.03, 89.91, 89.97, 90.  , 89.88, 89.88, 90.  , 89.72,\n",
       "       90.06, 90.  ]), azim=array([227.11, 227.11, 227.11, 163.86, 230.43, 254.47, 268.25, 147.67,\n",
       "       236.56, 190.05, 342.93, 184.69, 187.06, 193.66, 195.77, 185.77,\n",
       "       214.81, 203.82, 189.81, 194.18, 109.65, 214.46, 205.35, 190.63,\n",
       "       187.75, 193.45, 188.19, 205.4 , 130.09, 218.09, 247.16, 245.17,\n",
       "       239.46, 234.52, 232.45, 228.1 , 199.28, 305.98, 213.22, 211.63,\n",
       "       207.08, 209.84, 204.39, 208.  , 208.46, 201.98, 187.95, 185.23,\n",
       "       165.95, 163.86, 138.75, 253.13, 132.16, 189.07, 141.79, 143.34,\n",
       "       306.53, 111.26, 117.69,  87.41,  55.44,  48.23,  50.93,  49.37,\n",
       "        48.77,  48.96,  48.41,  48.88,  49.58,  49.67,  49.73,  49.78,\n",
       "        49.14,  49.25,  49.5 ,  49.12,  48.63,  48.79,  48.83,  49.02,\n",
       "        49.49,  49.55,  49.29,  47.62,  47.22,  47.69,  48.36,  48.41,\n",
       "        44.97,  42.69,  40.86,  40.48,  40.36,  39.41,  38.74,  40.09,\n",
       "        38.63,  35.85,  33.71,  32.12,  30.91,  29.75,  28.78,  28.53,\n",
       "        29.28,  27.59,  26.69,  26.72,  27.04,  27.35]), surface_latitude=29.90829444, surface_longitude=47.68852083, tvd=array([   0.        ,   35.        ,  774.80205236,  799.9916839 ,\n",
       "        899.98957066,  999.98528439, 1099.98291708, 1199.97977187,\n",
       "       1299.97490562, 1399.96774509, 1499.95980744, 1599.95135856,\n",
       "       1699.93539853, 1799.91271696, 1899.88929431, 1999.86754393,\n",
       "       2099.8452397 , 2199.8248857 , 2299.80628255, 2399.78613986,\n",
       "       2499.77051364, 2599.75802178, 2699.73999928, 2799.7239516 ,\n",
       "       2899.71358513, 2999.70108231, 3099.68803535, 3199.67073753,\n",
       "       3299.65039143, 3399.63311651, 3499.6109049 , 3599.58939615,\n",
       "       3699.5709424 , 3799.54691757, 3899.51895345, 3999.48994863,\n",
       "       4099.46512692, 4199.43556378, 4299.39682997, 4399.35379463,\n",
       "       4499.30554098, 4599.25646956, 4699.20518489, 4799.15874306,\n",
       "       4899.12118453, 4999.0850605 , 5099.05782961, 5199.04134366,\n",
       "       5299.02801386, 5399.01581265, 5499.004277  , 5598.99453025,\n",
       "       5698.9869478 , 5798.9777011 , 5898.96466764, 5998.95482054,\n",
       "       6098.94287286, 6198.92763525, 6298.9144603 , 6398.90277221,\n",
       "       6449.49892068, 6530.07840696, 6620.73385719, 6711.06365715,\n",
       "       6796.36247083, 6879.25635883, 6953.16472562, 7024.00253299,\n",
       "       7089.86588017, 7154.54311968, 7214.33658158, 7272.71906108,\n",
       "       7326.6385766 , 7377.28559394, 7424.55766084, 7466.7746503 ,\n",
       "       7506.06181579, 7539.80284576, 7570.306201  , 7596.32330294,\n",
       "       7617.57772512, 7633.79396604, 7645.20749536, 7652.75404791,\n",
       "       7657.79630452, 7660.43720229, 7660.77749063, 7660.78311918,\n",
       "       7661.09477093, 7661.16033202, 7661.10284739, 7661.04275014,\n",
       "       7661.06729601, 7661.06723206, 7660.71819198, 7660.2124211 ,\n",
       "       7659.96364797, 7659.93897552, 7660.06195799, 7660.03702311,\n",
       "       7659.88773352, 7659.93688854, 7660.03526184, 7660.05980771,\n",
       "       7660.15713449, 7660.35813173, 7660.45650502, 7660.6885695 ,\n",
       "       7660.7826096 , 7660.76216298]), n_s_deviation=array([ 0.00000000e+00, -1.37853123e-17, -2.02120304e+00, -2.11747423e+00,\n",
       "       -2.54331148e+00, -2.97465803e+00, -3.09687233e+00, -3.54702524e+00,\n",
       "       -4.24431864e+00, -5.21236307e+00, -5.41667042e+00, -5.66445225e+00,\n",
       "       -7.43430965e+00, -9.52436356e+00, -1.16173152e+01, -1.36578743e+01,\n",
       "       -1.55707206e+01, -1.73132762e+01, -1.91476665e+01, -2.11092738e+01,\n",
       "       -2.23430190e+01, -2.32789031e+01, -2.49244904e+01, -2.65898398e+01,\n",
       "       -2.80107915e+01, -2.95601783e+01, -3.11433404e+01, -3.28801005e+01,\n",
       "       -3.44610833e+01, -3.57916156e+01, -3.69803351e+01, -3.78116235e+01,\n",
       "       -3.87078339e+01, -3.99052784e+01, -4.13125015e+01, -4.28510661e+01,\n",
       "       -4.46165238e+01, -4.47466470e+01, -4.50746457e+01, -4.75503611e+01,\n",
       "       -5.02555752e+01, -5.30082836e+01, -5.58562012e+01, -5.85900167e+01,\n",
       "       -6.10041327e+01, -6.34328142e+01, -6.56451723e+01, -6.74474774e+01,\n",
       "       -6.90527190e+01, -7.05604547e+01, -7.18677961e+01, -7.26073384e+01,\n",
       "       -7.31771963e+01, -7.43362244e+01, -7.57649125e+01, -7.68714604e+01,\n",
       "       -7.67673139e+01, -7.64890862e+01, -7.71622488e+01, -7.75159265e+01,\n",
       "       -7.62693198e+01, -6.94230110e+01, -5.61261178e+01, -3.73044917e+01,\n",
       "       -1.30713494e+01,  1.86716088e+01,  5.59039697e+01,  9.86865303e+01,\n",
       "        1.41558635e+02,  1.86620485e+02,  2.32685134e+02,  2.81911427e+02,\n",
       "        3.31957433e+02,  3.83699227e+02,  4.37342727e+02,  4.91364006e+02,\n",
       "        5.48969383e+02,  6.06148249e+02,  6.65394128e+02,  7.24734956e+02,\n",
       "        7.85158398e+02,  8.45260340e+02,  9.05948465e+02,  9.68081147e+02,\n",
       "        1.03158981e+03,  1.09512217e+03,  1.13859248e+03,  1.18176022e+03,\n",
       "        1.24620960e+03,  1.31400750e+03,  1.38410060e+03,  1.44932911e+03,\n",
       "        1.52089238e+03,  1.59378648e+03,  1.66598252e+03,  1.73937026e+03,\n",
       "        1.81281578e+03,  1.88762789e+03,  1.96482110e+03,  2.04456368e+03,\n",
       "        2.12554687e+03,  2.20667702e+03,  2.28867662e+03,  2.37116358e+03,\n",
       "        2.45257604e+03,  2.53698503e+03,  2.62063246e+03,  2.70549867e+03,\n",
       "        2.74920416e+03,  2.78389282e+03]), e_w_deviation=array([ 0.00000000e+00, -1.48400066e-17, -2.17584236e+00, -2.24198402e+00,\n",
       "       -2.59387761e+00, -3.38929521e+00, -4.05423896e+00, -4.02718020e+00,\n",
       "       -4.13311241e+00, -4.64545267e+00, -4.92810207e+00, -5.14643276e+00,\n",
       "       -5.33399368e+00, -5.72119085e+00, -6.26985886e+00, -6.66033428e+00,\n",
       "       -7.38153427e+00, -8.37630369e+00, -8.92288458e+00, -9.34034125e+00,\n",
       "       -8.88154478e+00, -8.64385623e+00, -9.56872314e+00, -1.01565171e+01,\n",
       "       -1.03861865e+01, -1.06827693e+01, -1.09898326e+01, -1.15658473e+01,\n",
       "       -1.13260729e+01, -1.11944362e+01, -1.28480229e+01, -1.47413241e+01,\n",
       "       -1.64363521e+01, -1.82678247e+01, -2.01677492e+01, -2.20182850e+01,\n",
       "       -2.32552747e+01, -2.47263008e+01, -2.66183940e+01, -2.81881843e+01,\n",
       "       -2.97097016e+01, -3.12025354e+01, -3.26585056e+01, -3.39963761e+01,\n",
       "       -3.52919696e+01, -3.64325906e+01, -3.70768846e+01, -3.72871869e+01,\n",
       "       -3.71795109e+01, -3.67723413e+01, -3.60740414e+01, -3.62395027e+01,\n",
       "       -3.64685225e+01, -3.61797082e+01, -3.57975182e+01, -3.49462669e+01,\n",
       "       -3.53666805e+01, -3.53909200e+01, -3.39168180e+01, -3.24853682e+01,\n",
       "       -3.03452994e+01, -2.20237849e+01, -6.26921560e+00,  1.61908433e+01,\n",
       "        4.41039232e+01,  8.04614299e+01,  1.22790651e+02,  1.71410194e+02,\n",
       "        2.21135813e+02,  2.74132499e+02,  3.28451128e+02,  3.86610837e+02,\n",
       "        4.45115521e+02,  5.05050118e+02,  5.67585921e+02,  6.30408504e+02,\n",
       "        6.96378191e+02,  7.61488266e+02,  8.29188492e+02,  8.97273922e+02,\n",
       "        9.67414937e+02,  1.03783540e+03,  1.10869046e+03,  1.17880536e+03,\n",
       "        1.24791863e+03,  1.31714307e+03,  1.36546419e+03,  1.41405959e+03,\n",
       "        1.48242772e+03,  1.54751178e+03,  1.61012728e+03,  1.66617329e+03,\n",
       "        1.72712153e+03,  1.78803807e+03,  1.84665796e+03,  1.90697156e+03,\n",
       "        1.96721460e+03,  2.02408247e+03,  2.07769323e+03,  2.12931067e+03,\n",
       "        2.17896642e+03,  2.22643208e+03,  2.27238229e+03,  2.31745844e+03,\n",
       "        2.36240983e+03,  2.40811628e+03,  2.45099457e+03,  2.49368712e+03,\n",
       "        2.51584102e+03,  2.53366475e+03]), dls=array([0.00000000e+00, 0.00000000e+00, 6.21781757e-02, 1.31232310e+00,\n",
       "       4.39221317e-01, 8.04228773e-02, 2.00071540e-01, 3.05418485e-01,\n",
       "       7.54425181e-02, 2.97606656e-01, 2.36700951e-01, 2.42136276e-01,\n",
       "       2.99985041e-01, 9.98282346e-02, 6.00182291e-02, 3.03785574e-02,\n",
       "       5.67899502e-02, 1.70424766e-01, 6.93668432e-02, 1.99329254e-02,\n",
       "       3.15750269e-01, 7.20972968e-02, 2.69745086e-01, 4.00573314e-01,\n",
       "       9.98500555e-03, 1.49929930e-01, 1.10062745e-01, 3.79150580e-01,\n",
       "       2.07259038e-01, 9.10249869e-03, 2.66848255e-01, 3.10014770e-01,\n",
       "       1.39895762e-01, 1.69898507e-01, 2.99791190e-02, 1.99042910e-02,\n",
       "       2.33485281e-01, 4.08046160e-01, 7.65236333e-02, 1.99981263e-01,\n",
       "       1.74220101e-04, 2.99348167e-02, 4.97345106e-02, 2.30105145e-01,\n",
       "       1.20001478e-01, 5.97357686e-02, 4.80891203e-01, 1.00021295e-01,\n",
       "       1.10852783e-01, 2.99907267e-02, 8.12457823e-02, 7.57578344e-02,\n",
       "       1.43026417e-01, 2.65385225e-01, 2.51993303e-02, 2.80004182e-01,\n",
       "       4.05427058e-01, 2.14009347e-01, 3.99051249e-02, 1.51809635e-01,\n",
       "       8.09081900e+00, 6.68023804e+00, 5.29784122e+00, 5.67160924e+00,\n",
       "       5.93496227e+00, 8.37492511e+00, 6.67638890e+00, 4.15534146e+00,\n",
       "       1.02996749e+00, 3.56838401e+00, 2.59138009e+00, 2.81248790e+00,\n",
       "       2.34851585e+00, 2.75524166e+00, 3.08378139e+00, 2.96666935e+00,\n",
       "       3.03985353e+00, 3.06431010e+00, 2.35788341e+00, 3.27628910e+00,\n",
       "       3.36649771e+00, 2.96805503e+00, 3.32917200e+00, 1.68704987e+00,\n",
       "       1.54107353e+00, 1.57242053e+00, 1.74782160e+00, 8.46188075e-01,\n",
       "       8.16646613e-02, 7.94058502e-02, 8.27467516e-04, 2.47210927e-02,\n",
       "       9.58784409e-02, 1.18025764e-01, 3.29121479e-01, 1.53582345e-01,\n",
       "       2.09053372e-01, 1.67478606e-01, 1.38255244e-01, 2.60989359e-01,\n",
       "       1.39764497e-01, 1.40151347e-01, 5.50950458e-02, 3.13346899e-02,\n",
       "       1.34310492e-01, 2.59607171e-02, 1.20140067e-01, 2.94745341e-01,\n",
       "       6.92054431e-01, 1.55996606e-01]), surface_x=759587.9344401711, surface_y=3311661.864849136, x_points=array([759587.93444017, 759587.93444017, 759587.27124342, 759587.25108344,\n",
       "       759587.14382628, 759586.90138299, 759586.69870814, 759586.70695564,\n",
       "       759586.67466751, 759586.5185062 , 759586.43235466, 759586.36580747,\n",
       "       759586.3086389 , 759586.1906212 , 759586.02338719, 759585.90437028,\n",
       "       759585.68454853, 759585.38134281, 759585.21474495, 759585.08750416,\n",
       "       759585.22734532, 759585.29979279, 759585.01789336, 759584.83873376,\n",
       "       759584.76873053, 759584.67833208, 759584.58473918, 759584.40916992,\n",
       "       759584.48225316, 759584.52237603, 759584.01836278, 759583.44128459,\n",
       "       759582.92464004, 759582.36640719, 759581.78731022, 759581.22326689,\n",
       "       759580.84623245, 759580.39786367, 759579.82115369, 759579.34268161,\n",
       "       759578.87892312, 759578.42390738, 759577.98012767, 759577.57234474,\n",
       "       759577.17744785, 759576.82978656, 759576.63340573, 759576.56930561,\n",
       "       759576.60212525, 759576.72623055, 759576.93907234, 759576.88863974,\n",
       "       759576.8188345 , 759576.9068651 , 759577.02335663, 759577.28281802,\n",
       "       759577.15467595, 759577.14728775, 759577.59659405, 759578.03289993,\n",
       "       759578.68519291, 759581.22159055, 759586.02358326, 759592.86940922,\n",
       "       759601.37731597, 759612.45908399, 759625.3610306 , 759640.18026739,\n",
       "       759655.33663587, 759671.49002588, 759688.04634402, 759705.77342333,\n",
       "       759723.60565099, 759741.87371618, 759760.93462884, 759780.08295207,\n",
       "       759800.19051272, 759820.03606369, 759840.67109264, 759861.4235316 ,\n",
       "       759882.802513  , 759904.2666706 , 759925.86329204, 759947.23431319,\n",
       "       759968.30003949, 759989.39964669, 760004.12792385, 760018.93980192,\n",
       "       760039.77840835, 760059.61603204, 760078.70123438, 760095.78405957,\n",
       "       760114.36108149, 760132.92844506, 760150.79578717, 760169.17937103,\n",
       "       760187.54145013, 760204.87477767, 760221.21533751, 760236.94833312,\n",
       "       760252.08340599, 760266.5509392 , 760280.55656304, 760294.29577225,\n",
       "       760307.99695571, 760321.92828112, 760334.99758426, 760348.01027549,\n",
       "       760354.7627828 , 760360.19545591]), y_points=array([3311661.86484914, 3311661.86484914, 3311661.24878645,\n",
       "       3311661.21944299, 3311661.0896478 , 3311660.95817337,\n",
       "       3311660.92092245, 3311660.78371584, 3311660.57118081,\n",
       "       3311660.27612087, 3311660.21384799, 3311660.13832409,\n",
       "       3311659.59887155, 3311658.96182312, 3311658.32389146,\n",
       "       3311657.70192905, 3311657.11889351, 3311656.58776254,\n",
       "       3311656.02864039, 3311655.4307425 , 3311655.05469696,\n",
       "       3311654.76943947, 3311654.26786448, 3311653.76026595,\n",
       "       3311653.32715989, 3311652.85490678, 3311652.37235899,\n",
       "       3311651.8429945 , 3311651.36111094, 3311650.9555647 ,\n",
       "       3311650.593243  , 3311650.3398663 , 3311650.06670136,\n",
       "       3311649.70172028, 3311649.27279868, 3311648.8038442 ,\n",
       "       3311648.26573267, 3311648.22607114, 3311648.12609713,\n",
       "       3311647.37149908, 3311646.54694983, 3311645.70792429,\n",
       "       3311644.83987901, 3311644.00661204, 3311643.27078948,\n",
       "       3311642.53052736, 3311641.85620062, 3311641.30685803,\n",
       "       3311640.81758037, 3311640.35802254, 3311639.95954488,\n",
       "       3311639.73413239, 3311639.56043972, 3311639.20716795,\n",
       "       3311638.7717038 , 3311638.43442801, 3311638.46617186,\n",
       "       3311638.55097566, 3311638.34579571, 3311638.23799473,\n",
       "       3311638.61796045, 3311640.70471538, 3311644.75760844,\n",
       "       3311650.49444008, 3311657.88070182, 3311667.55595549,\n",
       "       3311678.90437911, 3311691.94450356, 3311705.01192119,\n",
       "       3311718.74677303, 3311732.78727812, 3311747.79145201,\n",
       "       3311763.04547471, 3311778.81637349, 3311795.16691218,\n",
       "       3311811.63259822, 3311829.19071712, 3311846.6188354 ,\n",
       "       3311864.67697941, 3311882.76406374, 3311901.18112871,\n",
       "       3311919.50020064, 3311937.99794123, 3311956.9359827 ,\n",
       "       3311976.29342274, 3311995.658087  , 3312008.90783771,\n",
       "       3312022.06536487, 3312041.7095345 , 3312062.37433424,\n",
       "       3312083.73871144, 3312103.62036305, 3312125.43284558,\n",
       "       3312147.65096739, 3312169.65632205, 3312192.02490452,\n",
       "       3312214.41110004, 3312237.21382894, 3312260.74232019,\n",
       "       3312285.04786023, 3312309.73153467, 3312334.46000463,\n",
       "       3312359.45348241, 3312384.59550716, 3312409.41002751,\n",
       "       3312435.137885  , 3312460.63362334, 3312486.5008434 ,\n",
       "       3312499.82227807, 3312510.39538081]), zone_number=38, zone_letter='R', latitude_points=array([29.90829435, 29.90829435, 29.90828894, 29.90828868, 29.90828753,\n",
       "       29.90828639, 29.9082861 , 29.90828486, 29.90828295, 29.90828033,\n",
       "       29.90827978, 29.90827912, 29.90827427, 29.90826855, 29.90826283,\n",
       "       29.90825725, 29.90825204, 29.90824732, 29.90824231, 29.90823695,\n",
       "       29.90823353, 29.90823094, 29.90822648, 29.90822194, 29.90821805,\n",
       "       29.90821381, 29.90820948, 29.90820475, 29.90820039, 29.90819673,\n",
       "       29.90819357, 29.9081914 , 29.90818905, 29.90818588, 29.90818213,\n",
       "       29.90817802, 29.90817325, 29.90817299, 29.90817221, 29.90816551,\n",
       "       29.90815817, 29.90815071, 29.90814298, 29.90813555, 29.908129  ,\n",
       "       29.9081224 , 29.90811636, 29.90811142, 29.90810701, 29.90810284,\n",
       "       29.9080992 , 29.90809718, 29.90809563, 29.90809242, 29.90808847,\n",
       "       29.90808538, 29.90808569, 29.90808646, 29.90808451, 29.90808345,\n",
       "       29.90808674, 29.90810501, 29.90814054, 29.90819081, 29.9082556 ,\n",
       "       29.90834048, 29.90844006, 29.90855448, 29.90866908, 29.90878949,\n",
       "       29.90891256, 29.90904408, 29.90917782, 29.90931614, 29.90945951,\n",
       "       29.9096039 , 29.90975793, 29.90991085, 29.91006928, 29.91022794,\n",
       "       29.91038945, 29.91055006, 29.91071224, 29.91087845, 29.9110485 ,\n",
       "       29.9112186 , 29.91133493, 29.91145041, 29.91162309, 29.91180518,\n",
       "       29.91199374, 29.91216936, 29.91236206, 29.91255842, 29.91275301,\n",
       "       29.91295077, 29.91314869, 29.91335058, 29.91355923, 29.913775  ,\n",
       "       29.91399432, 29.91421417, 29.91443652, 29.91466026, 29.91488105,\n",
       "       29.91511003, 29.9153371 , 29.91556753, 29.91568619, 29.91578035]), longitude_points=array([47.68852365, 47.68852365, 47.68851664, 47.68851642, 47.68851528,\n",
       "       47.68851274, 47.68851064, 47.68851069, 47.6885103 , 47.68850862,\n",
       "       47.68850771, 47.688507  , 47.68850628, 47.6885049 , 47.68850302,\n",
       "       47.68850164, 47.68849922, 47.68849595, 47.6884941 , 47.68849263,\n",
       "       47.68849399, 47.68849467, 47.68849163, 47.68848966, 47.68848883,\n",
       "       47.68848778, 47.68848669, 47.68848475, 47.68848539, 47.6884857 ,\n",
       "       47.6884804 , 47.68847437, 47.68846895, 47.68846309, 47.68845699,\n",
       "       47.68845104, 47.68844701, 47.68844236, 47.68843637, 47.68843124,\n",
       "       47.68842624, 47.68842133, 47.68841653, 47.6884121 , 47.68840784,\n",
       "       47.68840406, 47.68840187, 47.68840107, 47.68840129, 47.68840247,\n",
       "       47.68840457, 47.68840399, 47.68840323, 47.68840406, 47.68840516,\n",
       "       47.68840776, 47.68840644, 47.68840638, 47.68841098, 47.68841547,\n",
       "       47.68842231, 47.68844906, 47.68849973, 47.68857196, 47.68866178,\n",
       "       47.6887788 , 47.68891505, 47.68907155, 47.68923154, 47.68940202,\n",
       "       47.68957674, 47.6897638 , 47.68995202, 47.69014487, 47.69034607,\n",
       "       47.6905482 , 47.69076052, 47.6909701 , 47.691188  , 47.69140712,\n",
       "       47.69163281, 47.69185936, 47.69208732, 47.69231305, 47.69253573,\n",
       "       47.69275876, 47.69291438, 47.69307084, 47.69329124, 47.69350153,\n",
       "       47.69370421, 47.6938858 , 47.69408333, 47.69428085, 47.69447108,\n",
       "       47.69466675, 47.69486219, 47.69504709, 47.6952219 , 47.69539061,\n",
       "       47.69555322, 47.69570894, 47.69585994, 47.69600822, 47.69615603,\n",
       "       47.69630645, 47.69644789, 47.69658883, 47.69666194, 47.69672073]), isHorizontal=array(['Vertical', 'Vertical', 'Vertical', 'Vertical', 'Vertical',\n",
       "       'Vertical', 'Vertical', 'Vertical', 'Vertical', 'Vertical',\n",
       "       'Vertical', 'Vertical', 'Vertical', 'Vertical', 'Vertical',\n",
       "       'Vertical', 'Vertical', 'Vertical', 'Vertical', 'Vertical',\n",
       "       'Vertical', 'Vertical', 'Vertical', 'Vertical', 'Vertical',\n",
       "       'Vertical', 'Vertical', 'Vertical', 'Vertical', 'Vertical',\n",
       "       'Vertical', 'Vertical', 'Vertical', 'Vertical', 'Vertical',\n",
       "       'Vertical', 'Vertical', 'Vertical', 'Vertical', 'Vertical',\n",
       "       'Vertical', 'Vertical', 'Vertical', 'Vertical', 'Vertical',\n",
       "       'Vertical', 'Vertical', 'Vertical', 'Vertical', 'Vertical',\n",
       "       'Vertical', 'Vertical', 'Vertical', 'Vertical', 'Vertical',\n",
       "       'Vertical', 'Vertical', 'Vertical', 'Vertical', 'Vertical',\n",
       "       'Vertical', 'Vertical', 'Vertical', 'Vertical', 'Vertical',\n",
       "       'Vertical', 'Vertical', 'Vertical', 'Vertical', 'Vertical',\n",
       "       'Vertical', 'Vertical', 'Vertical', 'Vertical', 'Vertical',\n",
       "       'Vertical', 'Vertical', 'Vertical', 'Vertical', 'Vertical',\n",
       "       'Vertical', 'Vertical', 'Vertical', 'Vertical', 'Vertical',\n",
       "       'Horizontal', 'Horizontal', 'Horizontal', 'Horizontal',\n",
       "       'Horizontal', 'Horizontal', 'Horizontal', 'Horizontal',\n",
       "       'Horizontal', 'Horizontal', 'Horizontal', 'Horizontal',\n",
       "       'Horizontal', 'Horizontal', 'Horizontal', 'Horizontal',\n",
       "       'Horizontal', 'Horizontal', 'Horizontal', 'Horizontal',\n",
       "       'Horizontal', 'Horizontal', 'Horizontal', 'Horizontal',\n",
       "       'Horizontal'], dtype='<U10'))"
      ]
     },
     "execution_count": 33,
     "metadata": {},
     "output_type": "execute_result"
    }
   ],
   "source": [
    "my_calc_obj.calculate_survey_points()\n",
    "my_calc_obj.deviation_survey_obj"
   ]
  },
  {
   "cell_type": "code",
   "execution_count": null,
   "metadata": {},
   "outputs": [],
   "source": []
  },
  {
   "cell_type": "code",
   "execution_count": null,
   "metadata": {},
   "outputs": [],
   "source": []
  },
  {
   "cell_type": "code",
   "execution_count": null,
   "metadata": {},
   "outputs": [],
   "source": []
  },
  {
   "cell_type": "code",
   "execution_count": null,
   "metadata": {},
   "outputs": [],
   "source": []
  },
  {
   "cell_type": "code",
   "execution_count": null,
   "metadata": {},
   "outputs": [],
   "source": []
  },
  {
   "cell_type": "code",
   "execution_count": null,
   "metadata": {},
   "outputs": [],
   "source": [
    "@classmethod\n",
    "def from_df(cls,  df:DataFrame, wellId_name: Optional[str] = None, md_name: Optional[str] = None,\n",
    "            inc_name: Optional[str] = None, azim_name: Optional[str] = None,\n",
    "            surface_latitude_name: Optional[str] = None,\n",
    "            surface_longitude_name: Optional[str] = None) -> 'DirectionalSurveyObj':\n",
    "\n",
    "    # if no column names are specified use 0:5 for dir survey obj\n",
    "    wellId_name = ifnone(wellId_name, df.columns[0])\n",
    "    md_name = ifnone(md_name, df.columns[1])\n",
    "    inc_name = ifnone(inc_name, df.columns[2])\n",
    "    azim_name = ifnone(azim_name, df.columns[3])\n",
    "    surface_latitude_name = ifnone(surface_latitude_name, df.columns[4])\n",
    "    surface_longitude_name = ifnone(surface_longitude_name, df.columns[5])\n",
    "\n",
    "    dataclass_obj = dict(wellId=df[wellId_name][0],\n",
    "                               md=np.array(df[md_name]),\n",
    "                               inc=np.array(df[inc_name]),\n",
    "                               azim=np.array(df[azim_name]),\n",
    "                               surface_latitude=df[surface_latitude_name][0],\n",
    "                               surface_longitude=df[surface_longitude_name][0])\n",
    "    return dataclass_obj\n",
    "\n",
    "def from_csv(self, **kwargs):\n",
    "    if self.extension == '.csv':\n",
    "        print(self.path)\n",
    "        # go through csv steps\n",
    "        # Transform.from_csv: > return self.from_df\n",
    "        # self.from_df > return self.from_json\n",
    "        df = pd.read_csv(self.path, sep=',')\n",
    "        return self.from_df(df, **kwargs)"
   ]
  },
  {
   "cell_type": "code",
   "execution_count": null,
   "metadata": {},
   "outputs": [],
   "source": []
  },
  {
   "cell_type": "code",
   "execution_count": null,
   "metadata": {},
   "outputs": [],
   "source": []
  },
  {
   "cell_type": "code",
   "execution_count": null,
   "metadata": {},
   "outputs": [],
   "source": []
  },
  {
   "cell_type": "code",
   "execution_count": 286,
   "metadata": {},
   "outputs": [
    {
     "data": {
      "text/plain": [
       "[1, 3, 6, 10]"
      ]
     },
     "execution_count": 286,
     "metadata": {},
     "output_type": "execute_result"
    }
   ],
   "source": [
    "nums = [1,2,3,4]\n",
    "\n",
    "counter = 0\n",
    "res = []\n",
    "for i in nums:\n",
    "    counter += i\n",
    "    res.append(counter)\n",
    "myList"
   ]
  },
  {
   "cell_type": "code",
   "execution_count": 292,
   "metadata": {},
   "outputs": [
    {
     "data": {
      "text/plain": [
       "[1, 3, 6, 10]"
      ]
     },
     "execution_count": 292,
     "metadata": {},
     "output_type": "execute_result"
    }
   ],
   "source": [
    "nums = [1,2,3,4]\n",
    "\n",
    "[sum(nums[:i+1]) for i in range(len(nums))]\n"
   ]
  },
  {
   "cell_type": "code",
   "execution_count": null,
   "metadata": {},
   "outputs": [],
   "source": []
  }
 ],
 "metadata": {
  "kernelspec": {
   "display_name": "Python 3",
   "language": "python",
   "name": "python3"
  },
  "language_info": {
   "codemirror_mode": {
    "name": "ipython",
    "version": 3
   },
   "file_extension": ".py",
   "mimetype": "text/x-python",
   "name": "python",
   "nbconvert_exporter": "python",
   "pygments_lexer": "ipython3",
   "version": "3.7.7"
  },
  "toc": {
   "base_numbering": 1,
   "nav_menu": {},
   "number_sections": true,
   "sideBar": true,
   "skip_h1_title": false,
   "title_cell": "Table of Contents",
   "title_sidebar": "Contents",
   "toc_cell": false,
   "toc_position": {},
   "toc_section_display": true,
   "toc_window_display": false
  },
  "varInspector": {
   "cols": {
    "lenName": 16,
    "lenType": 16,
    "lenVar": 40
   },
   "kernels_config": {
    "python": {
     "delete_cmd_postfix": "",
     "delete_cmd_prefix": "del ",
     "library": "var_list.py",
     "varRefreshCmd": "print(var_dic_list())"
    },
    "r": {
     "delete_cmd_postfix": ") ",
     "delete_cmd_prefix": "rm(",
     "library": "var_list.r",
     "varRefreshCmd": "cat(var_dic_list()) "
    }
   },
   "types_to_exclude": [
    "module",
    "function",
    "builtin_function_or_method",
    "instance",
    "_Feature"
   ],
   "window_display": false
  }
 },
 "nbformat": 4,
 "nbformat_minor": 4
}
