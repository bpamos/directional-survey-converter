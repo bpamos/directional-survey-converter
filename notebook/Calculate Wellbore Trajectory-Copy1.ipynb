{
 "cells": [
  {
   "cell_type": "markdown",
   "metadata": {},
   "source": [
    "# Calculate Well Trajectory\n",
    "\n",
    "Calculate the well trajectory points from a json document with only \n",
    "wellname, md, inc, azim, and surface latitude and longitude or surface x and y.\n",
    "\n",
    "Directional surveys come in a variety of formats, these formats are often missing critical information the user needs for their analysis. The directional-survey-converter library allows the user to take the bare minimum required wellbore survey information and convert that into its latitude and longitude points along the wellbore and a host of other common parameters.\n",
    "\n",
    "The directional-survey-converter requires the wellId, measured depth, inclination angle, azimuth degrees, surface_latitude, and surface_longitude points or surface x and y points to calculate various points along the wellbore using a minimum curvature algorithm.\n",
    "\n",
    "**The directional-survey-converter calculates the following:**\n",
    "\n",
    "* **tvd:**\n",
    "    * true vertical depth from surface to the survey point.\n",
    "* **n_s_deviation:**\n",
    "    * north south deviation for each point in the wellbore path.\n",
    "* **e_w_deviation:**\n",
    "    * east west deviation for each point in the wellbore path.\n",
    "* **dls:**\n",
    "    * Dogleg severity is a measure of the change in direction of a wellbore over a defined length, measured in degrees per 100 feet of length.\n",
    "* **surface_x:**\n",
    "    * Surface Easting component of the UTM coordinate\n",
    "* **surface_y:**\n",
    "    * Surface Northing component of the UTM coordinate\n",
    "* **x_points:**\n",
    "    * Easting component of the UTM coordinate\n",
    "* **y_points:**\n",
    "    * Northing component of the UTM coordinate\n",
    "* **zone_number:**\n",
    "    * Zone number of the UTM coordinate\n",
    "* **zone_letter:**\n",
    "    * Zone letter of the UTM coordinate\n",
    "* **latitude_points:**\n",
    "    * The latitude value of a location in the borehole. A positive value denotes north. Angle subtended with equatorial plane by a perpendicular from a point on the surface of a spheriod.\n",
    "* **longitude_points:**\n",
    "    * The longitude value of a location in a borehole. A positive value denotes east. Angle measured about the spheroid axis from a local prime meridian to the meridian through the point.\n"
   ]
  },
  {
   "cell_type": "code",
   "execution_count": 1,
   "metadata": {},
   "outputs": [],
   "source": [
    "# ONLY RUN ONCE, must restart notebook otherwise\n",
    "import os\n",
    "from pathlib import Path\n",
    "import matplotlib.pyplot as plt\n",
    "current_dir = Path.cwd()\n",
    "path = current_dir.parent\n",
    "#print(path)\n",
    "#change directory to get src class data\n",
    "os.chdir(path)\n",
    "from src.wellbore_trajectory import *"
   ]
  },
  {
   "cell_type": "markdown",
   "metadata": {},
   "source": [
    "## Get Wellbore Trajectory object"
   ]
  },
  {
   "cell_type": "markdown",
   "metadata": {},
   "source": [
    "get the path to the json file"
   ]
  },
  {
   "cell_type": "code",
   "execution_count": 25,
   "metadata": {},
   "outputs": [
    {
     "data": {
      "text/plain": [
       "WindowsPath('C:/Users/BpAmos/Documents/repos/directional-survey-converter/data/example.json')"
      ]
     },
     "execution_count": 25,
     "metadata": {},
     "output_type": "execute_result"
    }
   ],
   "source": [
    "json_path = path/'data/example.json'\n",
    "json_path"
   ]
  },
  {
   "cell_type": "code",
   "execution_count": 27,
   "metadata": {},
   "outputs": [
    {
     "data": {
      "text/plain": [
       "'{\"wellId\": \"well_A\", \"md\": [5600.55, 5800.0, 5900.0], \"inc\": [85.03, 89.91, 90.97], \"azim\": [27.59, 26.69, 26.72], \"tvd\": [0.0, 8.801411366548953, 8.033417349071017], \"e_w_deviation\": [0.0, 90.86066455861472, 135.79840877475], \"n_s_deviation\": [0.0, 177.2584234997277, 266.5877211334688], \"dls\": [0.0, 2.4431997863679826, 1.0599929804526975], \"surface_latitude\": 29.90829444, \"surface_longitude\": 47.68852083, \"longitude_points\": [47.6885236512062, 47.68882330644181, 47.688971633323014], \"latitude_points\": [29.90829435014479, 29.908775557209452, 29.90901811572951], \"zone_number\": 38, \"zone_letter\": \"R\", \"x_points\": [759587.9344401711, 759615.6287707286, 759629.3257951656], \"y_points\": [3311661.864849136, 3311715.893216619, 3311743.120786538], \"surface_x\": 759587.9344401711, \"surface_y\": 3311661.864849136, \"isHorizontal\": [\"Vertical\", \"Horizontal\", \"Horizontal\"]}'"
      ]
     },
     "execution_count": 27,
     "metadata": {},
     "output_type": "execute_result"
    }
   ],
   "source": [
    "dev_obj = WellboreTrajectory.from_json(json_path)\n",
    "dev_obj.calculate_survey_points()\n",
    "dev_obj.serialize()"
   ]
  },
  {
   "cell_type": "code",
   "execution_count": null,
   "metadata": {},
   "outputs": [],
   "source": []
  },
  {
   "cell_type": "code",
   "execution_count": 105,
   "metadata": {},
   "outputs": [],
   "source": [
    "well_dict = {\n",
    "    \"wellId\": \"well_A\", \n",
    "    \"md\": [5000.0, 5200.0, 5400.0, 5600.55, 5800.0, 5900.0], \n",
    "    \"inc\": [70.97, 75.88, 80.15, 85.03, 89.91, 90.97],\n",
    "    \"azim\": [28.78, 28.53, 29.28, 27.59, 26.69, 26.72], \n",
    "    \"surface_latitude\": 29.90, \n",
    "    \"surface_longitude\": 47.68\n",
    "}"
   ]
  },
  {
   "cell_type": "code",
   "execution_count": 15,
   "metadata": {},
   "outputs": [],
   "source": [
    "well_dict = {\n",
    "    \"wellId\": \"well_A\", \n",
    "    \"md\": [5600.55, 5800.0, 5900.0], \n",
    "    \"inc\": [85.03, 89.91, 90.97],\n",
    "    \"azim\": [27.59, 26.69, 26.72], \n",
    "    \"surface_latitude\": 29.90829444, \n",
    "    \"surface_longitude\": 47.68852083\n",
    "}"
   ]
  },
  {
   "cell_type": "code",
   "execution_count": 16,
   "metadata": {},
   "outputs": [],
   "source": [
    "# filename = path/'data/example.json'\n",
    "# def write_to_file(filename, data):\n",
    "#     with open(filename, 'w+') as fp:\n",
    "#         fp.write(json.dumps(data))\n",
    "        \n",
    "# write_to_file(filename, well_dict)"
   ]
  },
  {
   "cell_type": "code",
   "execution_count": 97,
   "metadata": {},
   "outputs": [],
   "source": [
    "well_dict = {\n",
    "    \"wellId\": \"well_A\", \n",
    "    \"md\": [5600.55, 5800.0, 5900.0], \n",
    "    \"inc\": [85.03, 89.91, 90.97],\n",
    "    \"azim\": [27.59, 26.69, 26.72], \n",
    "    \"surface_x\": 759587.9344401711, \n",
    "    \"surface_y\": 3311661.864849136\n",
    "}"
   ]
  },
  {
   "cell_type": "markdown",
   "metadata": {},
   "source": [
    "Open the json, just to take a look at it. the `from_json()` takes care of this"
   ]
  },
  {
   "cell_type": "markdown",
   "metadata": {},
   "source": [
    "using the WellboreTrajectory class, use `from_json` to take the path and convert it to a deviation survey object. This step will validate if the json contains the correct data for the minimum curvature calculation.\n",
    "\n",
    "**Create Wellbore_Survey_Object:**"
   ]
  },
  {
   "cell_type": "code",
   "execution_count": 106,
   "metadata": {},
   "outputs": [
    {
     "data": {
      "text/plain": [
       "DeviationSurvey(wellId='well_A', md=array([5000.  , 5200.  , 5400.  , 5600.55, 5800.  , 5900.  ]), inc=array([70.97, 75.88, 80.15, 85.03, 89.91, 90.97]), azim=array([28.78, 28.53, 29.28, 27.59, 26.69, 26.72]), surface_latitude=29.9, surface_longitude=47.68, tvd=None, n_s_deviation=None, e_w_deviation=None, dls=None, surface_x=None, surface_y=None, x_points=None, y_points=None, zone_number=None, zone_letter=None, latitude_points=None, longitude_points=None, isHorizontal=None)"
      ]
     },
     "execution_count": 106,
     "metadata": {},
     "output_type": "execute_result"
    }
   ],
   "source": [
    "# create a wellbore deviation object from the json path\n",
    "dev_obj = WellboreTrajectory(well_dict)\n",
    "# take a look at the data\n",
    "dev_obj.deviation_survey_obj"
   ]
  },
  {
   "cell_type": "code",
   "execution_count": 107,
   "metadata": {},
   "outputs": [
    {
     "data": {
      "text/plain": [
       "DeviationSurvey(wellId='well_A', md=array([5000.  , 5200.  , 5400.  , 5600.55, 5800.  , 5900.  ]), inc=array([70.97, 75.88, 80.15, 85.03, 89.91, 90.97]), azim=array([28.78, 28.53, 29.28, 27.59, 26.69, 26.72]), surface_latitude=29.9, surface_longitude=47.68, tvd=array([  0.        ,  57.03646991,  98.55782416, 124.41439524,\n",
       "       133.21580661, 132.44781259]), n_s_deviation=array([  0.        , 168.16257164, 339.38218028, 514.19940438,\n",
       "       691.45782788, 780.78712551]), e_w_deviation=array([  0.        ,  91.88869724, 186.43811621, 281.08106263,\n",
       "       371.94172719, 416.8794714 ]), dls=array([0.        , 2.45475192, 2.13265658, 2.42111251, 2.44319979,\n",
       "       1.05999298]), surface_x=758786.3685908439, surface_y=3310723.037906949, x_points=array([758786.36859084, 758814.37626576, 758843.19492867, 758872.04209873,\n",
       "       758899.73642929, 758913.43345373]), y_points=array([3310723.03790695, 3310774.29385879, 3310826.4815955 ,\n",
       "       3310879.7658854 , 3310933.79425289, 3310961.0218228 ]), zone_number=38, zone_letter='R', latitude_points=array([29.89999991, 29.90045608, 29.90092048, 29.90139476, 29.90187599,\n",
       "       29.90211856]), longitude_points=array([47.6800028 , 47.68030496, 47.68061573, 47.68092708, 47.68122667,\n",
       "       47.68137497]), isHorizontal=array(['Vertical', 'Vertical', 'Vertical', 'Vertical', 'Horizontal',\n",
       "       'Horizontal'], dtype='<U10'))"
      ]
     },
     "execution_count": 107,
     "metadata": {},
     "output_type": "execute_result"
    }
   ],
   "source": [
    "#dev_obj.minimum_curvature_algorithm()\n",
    "# must import crs transform string\n",
    "#dev_obj.crs_transform(crs_in='epsg:32638')\n",
    "# dev_obj.minimum_curvature_algorithm()\n",
    "dev_obj.calculate_survey_points()\n",
    "dev_obj.deviation_survey_obj"
   ]
  },
  {
   "cell_type": "markdown",
   "metadata": {},
   "source": [
    "As you can see above, there is only input data for wellId, md, inc, azim, and surface latitude and longitude.\n",
    "The rest of the data is missing and needs to be calculated.\n",
    "\n",
    "**Calculate Survey Points:**"
   ]
  },
  {
   "cell_type": "code",
   "execution_count": 76,
   "metadata": {},
   "outputs": [
    {
     "ename": "TypeError",
     "evalue": "unsupported operand type(s) for *: 'NoneType' and 'float'",
     "output_type": "error",
     "traceback": [
      "\u001b[1;31m---------------------------------------------------------------------------\u001b[0m",
      "\u001b[1;31mTypeError\u001b[0m                                 Traceback (most recent call last)",
      "\u001b[1;32m<ipython-input-76-69a96e725195>\u001b[0m in \u001b[0;36m<module>\u001b[1;34m\u001b[0m\n\u001b[0;32m      1\u001b[0m \u001b[1;31m#dev_obj.minimum_curvature_algorithm()\u001b[0m\u001b[1;33m\u001b[0m\u001b[1;33m\u001b[0m\u001b[1;33m\u001b[0m\u001b[0m\n\u001b[1;32m----> 2\u001b[1;33m \u001b[0mdev_obj\u001b[0m\u001b[1;33m.\u001b[0m\u001b[0mcalculate_lat_lon_from_deviation_points\u001b[0m\u001b[1;33m(\u001b[0m\u001b[1;33m)\u001b[0m\u001b[1;33m\u001b[0m\u001b[1;33m\u001b[0m\u001b[0m\n\u001b[0m\u001b[0;32m      3\u001b[0m \u001b[0mdev_obj\u001b[0m\u001b[1;33m.\u001b[0m\u001b[0mdeviation_survey_obj\u001b[0m\u001b[1;33m\u001b[0m\u001b[1;33m\u001b[0m\u001b[0m\n",
      "\u001b[1;32m~\\Documents\\repos\\directional-survey-converter\\src\\wellbore_trajectory.py\u001b[0m in \u001b[0;36mcalculate_lat_lon_from_deviation_points\u001b[1;34m(self)\u001b[0m\n\u001b[0;32m    147\u001b[0m         \u001b[0mCalculated\u001b[0m \u001b[0mattributes\u001b[0m \u001b[1;32mfor\u001b[0m \u001b[0mlat\u001b[0m \u001b[0mlon\u001b[0m \u001b[0mpoints\u001b[0m\u001b[1;33m\u001b[0m\u001b[1;33m\u001b[0m\u001b[0m\n\u001b[0;32m    148\u001b[0m         \u001b[0mlongitude_points\u001b[0m\u001b[1;33m:\u001b[0m       \u001b[1;33m(\u001b[0m\u001b[0mnp\u001b[0m\u001b[1;33m.\u001b[0m\u001b[0marray\u001b[0m\u001b[1;33m)\u001b[0m\u001b[1;33m\u001b[0m\u001b[1;33m\u001b[0m\u001b[0m\n\u001b[1;32m--> 149\u001b[1;33m         \u001b[0mlatitude_points\u001b[0m\u001b[1;33m:\u001b[0m        \u001b[1;33m(\u001b[0m\u001b[0mnp\u001b[0m\u001b[1;33m.\u001b[0m\u001b[0marray\u001b[0m\u001b[1;33m)\u001b[0m\u001b[1;33m\u001b[0m\u001b[1;33m\u001b[0m\u001b[0m\n\u001b[0m\u001b[0;32m    150\u001b[0m         \u001b[0mzone_number\u001b[0m\u001b[1;33m:\u001b[0m            \u001b[1;33m(\u001b[0m\u001b[0mstr\u001b[0m\u001b[1;33m)\u001b[0m\u001b[1;33m\u001b[0m\u001b[1;33m\u001b[0m\u001b[0m\n\u001b[0;32m    151\u001b[0m         \u001b[0mzone_letter\u001b[0m\u001b[1;33m:\u001b[0m            \u001b[1;33m(\u001b[0m\u001b[0mstr\u001b[0m\u001b[1;33m)\u001b[0m\u001b[1;33m\u001b[0m\u001b[1;33m\u001b[0m\u001b[0m\n",
      "\u001b[1;31mTypeError\u001b[0m: unsupported operand type(s) for *: 'NoneType' and 'float'"
     ]
    }
   ],
   "source": [
    "#dev_obj.minimum_curvature_algorithm()\n",
    "dev_obj.calculate_lat_lon_from_deviation_points()\n",
    "dev_obj.deviation_survey_obj"
   ]
  },
  {
   "cell_type": "code",
   "execution_count": null,
   "metadata": {},
   "outputs": [],
   "source": [
    "[  0.        , 168.16257164, 339.38218028, 514.19940438,\n",
    "       691.45782788, 780.78712551]"
   ]
  },
  {
   "cell_type": "code",
   "execution_count": 42,
   "metadata": {},
   "outputs": [],
   "source": [
    "def compare_arrays(array_a, array_b):\n",
    "    \"\"\"compare array a and array b values\"\"\"\n",
    "    comparison = array_a == np.array(array_b)\n",
    "    return comparison.all()"
   ]
  },
  {
   "cell_type": "code",
   "execution_count": 44,
   "metadata": {},
   "outputs": [
    {
     "data": {
      "text/plain": [
       "array([ True, False, False, False, False, False])"
      ]
     },
     "execution_count": 44,
     "metadata": {},
     "output_type": "execute_result"
    }
   ],
   "source": [
    "array_a = dev_obj.deviation_survey_obj.tvd\n",
    "array_b = [0.0,  57.03646991,  98.55782416, 124.41439524,\n",
    "133.21580661, 132.44781259]\n",
    "comparison = array_a == np.array(array_b)\n",
    "comparison"
   ]
  },
  {
   "cell_type": "code",
   "execution_count": 48,
   "metadata": {},
   "outputs": [
    {
     "data": {
      "text/plain": [
       "array([  0.,  57.,  99., 124., 133., 132.])"
      ]
     },
     "execution_count": 48,
     "metadata": {},
     "output_type": "execute_result"
    }
   ],
   "source": [
    "a = np.array(array_b).round()\n",
    "a"
   ]
  },
  {
   "cell_type": "code",
   "execution_count": 61,
   "metadata": {},
   "outputs": [],
   "source": []
  },
  {
   "cell_type": "code",
   "execution_count": 10,
   "metadata": {},
   "outputs": [
    {
     "data": {
      "text/plain": [
       "DeviationSurvey(wellId='well_A', md=array([5000.  , 5200.  , 5400.  , 5600.55, 5800.  , 5900.  ]), inc=array([70.97, 75.88, 80.15, 85.03, 89.91, 90.97]), azim=array([28.78, 28.53, 29.28, 27.59, 26.69, 26.72]), surface_latitude=29.90829444, surface_longitude=47.68852083, tvd=array([  0.        ,  57.03646991,  98.55782416, 124.41439524,\n",
       "       133.21580661, 132.44781259]), n_s_deviation=array([  0.        , 168.16257164, 339.38218028, 514.19940438,\n",
       "       691.45782788, 780.78712551]), e_w_deviation=array([  0.        ,  91.88869724, 186.43811621, 281.08106263,\n",
       "       371.94172719, 416.8794714 ]), dls=array([0.        , 2.45475192, 2.13265658, 2.42111251, 2.44319979,\n",
       "       1.05999298]), surface_x=759587.9344401711, surface_y=3311661.864849136, x_points=array([759587.93444017, 759615.94211509, 759644.76077799, 759673.60794806,\n",
       "       759701.30227862, 759714.99930305]), y_points=array([3311661.86484914, 3311713.12080097, 3311765.30853769,\n",
       "       3311818.59282759, 3311872.62119507, 3311899.84876499]), zone_number=38, zone_letter='R', latitude_points=array([29.90829435, 29.9087505 , 29.90921487, 29.90968913, 29.91017033,\n",
       "       29.91041289]), longitude_points=array([47.68852365, 47.68882588, 47.68913672, 47.68944813, 47.6897478 ,\n",
       "       47.68989613]), isHorizontal=array(['Vertical', 'Vertical', 'Vertical', 'Vertical', 'Horizontal',\n",
       "       'Horizontal'], dtype='<U10'))"
      ]
     },
     "execution_count": 10,
     "metadata": {},
     "output_type": "execute_result"
    }
   ],
   "source": [
    "# now you can calculate the survey points using a minimum curvature algorithm\n",
    "dev_obj.calculate_survey_points()\n",
    "# take a look at the data that was just calculated\n",
    "dev_obj.deviation_survey_obj"
   ]
  },
  {
   "cell_type": "markdown",
   "metadata": {},
   "source": [
    "As you can see above, the data for latitude, longitude points and various other points along the wellbore have been calculated. \n",
    "\n",
    "**Deserialize Dict:**"
   ]
  },
  {
   "cell_type": "code",
   "execution_count": 11,
   "metadata": {},
   "outputs": [
    {
     "data": {
      "text/plain": [
       "'{\"wellId\": \"well_A\", \"md\": [5000.0, 5200.0, 5400.0, 5600.55, 5800.0, 5900.0], \"inc\": [70.97, 75.88, 80.15, 85.03, 89.91, 90.97], \"azim\": [28.78, 28.53, 29.28, 27.59, 26.69, 26.72], \"tvd\": [0.0, 57.03646991289588, 98.55782416416139, 124.41439524140773, 133.21580660795672, 132.44781259047878], \"e_w_deviation\": [0.0, 91.8886972399784, 186.43811621265655, 281.0810626281941, 371.94172718680886, 416.87947140294415], \"n_s_deviation\": [0.0, 168.16257164427572, 339.382180283126, 514.1994043754996, 691.4578278752274, 780.7871255089685], \"dls\": [0.0, 2.454751915359549, 2.1326565800470907, 2.421112509706391, 2.44319978636802, 1.0599929804526975], \"surface_latitude\": 29.90829444, \"surface_longitude\": 47.68852083, \"longitude_points\": [47.6885236512062, 47.688825876981845, 47.6891367231186, 47.68944813301105, 47.689747797256416, 47.689896128642815], \"latitude_points\": [29.90829435014479, 29.908750498394326, 29.909214874346524, 29.909689128497693, 29.910170332834014, 29.910412890000206], \"zone_number\": 38, \"zone_letter\": \"R\", \"x_points\": [759587.9344401711, 759615.9421150899, 759644.7607779928, 759673.6079480601, 759701.3022786176, 759714.9993030548], \"y_points\": [3311661.864849136, 3311713.1208009734, 3311765.3085376867, 3311818.5928275897, 3311872.621195073, 3311899.8487649914], \"surface_x\": 759587.9344401711, \"surface_y\": 3311661.864849136, \"isHorizontal\": [\"Vertical\", \"Vertical\", \"Vertical\", \"Vertical\", \"Horizontal\", \"Horizontal\"]}'"
      ]
     },
     "execution_count": 11,
     "metadata": {},
     "output_type": "execute_result"
    }
   ],
   "source": [
    "# finally, you can serialize the data object back to a json string to export or be used in a other applications.\n",
    "json_ds = dev_obj.serialize()\n",
    "json_ds"
   ]
  },
  {
   "cell_type": "markdown",
   "metadata": {},
   "source": [
    "Now you have done it, you can check out your calculated points in a dataframe for easy viewing."
   ]
  },
  {
   "cell_type": "code",
   "execution_count": 12,
   "metadata": {},
   "outputs": [
    {
     "data": {
      "text/html": [
       "<div>\n",
       "<style scoped>\n",
       "    .dataframe tbody tr th:only-of-type {\n",
       "        vertical-align: middle;\n",
       "    }\n",
       "\n",
       "    .dataframe tbody tr th {\n",
       "        vertical-align: top;\n",
       "    }\n",
       "\n",
       "    .dataframe thead th {\n",
       "        text-align: right;\n",
       "    }\n",
       "</style>\n",
       "<table border=\"1\" class=\"dataframe\">\n",
       "  <thead>\n",
       "    <tr style=\"text-align: right;\">\n",
       "      <th></th>\n",
       "      <th>wellId</th>\n",
       "      <th>md</th>\n",
       "      <th>inc</th>\n",
       "      <th>azim</th>\n",
       "      <th>tvd</th>\n",
       "      <th>e_w_deviation</th>\n",
       "      <th>n_s_deviation</th>\n",
       "      <th>dls</th>\n",
       "      <th>surface_latitude</th>\n",
       "      <th>surface_longitude</th>\n",
       "      <th>longitude_points</th>\n",
       "      <th>latitude_points</th>\n",
       "      <th>zone_number</th>\n",
       "      <th>zone_letter</th>\n",
       "      <th>x_points</th>\n",
       "      <th>y_points</th>\n",
       "      <th>surface_x</th>\n",
       "      <th>surface_y</th>\n",
       "      <th>isHorizontal</th>\n",
       "    </tr>\n",
       "  </thead>\n",
       "  <tbody>\n",
       "    <tr>\n",
       "      <th>0</th>\n",
       "      <td>well_A</td>\n",
       "      <td>5000.00</td>\n",
       "      <td>70.97</td>\n",
       "      <td>28.78</td>\n",
       "      <td>0.000000</td>\n",
       "      <td>0.000000</td>\n",
       "      <td>0.000000</td>\n",
       "      <td>0.000000</td>\n",
       "      <td>29.908294</td>\n",
       "      <td>47.688521</td>\n",
       "      <td>47.688524</td>\n",
       "      <td>29.908294</td>\n",
       "      <td>38</td>\n",
       "      <td>R</td>\n",
       "      <td>759587.934440</td>\n",
       "      <td>3.311662e+06</td>\n",
       "      <td>759587.93444</td>\n",
       "      <td>3.311662e+06</td>\n",
       "      <td>Vertical</td>\n",
       "    </tr>\n",
       "    <tr>\n",
       "      <th>1</th>\n",
       "      <td>well_A</td>\n",
       "      <td>5200.00</td>\n",
       "      <td>75.88</td>\n",
       "      <td>28.53</td>\n",
       "      <td>57.036470</td>\n",
       "      <td>91.888697</td>\n",
       "      <td>168.162572</td>\n",
       "      <td>2.454752</td>\n",
       "      <td>29.908294</td>\n",
       "      <td>47.688521</td>\n",
       "      <td>47.688826</td>\n",
       "      <td>29.908750</td>\n",
       "      <td>38</td>\n",
       "      <td>R</td>\n",
       "      <td>759615.942115</td>\n",
       "      <td>3.311713e+06</td>\n",
       "      <td>759587.93444</td>\n",
       "      <td>3.311662e+06</td>\n",
       "      <td>Vertical</td>\n",
       "    </tr>\n",
       "    <tr>\n",
       "      <th>2</th>\n",
       "      <td>well_A</td>\n",
       "      <td>5400.00</td>\n",
       "      <td>80.15</td>\n",
       "      <td>29.28</td>\n",
       "      <td>98.557824</td>\n",
       "      <td>186.438116</td>\n",
       "      <td>339.382180</td>\n",
       "      <td>2.132657</td>\n",
       "      <td>29.908294</td>\n",
       "      <td>47.688521</td>\n",
       "      <td>47.689137</td>\n",
       "      <td>29.909215</td>\n",
       "      <td>38</td>\n",
       "      <td>R</td>\n",
       "      <td>759644.760778</td>\n",
       "      <td>3.311765e+06</td>\n",
       "      <td>759587.93444</td>\n",
       "      <td>3.311662e+06</td>\n",
       "      <td>Vertical</td>\n",
       "    </tr>\n",
       "    <tr>\n",
       "      <th>3</th>\n",
       "      <td>well_A</td>\n",
       "      <td>5600.55</td>\n",
       "      <td>85.03</td>\n",
       "      <td>27.59</td>\n",
       "      <td>124.414395</td>\n",
       "      <td>281.081063</td>\n",
       "      <td>514.199404</td>\n",
       "      <td>2.421113</td>\n",
       "      <td>29.908294</td>\n",
       "      <td>47.688521</td>\n",
       "      <td>47.689448</td>\n",
       "      <td>29.909689</td>\n",
       "      <td>38</td>\n",
       "      <td>R</td>\n",
       "      <td>759673.607948</td>\n",
       "      <td>3.311819e+06</td>\n",
       "      <td>759587.93444</td>\n",
       "      <td>3.311662e+06</td>\n",
       "      <td>Vertical</td>\n",
       "    </tr>\n",
       "    <tr>\n",
       "      <th>4</th>\n",
       "      <td>well_A</td>\n",
       "      <td>5800.00</td>\n",
       "      <td>89.91</td>\n",
       "      <td>26.69</td>\n",
       "      <td>133.215807</td>\n",
       "      <td>371.941727</td>\n",
       "      <td>691.457828</td>\n",
       "      <td>2.443200</td>\n",
       "      <td>29.908294</td>\n",
       "      <td>47.688521</td>\n",
       "      <td>47.689748</td>\n",
       "      <td>29.910170</td>\n",
       "      <td>38</td>\n",
       "      <td>R</td>\n",
       "      <td>759701.302279</td>\n",
       "      <td>3.311873e+06</td>\n",
       "      <td>759587.93444</td>\n",
       "      <td>3.311662e+06</td>\n",
       "      <td>Horizontal</td>\n",
       "    </tr>\n",
       "  </tbody>\n",
       "</table>\n",
       "</div>"
      ],
      "text/plain": [
       "   wellId       md    inc   azim         tvd  e_w_deviation  n_s_deviation  \\\n",
       "0  well_A  5000.00  70.97  28.78    0.000000       0.000000       0.000000   \n",
       "1  well_A  5200.00  75.88  28.53   57.036470      91.888697     168.162572   \n",
       "2  well_A  5400.00  80.15  29.28   98.557824     186.438116     339.382180   \n",
       "3  well_A  5600.55  85.03  27.59  124.414395     281.081063     514.199404   \n",
       "4  well_A  5800.00  89.91  26.69  133.215807     371.941727     691.457828   \n",
       "\n",
       "        dls  surface_latitude  surface_longitude  longitude_points  \\\n",
       "0  0.000000         29.908294          47.688521         47.688524   \n",
       "1  2.454752         29.908294          47.688521         47.688826   \n",
       "2  2.132657         29.908294          47.688521         47.689137   \n",
       "3  2.421113         29.908294          47.688521         47.689448   \n",
       "4  2.443200         29.908294          47.688521         47.689748   \n",
       "\n",
       "   latitude_points  zone_number zone_letter       x_points      y_points  \\\n",
       "0        29.908294           38           R  759587.934440  3.311662e+06   \n",
       "1        29.908750           38           R  759615.942115  3.311713e+06   \n",
       "2        29.909215           38           R  759644.760778  3.311765e+06   \n",
       "3        29.909689           38           R  759673.607948  3.311819e+06   \n",
       "4        29.910170           38           R  759701.302279  3.311873e+06   \n",
       "\n",
       "      surface_x     surface_y isHorizontal  \n",
       "0  759587.93444  3.311662e+06     Vertical  \n",
       "1  759587.93444  3.311662e+06     Vertical  \n",
       "2  759587.93444  3.311662e+06     Vertical  \n",
       "3  759587.93444  3.311662e+06     Vertical  \n",
       "4  759587.93444  3.311662e+06   Horizontal  "
      ]
     },
     "execution_count": 12,
     "metadata": {},
     "output_type": "execute_result"
    }
   ],
   "source": [
    "json_ds_obj = json.loads(json_ds)\n",
    "df = pd.DataFrame(json_ds_obj)\n",
    "df.head()"
   ]
  },
  {
   "cell_type": "code",
   "execution_count": 13,
   "metadata": {},
   "outputs": [
    {
     "data": {
      "image/png": "[encoded data removed]",
      "text/plain": [
       "<Figure size 432x288 with 1 Axes>"
      ]
     },
     "metadata": {
      "needs_background": "light"
     },
     "output_type": "display_data"
    }
   ],
   "source": [
    "df.plot(kind=\"scatter\", x=\"longitude_points\", y=\"latitude_points\", alpha=0.4)\n",
    "plt.show()"
   ]
  },
  {
   "cell_type": "code",
   "execution_count": 14,
   "metadata": {},
   "outputs": [
    {
     "data": {
      "image/png": "[encoded data removed]",
      "text/plain": [
       "<Figure size 432x288 with 1 Axes>"
      ]
     },
     "metadata": {
      "needs_background": "light"
     },
     "output_type": "display_data"
    }
   ],
   "source": [
    "from matplotlib import pyplot\n",
    "from mpl_toolkits.mplot3d import Axes3D\n",
    "\n",
    "fig = pyplot.figure()\n",
    "ax = Axes3D(fig)\n",
    "ax.scatter(df['longitude_points'].values, df['latitude_points'].values, df['tvd'].values*-1)\n",
    "pyplot.show()"
   ]
  },
  {
   "cell_type": "code",
   "execution_count": 9,
   "metadata": {},
   "outputs": [],
   "source": [
    "# Finished"
   ]
  },
  {
   "cell_type": "markdown",
   "metadata": {},
   "source": [
    "## Calculate From WellId, MD, INC, AZIM and Suface X,Y\n",
    "\n",
    "Sometimes the latitue and longitude coordinates are not provided.\n",
    "\n",
    "In the case that only X,Y surface coordinates are provided you can still calculate the survey points with\n",
    "one additional step. \n",
    "\n",
    "The user must find the CRS coordinate system and provide that in the calculation.\n",
    "\n",
    "* **Transformation Tested with latitude and longitude points error less than 0.001%**"
   ]
  },
  {
   "cell_type": "code",
   "execution_count": 10,
   "metadata": {},
   "outputs": [
    {
     "data": {
      "text/plain": [
       "{'wellId': 'well_C',\n",
       " 'md': [0.0,\n",
       "  35.0,\n",
       "  774.81,\n",
       "  800.0,\n",
       "  900.0,\n",
       "  1000.0,\n",
       "  1100.0,\n",
       "  1200.0,\n",
       "  1300.0,\n",
       "  1400.0,\n",
       "  1500.0,\n",
       "  1600.0,\n",
       "  1700.0,\n",
       "  1800.0,\n",
       "  1900.0,\n",
       "  2000.0,\n",
       "  2100.0,\n",
       "  2200.0,\n",
       "  2300.0,\n",
       "  2400.0,\n",
       "  2500.0,\n",
       "  2600.0,\n",
       "  2700.0,\n",
       "  2800.0,\n",
       "  2900.0,\n",
       "  3000.0,\n",
       "  3100.0,\n",
       "  3200.0,\n",
       "  3300.0,\n",
       "  3400.0,\n",
       "  3500.0,\n",
       "  3600.0,\n",
       "  3700.0,\n",
       "  3800.0,\n",
       "  3900.0,\n",
       "  4000.0,\n",
       "  4100.0,\n",
       "  4200.0,\n",
       "  4300.0,\n",
       "  4400.0,\n",
       "  4500.0,\n",
       "  4600.0,\n",
       "  4700.0,\n",
       "  4800.0,\n",
       "  4900.0,\n",
       "  5000.0,\n",
       "  5100.0,\n",
       "  5200.0,\n",
       "  5300.0,\n",
       "  5400.0,\n",
       "  5500.0,\n",
       "  5600.0,\n",
       "  5700.0,\n",
       "  5800.0,\n",
       "  5900.0,\n",
       "  6000.0,\n",
       "  6100.0,\n",
       "  6200.0,\n",
       "  6300.0,\n",
       "  6400.0,\n",
       "  6450.67,\n",
       "  6532.0,\n",
       "  6625.0,\n",
       "  6720.0,\n",
       "  6813.0,\n",
       "  6909.0,\n",
       "  7002.0,\n",
       "  7098.0,\n",
       "  7191.0,\n",
       "  7286.0,\n",
       "  7379.0,\n",
       "  7475.0,\n",
       "  7569.0,\n",
       "  7663.0,\n",
       "  7758.0,\n",
       "  7851.0,\n",
       "  7947.0,\n",
       "  8040.0,\n",
       "  8135.0,\n",
       "  8229.0,\n",
       "  8324.0,\n",
       "  8418.0,\n",
       "  8512.0,\n",
       "  8606.0,\n",
       "  8700.0,\n",
       "  8794.0,\n",
       "  8859.0,\n",
       "  8924.0,\n",
       "  9018.0,\n",
       "  9112.0,\n",
       "  9206.0,\n",
       "  9292.0,\n",
       "  9386.0,\n",
       "  9481.0,\n",
       "  9574.0,\n",
       "  9669.0,\n",
       "  9764.0,\n",
       "  9858.0,\n",
       "  9952.0,\n",
       "  10047.0,\n",
       "  10142.0,\n",
       "  10236.0,\n",
       "  10330.0,\n",
       "  10424.0,\n",
       "  10517.0,\n",
       "  10613.0,\n",
       "  10707.0,\n",
       "  10802.0,\n",
       "  10851.0,\n",
       "  10890.0],\n",
       " 'inc': [0.0,\n",
       "  0.0,\n",
       "  0.46,\n",
       "  0.13,\n",
       "  0.57,\n",
       "  0.49,\n",
       "  0.29,\n",
       "  0.6,\n",
       "  0.53,\n",
       "  0.83,\n",
       "  0.61,\n",
       "  0.87,\n",
       "  1.17,\n",
       "  1.27,\n",
       "  1.21,\n",
       "  1.18,\n",
       "  1.24,\n",
       "  1.07,\n",
       "  1.14,\n",
       "  1.16,\n",
       "  0.86,\n",
       "  0.95,\n",
       "  1.22,\n",
       "  0.82,\n",
       "  0.83,\n",
       "  0.98,\n",
       "  0.87,\n",
       "  1.25,\n",
       "  1.06,\n",
       "  1.07,\n",
       "  1.34,\n",
       "  1.03,\n",
       "  1.17,\n",
       "  1.34,\n",
       "  1.37,\n",
       "  1.39,\n",
       "  1.16,\n",
       "  1.61,\n",
       "  1.58,\n",
       "  1.78,\n",
       "  1.78,\n",
       "  1.81,\n",
       "  1.86,\n",
       "  1.63,\n",
       "  1.51,\n",
       "  1.57,\n",
       "  1.09,\n",
       "  0.99,\n",
       "  0.88,\n",
       "  0.91,\n",
       "  0.83,\n",
       "  0.77,\n",
       "  0.64,\n",
       "  0.91,\n",
       "  0.94,\n",
       "  0.66,\n",
       "  1.09,\n",
       "  0.91,\n",
       "  0.95,\n",
       "  0.8,\n",
       "  4.91,\n",
       "  10.35,\n",
       "  15.28,\n",
       "  20.67,\n",
       "  26.19,\n",
       "  34.23,\n",
       "  40.44,\n",
       "  44.43,\n",
       "  45.39,\n",
       "  48.78,\n",
       "  51.19,\n",
       "  53.89,\n",
       "  56.1,\n",
       "  58.69,\n",
       "  61.62,\n",
       "  64.38,\n",
       "  67.3,\n",
       "  70.15,\n",
       "  72.39,\n",
       "  75.47,\n",
       "  78.67,\n",
       "  81.46,\n",
       "  84.59,\n",
       "  86.2,\n",
       "  87.65,\n",
       "  89.13,\n",
       "  90.27,\n",
       "  89.72,\n",
       "  89.9,\n",
       "  90.02,\n",
       "  90.05,\n",
       "  90.03,\n",
       "  89.94,\n",
       "  90.06,\n",
       "  90.37,\n",
       "  90.24,\n",
       "  90.06,\n",
       "  89.97,\n",
       "  89.88,\n",
       "  90.15,\n",
       "  90.03,\n",
       "  89.91,\n",
       "  89.97,\n",
       "  90.0,\n",
       "  89.88,\n",
       "  89.88,\n",
       "  90.0,\n",
       "  89.72,\n",
       "  90.06,\n",
       "  90.0],\n",
       " 'azim': [227.11,\n",
       "  227.11,\n",
       "  227.11,\n",
       "  163.86,\n",
       "  230.43,\n",
       "  254.47,\n",
       "  268.25,\n",
       "  147.67,\n",
       "  236.56,\n",
       "  190.05,\n",
       "  342.93,\n",
       "  184.69,\n",
       "  187.06,\n",
       "  193.66,\n",
       "  195.77,\n",
       "  185.77,\n",
       "  214.81,\n",
       "  203.82,\n",
       "  189.81,\n",
       "  194.18,\n",
       "  109.65,\n",
       "  214.46,\n",
       "  205.35,\n",
       "  190.63,\n",
       "  187.75,\n",
       "  193.45,\n",
       "  188.19,\n",
       "  205.4,\n",
       "  130.09,\n",
       "  218.09,\n",
       "  247.16,\n",
       "  245.17,\n",
       "  239.46,\n",
       "  234.52,\n",
       "  232.45,\n",
       "  228.1,\n",
       "  199.28,\n",
       "  305.98,\n",
       "  213.22,\n",
       "  211.63,\n",
       "  207.08,\n",
       "  209.84,\n",
       "  204.39,\n",
       "  208.0,\n",
       "  208.46,\n",
       "  201.98,\n",
       "  187.95,\n",
       "  185.23,\n",
       "  165.95,\n",
       "  163.86,\n",
       "  138.75,\n",
       "  253.13,\n",
       "  132.16,\n",
       "  189.07,\n",
       "  141.79,\n",
       "  143.34,\n",
       "  306.53,\n",
       "  111.26,\n",
       "  117.69,\n",
       "  87.41,\n",
       "  55.44,\n",
       "  48.23,\n",
       "  50.93,\n",
       "  49.37,\n",
       "  48.77,\n",
       "  48.96,\n",
       "  48.41,\n",
       "  48.88,\n",
       "  49.58,\n",
       "  49.67,\n",
       "  49.73,\n",
       "  49.78,\n",
       "  49.14,\n",
       "  49.25,\n",
       "  49.5,\n",
       "  49.12,\n",
       "  48.63,\n",
       "  48.79,\n",
       "  48.83,\n",
       "  49.02,\n",
       "  49.49,\n",
       "  49.55,\n",
       "  49.29,\n",
       "  47.62,\n",
       "  47.22,\n",
       "  47.69,\n",
       "  48.36,\n",
       "  48.41,\n",
       "  44.97,\n",
       "  42.69,\n",
       "  40.86,\n",
       "  40.48,\n",
       "  40.36,\n",
       "  39.41,\n",
       "  38.74,\n",
       "  40.09,\n",
       "  38.63,\n",
       "  35.85,\n",
       "  33.71,\n",
       "  32.12,\n",
       "  30.91,\n",
       "  29.75,\n",
       "  28.78,\n",
       "  28.53,\n",
       "  29.28,\n",
       "  27.59,\n",
       "  26.69,\n",
       "  26.72,\n",
       "  27.04,\n",
       "  27.35],\n",
       " 'surface_x': 759587.9344401711,\n",
       " 'surface_y': 3311661.864849136}"
      ]
     },
     "execution_count": 10,
     "metadata": {},
     "output_type": "execute_result"
    }
   ],
   "source": [
    "# get data that has only surface x and y, wellid, md, inc, azim\n",
    "json_path = path/'tests/bench/well_export.json'\n",
    "with open(json_path) as json_file:\n",
    "    json_obj = json.load(json_file)\n",
    "json_file.close()\n",
    "#create a dict that has only the surface x and y\n",
    "well_dict = {'wellId':json_obj['wellId'],\n",
    "             'md':json_obj['md'],\n",
    "            'inc':json_obj['inc'],\n",
    "            'azim':json_obj['azim'],\n",
    "            'surface_x':json_obj['surface_x'],\n",
    "            'surface_y':json_obj['surface_y']}\n",
    "well_dict"
   ]
  },
  {
   "cell_type": "markdown",
   "metadata": {},
   "source": [
    "Since we already have a dictionary created, we do not need the `from_json`\n",
    "Enter the dict into the `WellboreTrajectory(data)`"
   ]
  },
  {
   "cell_type": "code",
   "execution_count": 11,
   "metadata": {},
   "outputs": [
    {
     "data": {
      "text/plain": [
       "DeviationSurvey(wellId='well_C', md=array([    0.  ,    35.  ,   774.81,   800.  ,   900.  ,  1000.  ,\n",
       "        1100.  ,  1200.  ,  1300.  ,  1400.  ,  1500.  ,  1600.  ,\n",
       "        1700.  ,  1800.  ,  1900.  ,  2000.  ,  2100.  ,  2200.  ,\n",
       "        2300.  ,  2400.  ,  2500.  ,  2600.  ,  2700.  ,  2800.  ,\n",
       "        2900.  ,  3000.  ,  3100.  ,  3200.  ,  3300.  ,  3400.  ,\n",
       "        3500.  ,  3600.  ,  3700.  ,  3800.  ,  3900.  ,  4000.  ,\n",
       "        4100.  ,  4200.  ,  4300.  ,  4400.  ,  4500.  ,  4600.  ,\n",
       "        4700.  ,  4800.  ,  4900.  ,  5000.  ,  5100.  ,  5200.  ,\n",
       "        5300.  ,  5400.  ,  5500.  ,  5600.  ,  5700.  ,  5800.  ,\n",
       "        5900.  ,  6000.  ,  6100.  ,  6200.  ,  6300.  ,  6400.  ,\n",
       "        6450.67,  6532.  ,  6625.  ,  6720.  ,  6813.  ,  6909.  ,\n",
       "        7002.  ,  7098.  ,  7191.  ,  7286.  ,  7379.  ,  7475.  ,\n",
       "        7569.  ,  7663.  ,  7758.  ,  7851.  ,  7947.  ,  8040.  ,\n",
       "        8135.  ,  8229.  ,  8324.  ,  8418.  ,  8512.  ,  8606.  ,\n",
       "        8700.  ,  8794.  ,  8859.  ,  8924.  ,  9018.  ,  9112.  ,\n",
       "        9206.  ,  9292.  ,  9386.  ,  9481.  ,  9574.  ,  9669.  ,\n",
       "        9764.  ,  9858.  ,  9952.  , 10047.  , 10142.  , 10236.  ,\n",
       "       10330.  , 10424.  , 10517.  , 10613.  , 10707.  , 10802.  ,\n",
       "       10851.  , 10890.  ]), inc=array([ 0.  ,  0.  ,  0.46,  0.13,  0.57,  0.49,  0.29,  0.6 ,  0.53,\n",
       "        0.83,  0.61,  0.87,  1.17,  1.27,  1.21,  1.18,  1.24,  1.07,\n",
       "        1.14,  1.16,  0.86,  0.95,  1.22,  0.82,  0.83,  0.98,  0.87,\n",
       "        1.25,  1.06,  1.07,  1.34,  1.03,  1.17,  1.34,  1.37,  1.39,\n",
       "        1.16,  1.61,  1.58,  1.78,  1.78,  1.81,  1.86,  1.63,  1.51,\n",
       "        1.57,  1.09,  0.99,  0.88,  0.91,  0.83,  0.77,  0.64,  0.91,\n",
       "        0.94,  0.66,  1.09,  0.91,  0.95,  0.8 ,  4.91, 10.35, 15.28,\n",
       "       20.67, 26.19, 34.23, 40.44, 44.43, 45.39, 48.78, 51.19, 53.89,\n",
       "       56.1 , 58.69, 61.62, 64.38, 67.3 , 70.15, 72.39, 75.47, 78.67,\n",
       "       81.46, 84.59, 86.2 , 87.65, 89.13, 90.27, 89.72, 89.9 , 90.02,\n",
       "       90.05, 90.03, 89.94, 90.06, 90.37, 90.24, 90.06, 89.97, 89.88,\n",
       "       90.15, 90.03, 89.91, 89.97, 90.  , 89.88, 89.88, 90.  , 89.72,\n",
       "       90.06, 90.  ]), azim=array([227.11, 227.11, 227.11, 163.86, 230.43, 254.47, 268.25, 147.67,\n",
       "       236.56, 190.05, 342.93, 184.69, 187.06, 193.66, 195.77, 185.77,\n",
       "       214.81, 203.82, 189.81, 194.18, 109.65, 214.46, 205.35, 190.63,\n",
       "       187.75, 193.45, 188.19, 205.4 , 130.09, 218.09, 247.16, 245.17,\n",
       "       239.46, 234.52, 232.45, 228.1 , 199.28, 305.98, 213.22, 211.63,\n",
       "       207.08, 209.84, 204.39, 208.  , 208.46, 201.98, 187.95, 185.23,\n",
       "       165.95, 163.86, 138.75, 253.13, 132.16, 189.07, 141.79, 143.34,\n",
       "       306.53, 111.26, 117.69,  87.41,  55.44,  48.23,  50.93,  49.37,\n",
       "        48.77,  48.96,  48.41,  48.88,  49.58,  49.67,  49.73,  49.78,\n",
       "        49.14,  49.25,  49.5 ,  49.12,  48.63,  48.79,  48.83,  49.02,\n",
       "        49.49,  49.55,  49.29,  47.62,  47.22,  47.69,  48.36,  48.41,\n",
       "        44.97,  42.69,  40.86,  40.48,  40.36,  39.41,  38.74,  40.09,\n",
       "        38.63,  35.85,  33.71,  32.12,  30.91,  29.75,  28.78,  28.53,\n",
       "        29.28,  27.59,  26.69,  26.72,  27.04,  27.35]), surface_latitude=None, surface_longitude=None, tvd=None, n_s_deviation=None, e_w_deviation=None, dls=None, surface_x=759587.9344401711, surface_y=3311661.864849136, x_points=None, y_points=None, zone_number=None, zone_letter=None, latitude_points=None, longitude_points=None, isHorizontal=None)"
      ]
     },
     "execution_count": 11,
     "metadata": {},
     "output_type": "execute_result"
    }
   ],
   "source": [
    "# import dict data\n",
    "well_obj = WellboreTrajectory(data = well_dict)\n",
    "well_obj.deviation_survey_obj"
   ]
  },
  {
   "cell_type": "markdown",
   "metadata": {},
   "source": [
    "As you can see above, no surface latitude and longitude are provided. Only the surface X and Y.\n",
    "\n",
    "**CRS Transformation:**\n",
    "Since we are only given surface x and y we must translate this to the WGS:84 projection system.\n",
    "To do this use `crs_transform()` and enter in the EPSG coordinate system.\n",
    "\n",
    "Find your CRS here: https://epsg.io/"
   ]
  },
  {
   "cell_type": "code",
   "execution_count": 12,
   "metadata": {},
   "outputs": [],
   "source": [
    "# must import crs transform string\n",
    "well_obj.crs_transform(crs_in='epsg:32638')"
   ]
  },
  {
   "cell_type": "markdown",
   "metadata": {},
   "source": [
    "**Calculate Survey Points:**"
   ]
  },
  {
   "cell_type": "code",
   "execution_count": 13,
   "metadata": {},
   "outputs": [
    {
     "data": {
      "text/plain": [
       "DeviationSurvey(wellId='well_C', md=array([    0.  ,    35.  ,   774.81,   800.  ,   900.  ,  1000.  ,\n",
       "        1100.  ,  1200.  ,  1300.  ,  1400.  ,  1500.  ,  1600.  ,\n",
       "        1700.  ,  1800.  ,  1900.  ,  2000.  ,  2100.  ,  2200.  ,\n",
       "        2300.  ,  2400.  ,  2500.  ,  2600.  ,  2700.  ,  2800.  ,\n",
       "        2900.  ,  3000.  ,  3100.  ,  3200.  ,  3300.  ,  3400.  ,\n",
       "        3500.  ,  3600.  ,  3700.  ,  3800.  ,  3900.  ,  4000.  ,\n",
       "        4100.  ,  4200.  ,  4300.  ,  4400.  ,  4500.  ,  4600.  ,\n",
       "        4700.  ,  4800.  ,  4900.  ,  5000.  ,  5100.  ,  5200.  ,\n",
       "        5300.  ,  5400.  ,  5500.  ,  5600.  ,  5700.  ,  5800.  ,\n",
       "        5900.  ,  6000.  ,  6100.  ,  6200.  ,  6300.  ,  6400.  ,\n",
       "        6450.67,  6532.  ,  6625.  ,  6720.  ,  6813.  ,  6909.  ,\n",
       "        7002.  ,  7098.  ,  7191.  ,  7286.  ,  7379.  ,  7475.  ,\n",
       "        7569.  ,  7663.  ,  7758.  ,  7851.  ,  7947.  ,  8040.  ,\n",
       "        8135.  ,  8229.  ,  8324.  ,  8418.  ,  8512.  ,  8606.  ,\n",
       "        8700.  ,  8794.  ,  8859.  ,  8924.  ,  9018.  ,  9112.  ,\n",
       "        9206.  ,  9292.  ,  9386.  ,  9481.  ,  9574.  ,  9669.  ,\n",
       "        9764.  ,  9858.  ,  9952.  , 10047.  , 10142.  , 10236.  ,\n",
       "       10330.  , 10424.  , 10517.  , 10613.  , 10707.  , 10802.  ,\n",
       "       10851.  , 10890.  ]), inc=array([ 0.  ,  0.  ,  0.46,  0.13,  0.57,  0.49,  0.29,  0.6 ,  0.53,\n",
       "        0.83,  0.61,  0.87,  1.17,  1.27,  1.21,  1.18,  1.24,  1.07,\n",
       "        1.14,  1.16,  0.86,  0.95,  1.22,  0.82,  0.83,  0.98,  0.87,\n",
       "        1.25,  1.06,  1.07,  1.34,  1.03,  1.17,  1.34,  1.37,  1.39,\n",
       "        1.16,  1.61,  1.58,  1.78,  1.78,  1.81,  1.86,  1.63,  1.51,\n",
       "        1.57,  1.09,  0.99,  0.88,  0.91,  0.83,  0.77,  0.64,  0.91,\n",
       "        0.94,  0.66,  1.09,  0.91,  0.95,  0.8 ,  4.91, 10.35, 15.28,\n",
       "       20.67, 26.19, 34.23, 40.44, 44.43, 45.39, 48.78, 51.19, 53.89,\n",
       "       56.1 , 58.69, 61.62, 64.38, 67.3 , 70.15, 72.39, 75.47, 78.67,\n",
       "       81.46, 84.59, 86.2 , 87.65, 89.13, 90.27, 89.72, 89.9 , 90.02,\n",
       "       90.05, 90.03, 89.94, 90.06, 90.37, 90.24, 90.06, 89.97, 89.88,\n",
       "       90.15, 90.03, 89.91, 89.97, 90.  , 89.88, 89.88, 90.  , 89.72,\n",
       "       90.06, 90.  ]), azim=array([227.11, 227.11, 227.11, 163.86, 230.43, 254.47, 268.25, 147.67,\n",
       "       236.56, 190.05, 342.93, 184.69, 187.06, 193.66, 195.77, 185.77,\n",
       "       214.81, 203.82, 189.81, 194.18, 109.65, 214.46, 205.35, 190.63,\n",
       "       187.75, 193.45, 188.19, 205.4 , 130.09, 218.09, 247.16, 245.17,\n",
       "       239.46, 234.52, 232.45, 228.1 , 199.28, 305.98, 213.22, 211.63,\n",
       "       207.08, 209.84, 204.39, 208.  , 208.46, 201.98, 187.95, 185.23,\n",
       "       165.95, 163.86, 138.75, 253.13, 132.16, 189.07, 141.79, 143.34,\n",
       "       306.53, 111.26, 117.69,  87.41,  55.44,  48.23,  50.93,  49.37,\n",
       "        48.77,  48.96,  48.41,  48.88,  49.58,  49.67,  49.73,  49.78,\n",
       "        49.14,  49.25,  49.5 ,  49.12,  48.63,  48.79,  48.83,  49.02,\n",
       "        49.49,  49.55,  49.29,  47.62,  47.22,  47.69,  48.36,  48.41,\n",
       "        44.97,  42.69,  40.86,  40.48,  40.36,  39.41,  38.74,  40.09,\n",
       "        38.63,  35.85,  33.71,  32.12,  30.91,  29.75,  28.78,  28.53,\n",
       "        29.28,  27.59,  26.69,  26.72,  27.04,  27.35]), surface_latitude=29.90829443997491, surface_longitude=47.68852083021084, tvd=array([   0.        ,   35.        ,  774.80205236,  799.9916839 ,\n",
       "        899.98957066,  999.98528439, 1099.98291708, 1199.97977187,\n",
       "       1299.97490562, 1399.96774509, 1499.95980744, 1599.95135856,\n",
       "       1699.93539853, 1799.91271696, 1899.88929431, 1999.86754393,\n",
       "       2099.8452397 , 2199.8248857 , 2299.80628255, 2399.78613986,\n",
       "       2499.77051364, 2599.75802178, 2699.73999928, 2799.7239516 ,\n",
       "       2899.71358513, 2999.70108231, 3099.68803535, 3199.67073753,\n",
       "       3299.65039143, 3399.63311651, 3499.6109049 , 3599.58939615,\n",
       "       3699.5709424 , 3799.54691757, 3899.51895345, 3999.48994863,\n",
       "       4099.46512692, 4199.43556378, 4299.39682997, 4399.35379463,\n",
       "       4499.30554098, 4599.25646956, 4699.20518489, 4799.15874306,\n",
       "       4899.12118453, 4999.0850605 , 5099.05782961, 5199.04134366,\n",
       "       5299.02801386, 5399.01581265, 5499.004277  , 5598.99453025,\n",
       "       5698.9869478 , 5798.9777011 , 5898.96466764, 5998.95482054,\n",
       "       6098.94287286, 6198.92763525, 6298.9144603 , 6398.90277221,\n",
       "       6449.49892068, 6530.07840696, 6620.73385719, 6711.06365715,\n",
       "       6796.36247083, 6879.25635883, 6953.16472562, 7024.00253299,\n",
       "       7089.86588017, 7154.54311968, 7214.33658158, 7272.71906108,\n",
       "       7326.6385766 , 7377.28559394, 7424.55766084, 7466.7746503 ,\n",
       "       7506.06181579, 7539.80284576, 7570.306201  , 7596.32330294,\n",
       "       7617.57772512, 7633.79396604, 7645.20749536, 7652.75404791,\n",
       "       7657.79630452, 7660.43720229, 7660.77749063, 7660.78311918,\n",
       "       7661.09477093, 7661.16033202, 7661.10284739, 7661.04275014,\n",
       "       7661.06729601, 7661.06723206, 7660.71819198, 7660.2124211 ,\n",
       "       7659.96364797, 7659.93897552, 7660.06195799, 7660.03702311,\n",
       "       7659.88773352, 7659.93688854, 7660.03526184, 7660.05980771,\n",
       "       7660.15713449, 7660.35813173, 7660.45650502, 7660.6885695 ,\n",
       "       7660.7826096 , 7660.76216298]), n_s_deviation=array([ 0.00000000e+00, -1.37853123e-17, -2.02120304e+00, -2.11747423e+00,\n",
       "       -2.54331148e+00, -2.97465803e+00, -3.09687233e+00, -3.54702524e+00,\n",
       "       -4.24431864e+00, -5.21236307e+00, -5.41667042e+00, -5.66445225e+00,\n",
       "       -7.43430965e+00, -9.52436356e+00, -1.16173152e+01, -1.36578743e+01,\n",
       "       -1.55707206e+01, -1.73132762e+01, -1.91476665e+01, -2.11092738e+01,\n",
       "       -2.23430190e+01, -2.32789031e+01, -2.49244904e+01, -2.65898398e+01,\n",
       "       -2.80107915e+01, -2.95601783e+01, -3.11433404e+01, -3.28801005e+01,\n",
       "       -3.44610833e+01, -3.57916156e+01, -3.69803351e+01, -3.78116235e+01,\n",
       "       -3.87078339e+01, -3.99052784e+01, -4.13125015e+01, -4.28510661e+01,\n",
       "       -4.46165238e+01, -4.47466470e+01, -4.50746457e+01, -4.75503611e+01,\n",
       "       -5.02555752e+01, -5.30082836e+01, -5.58562012e+01, -5.85900167e+01,\n",
       "       -6.10041327e+01, -6.34328142e+01, -6.56451723e+01, -6.74474774e+01,\n",
       "       -6.90527190e+01, -7.05604547e+01, -7.18677961e+01, -7.26073384e+01,\n",
       "       -7.31771963e+01, -7.43362244e+01, -7.57649125e+01, -7.68714604e+01,\n",
       "       -7.67673139e+01, -7.64890862e+01, -7.71622488e+01, -7.75159265e+01,\n",
       "       -7.62693198e+01, -6.94230110e+01, -5.61261178e+01, -3.73044917e+01,\n",
       "       -1.30713494e+01,  1.86716088e+01,  5.59039697e+01,  9.86865303e+01,\n",
       "        1.41558635e+02,  1.86620485e+02,  2.32685134e+02,  2.81911427e+02,\n",
       "        3.31957433e+02,  3.83699227e+02,  4.37342727e+02,  4.91364006e+02,\n",
       "        5.48969383e+02,  6.06148249e+02,  6.65394128e+02,  7.24734956e+02,\n",
       "        7.85158398e+02,  8.45260340e+02,  9.05948465e+02,  9.68081147e+02,\n",
       "        1.03158981e+03,  1.09512217e+03,  1.13859248e+03,  1.18176022e+03,\n",
       "        1.24620960e+03,  1.31400750e+03,  1.38410060e+03,  1.44932911e+03,\n",
       "        1.52089238e+03,  1.59378648e+03,  1.66598252e+03,  1.73937026e+03,\n",
       "        1.81281578e+03,  1.88762789e+03,  1.96482110e+03,  2.04456368e+03,\n",
       "        2.12554687e+03,  2.20667702e+03,  2.28867662e+03,  2.37116358e+03,\n",
       "        2.45257604e+03,  2.53698503e+03,  2.62063246e+03,  2.70549867e+03,\n",
       "        2.74920416e+03,  2.78389282e+03]), e_w_deviation=array([ 0.00000000e+00, -1.48400066e-17, -2.17584236e+00, -2.24198402e+00,\n",
       "       -2.59387761e+00, -3.38929521e+00, -4.05423896e+00, -4.02718020e+00,\n",
       "       -4.13311241e+00, -4.64545267e+00, -4.92810207e+00, -5.14643276e+00,\n",
       "       -5.33399368e+00, -5.72119085e+00, -6.26985886e+00, -6.66033428e+00,\n",
       "       -7.38153427e+00, -8.37630369e+00, -8.92288458e+00, -9.34034125e+00,\n",
       "       -8.88154478e+00, -8.64385623e+00, -9.56872314e+00, -1.01565171e+01,\n",
       "       -1.03861865e+01, -1.06827693e+01, -1.09898326e+01, -1.15658473e+01,\n",
       "       -1.13260729e+01, -1.11944362e+01, -1.28480229e+01, -1.47413241e+01,\n",
       "       -1.64363521e+01, -1.82678247e+01, -2.01677492e+01, -2.20182850e+01,\n",
       "       -2.32552747e+01, -2.47263008e+01, -2.66183940e+01, -2.81881843e+01,\n",
       "       -2.97097016e+01, -3.12025354e+01, -3.26585056e+01, -3.39963761e+01,\n",
       "       -3.52919696e+01, -3.64325906e+01, -3.70768846e+01, -3.72871869e+01,\n",
       "       -3.71795109e+01, -3.67723413e+01, -3.60740414e+01, -3.62395027e+01,\n",
       "       -3.64685225e+01, -3.61797082e+01, -3.57975182e+01, -3.49462669e+01,\n",
       "       -3.53666805e+01, -3.53909200e+01, -3.39168180e+01, -3.24853682e+01,\n",
       "       -3.03452994e+01, -2.20237849e+01, -6.26921560e+00,  1.61908433e+01,\n",
       "        4.41039232e+01,  8.04614299e+01,  1.22790651e+02,  1.71410194e+02,\n",
       "        2.21135813e+02,  2.74132499e+02,  3.28451128e+02,  3.86610837e+02,\n",
       "        4.45115521e+02,  5.05050118e+02,  5.67585921e+02,  6.30408504e+02,\n",
       "        6.96378191e+02,  7.61488266e+02,  8.29188492e+02,  8.97273922e+02,\n",
       "        9.67414937e+02,  1.03783540e+03,  1.10869046e+03,  1.17880536e+03,\n",
       "        1.24791863e+03,  1.31714307e+03,  1.36546419e+03,  1.41405959e+03,\n",
       "        1.48242772e+03,  1.54751178e+03,  1.61012728e+03,  1.66617329e+03,\n",
       "        1.72712153e+03,  1.78803807e+03,  1.84665796e+03,  1.90697156e+03,\n",
       "        1.96721460e+03,  2.02408247e+03,  2.07769323e+03,  2.12931067e+03,\n",
       "        2.17896642e+03,  2.22643208e+03,  2.27238229e+03,  2.31745844e+03,\n",
       "        2.36240983e+03,  2.40811628e+03,  2.45099457e+03,  2.49368712e+03,\n",
       "        2.51584102e+03,  2.53366475e+03]), dls=array([0.00000000e+00, 0.00000000e+00, 6.21781757e-02, 1.31232310e+00,\n",
       "       4.39221317e-01, 8.04228773e-02, 2.00071540e-01, 3.05418485e-01,\n",
       "       7.54425181e-02, 2.97606656e-01, 2.36700951e-01, 2.42136276e-01,\n",
       "       2.99985041e-01, 9.98282346e-02, 6.00182291e-02, 3.03785574e-02,\n",
       "       5.67899502e-02, 1.70424766e-01, 6.93668432e-02, 1.99329254e-02,\n",
       "       3.15750269e-01, 7.20972968e-02, 2.69745086e-01, 4.00573314e-01,\n",
       "       9.98500555e-03, 1.49929930e-01, 1.10062745e-01, 3.79150580e-01,\n",
       "       2.07259038e-01, 9.10249869e-03, 2.66848255e-01, 3.10014770e-01,\n",
       "       1.39895762e-01, 1.69898507e-01, 2.99791190e-02, 1.99042910e-02,\n",
       "       2.33485281e-01, 4.08046160e-01, 7.65236333e-02, 1.99981263e-01,\n",
       "       1.74220101e-04, 2.99348167e-02, 4.97345106e-02, 2.30105145e-01,\n",
       "       1.20001478e-01, 5.97357686e-02, 4.80891203e-01, 1.00021295e-01,\n",
       "       1.10852783e-01, 2.99907267e-02, 8.12457823e-02, 7.57578344e-02,\n",
       "       1.43026417e-01, 2.65385225e-01, 2.51993303e-02, 2.80004182e-01,\n",
       "       4.05427058e-01, 2.14009347e-01, 3.99051249e-02, 1.51809635e-01,\n",
       "       8.09081900e+00, 6.68023804e+00, 5.29784122e+00, 5.67160924e+00,\n",
       "       5.93496227e+00, 8.37492511e+00, 6.67638890e+00, 4.15534146e+00,\n",
       "       1.02996749e+00, 3.56838401e+00, 2.59138009e+00, 2.81248790e+00,\n",
       "       2.34851585e+00, 2.75524166e+00, 3.08378139e+00, 2.96666935e+00,\n",
       "       3.03985353e+00, 3.06431010e+00, 2.35788341e+00, 3.27628910e+00,\n",
       "       3.36649771e+00, 2.96805503e+00, 3.32917200e+00, 1.68704987e+00,\n",
       "       1.54107353e+00, 1.57242053e+00, 1.74782160e+00, 8.46188075e-01,\n",
       "       8.16646613e-02, 7.94058502e-02, 8.27467516e-04, 2.47210927e-02,\n",
       "       9.58784409e-02, 1.18025764e-01, 3.29121479e-01, 1.53582345e-01,\n",
       "       2.09053372e-01, 1.67478606e-01, 1.38255244e-01, 2.60989359e-01,\n",
       "       1.39764497e-01, 1.40151347e-01, 5.50950458e-02, 3.13346899e-02,\n",
       "       1.34310492e-01, 2.59607171e-02, 1.20140067e-01, 2.94745341e-01,\n",
       "       6.92054431e-01, 1.55996606e-01]), surface_x=759587.9344606012, surface_y=3311661.864846832, x_points=array([759587.9344606 , 759587.9344606 , 759587.27126385, 759587.25110387,\n",
       "       759587.14384671, 759586.90140342, 759586.69872857, 759586.70697607,\n",
       "       759586.67468794, 759586.51852663, 759586.43237509, 759586.3658279 ,\n",
       "       759586.30865933, 759586.19064163, 759586.02340762, 759585.90439071,\n",
       "       759585.68456896, 759585.38136324, 759585.21476538, 759585.08752459,\n",
       "       759585.22736575, 759585.29981322, 759585.01791379, 759584.83875419,\n",
       "       759584.76875096, 759584.67835251, 759584.58475961, 759584.40919035,\n",
       "       759584.48227359, 759584.52239646, 759584.01838321, 759583.44130502,\n",
       "       759582.92466047, 759582.36642762, 759581.78733065, 759581.22328732,\n",
       "       759580.84625288, 759580.3978841 , 759579.82117412, 759579.34270204,\n",
       "       759578.87894355, 759578.42392781, 759577.9801481 , 759577.57236517,\n",
       "       759577.17746828, 759576.82980699, 759576.63342616, 759576.56932604,\n",
       "       759576.60214568, 759576.72625099, 759576.93909277, 759576.88866017,\n",
       "       759576.81885493, 759576.90688553, 759577.02337706, 759577.28283845,\n",
       "       759577.15469638, 759577.14730818, 759577.59661448, 759578.03292036,\n",
       "       759578.68521334, 759581.22161098, 759586.02360369, 759592.86942965,\n",
       "       759601.3773364 , 759612.45910442, 759625.36105103, 759640.18028782,\n",
       "       759655.3366563 , 759671.49004631, 759688.04636445, 759705.77344376,\n",
       "       759723.60567142, 759741.87373661, 759760.93464927, 759780.0829725 ,\n",
       "       759800.19053315, 759820.03608412, 759840.67111307, 759861.42355203,\n",
       "       759882.80253343, 759904.26669103, 759925.86331247, 759947.23433362,\n",
       "       759968.30005992, 759989.39966712, 760004.12794428, 760018.93982235,\n",
       "       760039.77842878, 760059.61605247, 760078.70125481, 760095.78408   ,\n",
       "       760114.36110192, 760132.92846549, 760150.7958076 , 760169.17939146,\n",
       "       760187.54147056, 760204.8747981 , 760221.21535794, 760236.94835355,\n",
       "       760252.08342642, 760266.55095963, 760280.55658347, 760294.29579268,\n",
       "       760307.99697614, 760321.92830155, 760334.99760469, 760348.01029592,\n",
       "       760354.76280323, 760360.19547634]), y_points=array([3311661.86484683, 3311661.86484683, 3311661.24878415,\n",
       "       3311661.21944069, 3311661.08964549, 3311660.95817106,\n",
       "       3311660.92092015, 3311660.78371354, 3311660.57117851,\n",
       "       3311660.27611857, 3311660.21384569, 3311660.13832179,\n",
       "       3311659.59886925, 3311658.96182082, 3311658.32388916,\n",
       "       3311657.70192674, 3311657.1188912 , 3311656.58776023,\n",
       "       3311656.02863808, 3311655.43074019, 3311655.05469465,\n",
       "       3311654.76943716, 3311654.26786217, 3311653.76026365,\n",
       "       3311653.32715759, 3311652.85490447, 3311652.37235669,\n",
       "       3311651.8429922 , 3311651.36110864, 3311650.95556239,\n",
       "       3311650.5932407 , 3311650.339864  , 3311650.06669906,\n",
       "       3311649.70171798, 3311649.27279637, 3311648.8038419 ,\n",
       "       3311648.26573037, 3311648.22606883, 3311648.12609483,\n",
       "       3311647.37149678, 3311646.54694752, 3311645.70792198,\n",
       "       3311644.8398767 , 3311644.00660974, 3311643.27078717,\n",
       "       3311642.53052506, 3311641.85619832, 3311641.30685573,\n",
       "       3311640.81757807, 3311640.35802023, 3311639.95954258,\n",
       "       3311639.73413009, 3311639.56043741, 3311639.20716564,\n",
       "       3311638.77170149, 3311638.43442571, 3311638.46616955,\n",
       "       3311638.55097335, 3311638.3457934 , 3311638.23799242,\n",
       "       3311638.61795814, 3311640.70471308, 3311644.75760613,\n",
       "       3311650.49443777, 3311657.88069952, 3311667.55595319,\n",
       "       3311678.90437681, 3311691.94450126, 3311705.01191889,\n",
       "       3311718.74677073, 3311732.78727581, 3311747.7914497 ,\n",
       "       3311763.04547241, 3311778.81637118, 3311795.16690988,\n",
       "       3311811.63259591, 3311829.19071482, 3311846.6188331 ,\n",
       "       3311864.67697711, 3311882.76406144, 3311901.1811264 ,\n",
       "       3311919.50019834, 3311937.99793892, 3311956.93598039,\n",
       "       3311976.29342043, 3311995.6580847 , 3312008.9078354 ,\n",
       "       3312022.06536256, 3312041.7095322 , 3312062.37433193,\n",
       "       3312083.73870914, 3312103.62036075, 3312125.43284327,\n",
       "       3312147.65096509, 3312169.65631975, 3312192.02490221,\n",
       "       3312214.41109774, 3312237.21382663, 3312260.74231788,\n",
       "       3312285.04785793, 3312309.73153237, 3312334.46000232,\n",
       "       3312359.4534801 , 3312384.59550485, 3312409.41002521,\n",
       "       3312435.13788269, 3312460.63362103, 3312486.5008411 ,\n",
       "       3312499.82227577, 3312510.3953785 ]), zone_number=38, zone_letter='R', latitude_points=array([29.90829435, 29.90829435, 29.90828894, 29.90828868, 29.90828753,\n",
       "       29.90828639, 29.9082861 , 29.90828486, 29.90828295, 29.90828033,\n",
       "       29.90827978, 29.90827912, 29.90827427, 29.90826855, 29.90826283,\n",
       "       29.90825725, 29.90825204, 29.90824732, 29.90824231, 29.90823695,\n",
       "       29.90823353, 29.90823094, 29.90822648, 29.90822194, 29.90821805,\n",
       "       29.90821381, 29.90820948, 29.90820475, 29.90820039, 29.90819673,\n",
       "       29.90819357, 29.9081914 , 29.90818905, 29.90818588, 29.90818213,\n",
       "       29.90817802, 29.90817325, 29.90817299, 29.90817221, 29.90816551,\n",
       "       29.90815817, 29.90815071, 29.90814298, 29.90813555, 29.908129  ,\n",
       "       29.9081224 , 29.90811636, 29.90811142, 29.90810701, 29.90810284,\n",
       "       29.9080992 , 29.90809718, 29.90809563, 29.90809242, 29.90808847,\n",
       "       29.90808538, 29.90808569, 29.90808646, 29.90808451, 29.90808345,\n",
       "       29.90808674, 29.90810501, 29.90814054, 29.90819081, 29.9082556 ,\n",
       "       29.90834048, 29.90844006, 29.90855448, 29.90866908, 29.90878949,\n",
       "       29.90891256, 29.90904408, 29.90917782, 29.90931614, 29.90945951,\n",
       "       29.9096039 , 29.90975793, 29.90991085, 29.91006928, 29.91022794,\n",
       "       29.91038945, 29.91055006, 29.91071224, 29.91087845, 29.9110485 ,\n",
       "       29.9112186 , 29.91133493, 29.91145041, 29.91162309, 29.91180518,\n",
       "       29.91199374, 29.91216936, 29.91236206, 29.91255842, 29.91275301,\n",
       "       29.91295077, 29.91314869, 29.91335058, 29.91355923, 29.913775  ,\n",
       "       29.91399432, 29.91421417, 29.91443652, 29.91466026, 29.91488105,\n",
       "       29.91511003, 29.9153371 , 29.91556753, 29.91568619, 29.91578035]), longitude_points=array([47.68852365, 47.68852365, 47.68851664, 47.68851642, 47.68851528,\n",
       "       47.68851274, 47.68851064, 47.68851069, 47.6885103 , 47.68850862,\n",
       "       47.68850771, 47.688507  , 47.68850628, 47.6885049 , 47.68850302,\n",
       "       47.68850164, 47.68849922, 47.68849596, 47.6884941 , 47.68849263,\n",
       "       47.68849399, 47.68849467, 47.68849163, 47.68848966, 47.68848883,\n",
       "       47.68848778, 47.68848669, 47.68848475, 47.68848539, 47.6884857 ,\n",
       "       47.6884804 , 47.68847437, 47.68846895, 47.68846309, 47.68845699,\n",
       "       47.68845104, 47.68844701, 47.68844236, 47.68843637, 47.68843124,\n",
       "       47.68842624, 47.68842133, 47.68841653, 47.6884121 , 47.68840784,\n",
       "       47.68840406, 47.68840187, 47.68840107, 47.68840129, 47.68840247,\n",
       "       47.68840457, 47.68840399, 47.68840323, 47.68840406, 47.68840516,\n",
       "       47.68840776, 47.68840644, 47.68840638, 47.68841098, 47.68841547,\n",
       "       47.68842231, 47.68844906, 47.68849973, 47.68857196, 47.68866178,\n",
       "       47.6887788 , 47.68891505, 47.68907155, 47.68923154, 47.68940202,\n",
       "       47.68957674, 47.6897638 , 47.68995202, 47.69014487, 47.69034607,\n",
       "       47.6905482 , 47.69076052, 47.6909701 , 47.691188  , 47.69140712,\n",
       "       47.69163281, 47.69185936, 47.69208732, 47.69231305, 47.69253573,\n",
       "       47.69275876, 47.69291438, 47.69307084, 47.69329124, 47.69350153,\n",
       "       47.69370421, 47.6938858 , 47.69408333, 47.69428085, 47.69447109,\n",
       "       47.69466675, 47.69486219, 47.69504709, 47.6952219 , 47.69539061,\n",
       "       47.69555322, 47.69570894, 47.69585994, 47.69600822, 47.69615603,\n",
       "       47.69630645, 47.69644789, 47.69658883, 47.69666194, 47.69672073]), isHorizontal=array(['Vertical', 'Vertical', 'Vertical', 'Vertical', 'Vertical',\n",
       "       'Vertical', 'Vertical', 'Vertical', 'Vertical', 'Vertical',\n",
       "       'Vertical', 'Vertical', 'Vertical', 'Vertical', 'Vertical',\n",
       "       'Vertical', 'Vertical', 'Vertical', 'Vertical', 'Vertical',\n",
       "       'Vertical', 'Vertical', 'Vertical', 'Vertical', 'Vertical',\n",
       "       'Vertical', 'Vertical', 'Vertical', 'Vertical', 'Vertical',\n",
       "       'Vertical', 'Vertical', 'Vertical', 'Vertical', 'Vertical',\n",
       "       'Vertical', 'Vertical', 'Vertical', 'Vertical', 'Vertical',\n",
       "       'Vertical', 'Vertical', 'Vertical', 'Vertical', 'Vertical',\n",
       "       'Vertical', 'Vertical', 'Vertical', 'Vertical', 'Vertical',\n",
       "       'Vertical', 'Vertical', 'Vertical', 'Vertical', 'Vertical',\n",
       "       'Vertical', 'Vertical', 'Vertical', 'Vertical', 'Vertical',\n",
       "       'Vertical', 'Vertical', 'Vertical', 'Vertical', 'Vertical',\n",
       "       'Vertical', 'Vertical', 'Vertical', 'Vertical', 'Vertical',\n",
       "       'Vertical', 'Vertical', 'Vertical', 'Vertical', 'Vertical',\n",
       "       'Vertical', 'Vertical', 'Vertical', 'Vertical', 'Vertical',\n",
       "       'Vertical', 'Vertical', 'Vertical', 'Vertical', 'Vertical',\n",
       "       'Horizontal', 'Horizontal', 'Horizontal', 'Horizontal',\n",
       "       'Horizontal', 'Horizontal', 'Horizontal', 'Horizontal',\n",
       "       'Horizontal', 'Horizontal', 'Horizontal', 'Horizontal',\n",
       "       'Horizontal', 'Horizontal', 'Horizontal', 'Horizontal',\n",
       "       'Horizontal', 'Horizontal', 'Horizontal', 'Horizontal',\n",
       "       'Horizontal', 'Horizontal', 'Horizontal', 'Horizontal',\n",
       "       'Horizontal'], dtype='<U10'))"
      ]
     },
     "execution_count": 13,
     "metadata": {},
     "output_type": "execute_result"
    }
   ],
   "source": [
    "well_obj.calculate_survey_points()\n",
    "# check out object\n",
    "well_obj.deviation_survey_obj"
   ]
  },
  {
   "cell_type": "markdown",
   "metadata": {},
   "source": [
    "As you can see above, all the survey points have been calculated.\n",
    "\n",
    "**Deserialize Dict:**"
   ]
  },
  {
   "cell_type": "code",
   "execution_count": 14,
   "metadata": {},
   "outputs": [
    {
     "data": {
      "text/plain": [
       "'{\"wellId\": \"well_C\", \"md\": [0.0, 35.0, 774.81, 800.0, 900.0, 1000.0, 1100.0, 1200.0, 1300.0, 1400.0, 1500.0, 1600.0, 1700.0, 1800.0, 1900.0, 2000.0, 2100.0, 2200.0, 2300.0, 2400.0, 2500.0, 2600.0, 2700.0, 2800.0, 2900.0, 3000.0, 3100.0, 3200.0, 3300.0, 3400.0, 3500.0, 3600.0, 3700.0, 3800.0, 3900.0, 4000.0, 4100.0, 4200.0, 4300.0, 4400.0, 4500.0, 4600.0, 4700.0, 4800.0, 4900.0, 5000.0, 5100.0, 5200.0, 5300.0, 5400.0, 5500.0, 5600.0, 5700.0, 5800.0, 5900.0, 6000.0, 6100.0, 6200.0, 6300.0, 6400.0, 6450.67, 6532.0, 6625.0, 6720.0, 6813.0, 6909.0, 7002.0, 7098.0, 7191.0, 7286.0, 7379.0, 7475.0, 7569.0, 7663.0, 7758.0, 7851.0, 7947.0, 8040.0, 8135.0, 8229.0, 8324.0, 8418.0, 8512.0, 8606.0, 8700.0, 8794.0, 8859.0, 8924.0, 9018.0, 9112.0, 9206.0, 9292.0, 9386.0, 9481.0, 9574.0, 9669.0, 9764.0, 9858.0, 9952.0, 10047.0, 10142.0, 10236.0, 10330.0, 10424.0, 10517.0, 10613.0, 10707.0, 10802.0, 10851.0, 10890.0], \"inc\": [0.0, 0.0, 0.46, 0.13, 0.57, 0.49, 0.29, 0.6, 0.53, 0.83, 0.61, 0.87, 1.17, 1.27, 1.21, 1.18, 1.24, 1.07, 1.14, 1.16, 0.86, 0.95, 1.22, 0.82, 0.83, 0.98, 0.87, 1.25, 1.06, 1.07, 1.34, 1.03, 1.17, 1.34, 1.37, 1.39, 1.16, 1.61, 1.58, 1.78, 1.78, 1.81, 1.86, 1.63, 1.51, 1.57, 1.09, 0.99, 0.88, 0.91, 0.83, 0.77, 0.64, 0.91, 0.94, 0.66, 1.09, 0.91, 0.95, 0.8, 4.91, 10.35, 15.28, 20.67, 26.19, 34.23, 40.44, 44.43, 45.39, 48.78, 51.19, 53.89, 56.1, 58.69, 61.62, 64.38, 67.3, 70.15, 72.39, 75.47, 78.67, 81.46, 84.59, 86.2, 87.65, 89.13, 90.27, 89.72, 89.9, 90.02, 90.05, 90.03, 89.94, 90.06, 90.37, 90.24, 90.06, 89.97, 89.88, 90.15, 90.03, 89.91, 89.97, 90.0, 89.88, 89.88, 90.0, 89.72, 90.06, 90.0], \"azim\": [227.11, 227.11, 227.11, 163.86, 230.43, 254.47, 268.25, 147.67, 236.56, 190.05, 342.93, 184.69, 187.06, 193.66, 195.77, 185.77, 214.81, 203.82, 189.81, 194.18, 109.65, 214.46, 205.35, 190.63, 187.75, 193.45, 188.19, 205.4, 130.09, 218.09, 247.16, 245.17, 239.46, 234.52, 232.45, 228.1, 199.28, 305.98, 213.22, 211.63, 207.08, 209.84, 204.39, 208.0, 208.46, 201.98, 187.95, 185.23, 165.95, 163.86, 138.75, 253.13, 132.16, 189.07, 141.79, 143.34, 306.53, 111.26, 117.69, 87.41, 55.44, 48.23, 50.93, 49.37, 48.77, 48.96, 48.41, 48.88, 49.58, 49.67, 49.73, 49.78, 49.14, 49.25, 49.5, 49.12, 48.63, 48.79, 48.83, 49.02, 49.49, 49.55, 49.29, 47.62, 47.22, 47.69, 48.36, 48.41, 44.97, 42.69, 40.86, 40.48, 40.36, 39.41, 38.74, 40.09, 38.63, 35.85, 33.71, 32.12, 30.91, 29.75, 28.78, 28.53, 29.28, 27.59, 26.69, 26.72, 27.04, 27.35], \"tvd\": [0.0, 34.9999999999999, 774.8020523575979, 799.9916838982401, 899.9895706619063, 999.9852843864701, 1099.9829170820146, 1199.9797718735474, 1299.9749056242865, 1399.9677450917852, 1499.9598074391574, 1599.951358560927, 1699.9353985310372, 1799.9127169630583, 1899.889294307163, 1999.8675439283443, 2099.845239700057, 2199.824885701308, 2299.806282545446, 2399.786139863118, 2499.770513641399, 2599.7580217806603, 2699.7399992785035, 2799.7239516033837, 2899.7135851343646, 2999.701082311137, 3099.6880353482165, 3199.6707375309666, 3299.6503914295877, 3399.6331165071, 3499.610904896245, 3599.5893961454594, 3699.5709423951766, 3799.5469175712324, 3899.5189534454853, 3999.489948634858, 4099.465126923902, 4199.4355637827375, 4299.396829968807, 4399.35379463453, 4499.305540982791, 4599.256469555635, 4699.205184887019, 4799.158743060025, 4899.121184533607, 4999.085060495655, 5099.05782961302, 5199.041343661597, 5299.028013859704, 5399.015812645296, 5499.004276998297, 5598.994530251943, 5698.98694779626, 5798.9777010953785, 5898.964667638501, 5998.9548205379915, 6098.942872857037, 6198.927635252819, 6298.914460300661, 6398.9027722133005, 6449.498920678799, 6530.078406955509, 6620.7338571887985, 6711.063657145683, 6796.362470827802, 6879.256358828799, 6953.164725618479, 7024.002532987769, 7089.865880174081, 7154.543119676297, 7214.336581582896, 7272.719061079499, 7326.638576597015, 7377.28559393612, 7424.557660836965, 7466.774650295593, 7506.061815793666, 7539.80284575592, 7570.306200996387, 7596.323302940914, 7617.577725120327, 7633.793966038078, 7645.207495361553, 7652.754047905717, 7657.7963045183415, 7660.437202287923, 7660.7774906349405, 7660.783119177495, 7661.09477092539, 7661.160332020118, 7661.102847387391, 7661.042750144869, 7661.067296013801, 7661.06723205933, 7660.71819198431, 7660.212421103769, 7659.9636479664405, 7659.938975524531, 7660.061957987962, 7660.037023111568, 7659.887733518575, 7659.93688853576, 7660.035261841736, 7660.059807712877, 7660.157134486219, 7660.358131730846, 7660.456505021519, 7660.688569495339, 7660.782609598131, 7660.7621629839505], \"e_w_deviation\": [0.0, -1.484000657881275e-17, -2.175842355175559, -2.2419840214828732, -2.593877605762808, -3.389295211600157, -4.0542389625514135, -4.027180204159597, -4.13311241136453, -4.645452673436392, -4.92810207452572, -5.146432756144027, -5.3339936813724895, -5.721190851580817, -6.269858859107042, -6.660334283164571, -7.3815342656473435, -8.37630368630489, -8.922884580145645, -9.340341250202624, -8.881544780257427, -8.643856233265076, -9.568723135321147, -10.156517109805641, -10.386186489246885, -10.682769333247977, -10.989832648807775, -11.56584727461761, -11.326072883057673, -11.194436173167277, -12.848022933081339, -14.74132409432717, -16.436352123638066, -18.267824737470026, -20.16774917889891, -22.018285039135044, -23.25527466581436, -24.726300840835037, -26.61839395085467, -28.188184254357466, -29.70970162039467, -31.202535397595472, -32.6585055963508, -33.99637609819523, -35.29196955641501, -36.43259059281338, -37.076884648839126, -37.28718688470833, -37.179510885615926, -36.772341260215114, -36.07404142749863, -36.23950271973721, -36.46852254598554, -36.17970824196029, -35.79751817472034, -34.946266913548605, -35.366680506690855, -35.39092003219164, -33.91681798193058, -32.48536824485758, -30.345299422455874, -22.023784850465717, -6.26921560023823, 16.190843339757308, 44.10392321003876, 80.4614298575519, 122.79065099746501, 171.4101943000012, 221.13581267417885, 274.1324990599122, 328.4511281163804, 386.6108371411615, 445.11552106990206, 505.050118137853, 567.5859208385572, 630.4085035962628, 696.3781907690641, 761.4882661350741, 829.1884923449869, 897.273922021971, 967.4149370948395, 1037.8354016688197, 1108.6904588935624, 1178.8053576711623, 1247.9186329320553, 1317.143065996658, 1365.4641853124037, 1414.059585780118, 1482.4277171087615, 1547.5117843566725, 1610.1272775774444, 1666.1732919750543, 1727.121526626948, 1788.0380737677126, 1846.657962591831, 1906.9715579444687, 1967.2145995930707, 2024.0824721238525, 2077.6932327252953, 2129.310672394236, 2178.966423288364, 2226.4320834376203, 2272.382292878736, 2317.4584385834237, 2362.4098278862716, 2408.116276072377, 2450.9945672173526, 2493.6871237531554, 2515.841019107563, 2533.664749805278], \"n_s_deviation\": [0.0, -1.3785312281415713e-17, -2.0212030353173684, -2.117474233940387, -2.5433114844573717, -2.9746580295078346, -3.096872330184516, -3.547025241268128, -4.244318643030875, -5.212363072305503, -5.416670419759379, -5.6644522515964795, -7.4343096514447415, -9.524363563889594, -11.617315201593373, -13.657874309319288, -15.570720570759654, -17.313276242698638, -19.147666498237268, -21.1092737561569, -22.343018956190242, -23.278903111169665, -24.92449035064133, -26.58983984591266, -28.010791491809098, -29.560178344151375, -31.14334036107004, -32.880100514039235, -34.46108331932539, -35.79161560995158, -36.98033508016032, -37.81162348161602, -38.70783391216995, -39.90527839354168, -41.31250151308184, -42.851066051697146, -44.616523833118926, -44.74664698463293, -45.07464567742085, -47.55036106024729, -50.255575155570206, -53.0082836249512, -55.85620121029757, -58.59001671264978, -61.00413274169478, -63.432814219688424, -65.64517228195949, -67.44747737684362, -69.05271904531232, -70.56045471772394, -71.8677961030382, -72.60733839941273, -73.17719626309531, -74.33622436740495, -75.76491253054486, -76.87146038506376, -76.76731390609072, -76.48908622388853, -77.16224878848631, -77.51592653796689, -76.26931984432156, -69.42301100110615, -56.12611778437354, -37.30449166745683, -13.071349447776281, 18.671608779555633, 55.903969746441945, 98.68653026453202, 141.5586353467743, 186.6204852148685, 232.68513445656907, 281.9114267345113, 331.9574329881619, 383.69922686653683, 437.3427265322022, 491.3640061689003, 548.9693831616727, 606.1482488956053, 665.3941282074068, 724.7349560515827, 785.1583975473234, 845.2603395856305, 905.9484648652372, 968.0811468556537, 1031.5898084053179, 1095.1221714720284, 1138.5924821915255, 1181.7602222204512, 1246.2095976634116, 1314.0074970566761, 1384.100598108905, 1449.3291138949253, 1520.8923767738684, 1593.786477219505, 1665.9825226964995, 1739.3702604404925, 1812.8157838142843, 1887.627886485367, 1964.8210992507668, 2044.5636846900316, 2125.546868561508, 2206.677019325788, 2288.6766183469813, 2371.1635761844777, 2452.576044537638, 2536.9850257909825, 2620.632461288653, 2705.4986688433305, 2749.2041631671486, 2783.892820441016], \"dls\": [0.0, 0.0, 0.062178175697026876, 1.312323104221892, 0.43922131729609876, 0.08042287727355951, 0.20007154008744296, 0.30541848464608146, 0.07544251812726605, 0.2976066556324211, 0.23670095082420844, 0.24213627593834536, 0.2999850410059419, 0.09982823459047929, 0.06001822909970222, 0.03037855739338735, 0.056789950199735574, 0.17042476568489642, 0.0693668431679535, 0.01993292540609921, 0.3157502687404893, 0.0720972968028324, 0.26974508589212887, 0.40057331440554544, 0.009985005553010146, 0.14992993001118987, 0.11006274453029032, 0.37915058010860575, 0.2072590379355382, 0.009102498691501362, 0.26684825484593366, 0.3100147696535474, 0.1398957617883856, 0.16989850673084672, 0.029979119030003634, 0.019904290966461985, 0.23348528080380748, 0.40804615992287036, 0.07652363332976642, 0.19998126332911942, 0.00017422010087074383, 0.029934816672579877, 0.04973451056650544, 0.23010514458114228, 0.1200014784499837, 0.059735768555311125, 0.4808912031722217, 0.10002129508581828, 0.11085278275925033, 0.029990726732150582, 0.08124578232425676, 0.07575783435644577, 0.14302641690198467, 0.26538522507724854, 0.02519933025313245, 0.28000418182841885, 0.4054270579062658, 0.21400934683013106, 0.039905124947546486, 0.15180963459746707, 8.09081900129934, 6.6802380356223, 5.297841217404203, 5.671609243355286, 5.934962274534154, 8.374925113240641, 6.676388904579787, 4.155341460623003, 1.0299674900525506, 3.5683840146139207, 2.591380087028445, 2.8124879045508773, 2.3485158500356245, 2.7552416559590474, 3.083781392084175, 2.9666693510617885, 3.0398535258486246, 3.0643100952872393, 2.357883414036999, 3.276289102066852, 3.366497713956813, 2.968055033124839, 3.3291719989157795, 1.6870498749295495, 1.541073533810662, 1.5724205308300976, 1.7478215994323207, 0.8461880746380327, 0.08166466134158418, 0.07940585015175593, 0.0008274675158041158, 0.024721092669823027, 0.09587844093486547, 0.11802576377694084, 0.32912147949062376, 0.15358234453355382, 0.20905337189170117, 0.16747860550934596, 0.13825524436433095, 0.26098935876969753, 0.1397644970882708, 0.14015134747360147, 0.0550950458378559, 0.031334689863031874, 0.13431049244001467, 0.025960717101329234, 0.12014006714273541, 0.29474534107044165, 0.6920544308284147, 0.15599660612029712], \"surface_latitude\": 29.90829443997491, \"surface_longitude\": 47.68852083021084, \"longitude_points\": [47.688523651417036, 47.688523651417036, 47.68851663980534, 47.68851642409303, 47.68851528281538, 47.68851274230732, 47.688510636126544, 47.68851068822538, 47.688510302636054, 47.6885086152892, 47.688507708758664, 47.688507001871585, 47.6885062796319, 47.68850490411799, 47.68850301913, 47.688501636932166, 47.6884992210986, 47.688495955034135, 47.68849409572288, 47.688492634260335, 47.688493990146085, 47.68849467067851, 47.6884916322399, 47.68848965543073, 47.68848882615194, 47.68848777635188, 47.688486691003654, 47.688484746072554, 47.68848538554713, 47.68848570246238, 47.68848039946577, 47.688474366832516, 47.688468954735455, 47.68846309006454, 47.68845699401437, 47.68845104403177, 47.688447012347275, 47.68844236329676, 47.688436371639554, 47.688431237895294, 47.68842623945221, 47.68842132796744, 47.68841652571635, 47.68841210436379, 47.68840783995569, 47.688404063237016, 47.688401867847965, 47.68840107149583, 47.68840129256014, 47.6884024653911, 47.68840457120878, 47.688403994755234, 47.68840323037548, 47.688404055676884, 47.688405155562066, 47.688407758596455, 47.68840644035332, 47.68840638444945, 47.68841098388121, 47.68841547238378, 47.68842231395228, 47.68844906454632, 47.68849973444539, 47.68857196067623, 47.688661784801035, 47.68877879640805, 47.688915047756225, 47.68907154830649, 47.68923154426942, 47.689402018966895, 47.68957673742863, 47.68976380430188, 47.6899520202455, 47.69014487181295, 47.690346068425995, 47.69054819800934, 47.690760518802875, 47.69097009756099, 47.6911879989173, 47.69140712288319, 47.691632810779225, 47.691859356990875, 47.6920873179526, 47.69231305205089, 47.69253572958152, 47.69275876020413, 47.692914379050734, 47.69307084094702, 47.693291240449284, 47.69350153059191, 47.69370420548915, 47.69388580106394, 47.69408332770811, 47.69428085368074, 47.69447108508264, 47.694666747428826, 47.694862192307944, 47.695047093774996, 47.695221899270514, 47.6953906072803, 47.69555322065473, 47.69570893798853, 47.6958599406061, 47.69600822316568, 47.69615603333398, 47.69630644767598, 47.69644788606684, 47.69658882960262, 47.69666194320027, 47.69672073112712], \"latitude_points\": [29.908294350119714, 29.908294350119714, 29.908288936442236, 29.908288676173058, 29.908287528738907, 29.90828639470096, 29.908286101671738, 29.908284863045555, 29.908282953907275, 29.90828032697246, 29.908279783781246, 29.90827911699723, 29.908274266025884, 29.908268548093957, 29.908262832588075, 29.908257250863873, 29.908252041333313, 29.908247317310163, 29.908242312119043, 29.908236949066556, 29.908233529587857, 29.90823094276694, 29.9082264806867, 29.90822194262027, 29.90821805304626, 29.908213814875563, 29.908209484575064, 29.908204749535624, 29.908200390042612, 29.908196725669562, 29.90819356580628, 29.908191403478035, 29.90818905000758, 29.90818587761386, 29.908182133214705, 29.90817802475099, 29.908173253380944, 29.90817299047708, 29.908172210958732, 29.908165509422847, 29.908158174187413, 29.908150706606133, 29.908142975046935, 29.908135549408268, 29.908128999488124, 29.908122399576634, 29.90811636212735, 29.90811142346136, 29.90810700581056, 29.908102836810073, 29.90809919970414, 29.90809717830764, 29.90809562724202, 29.908092423999616, 29.908088473804987, 29.908085378579916, 29.908085691789314, 29.908086457835108, 29.908084513353838, 29.908083449465, 29.908086737091683, 29.908105013354007, 29.908140535686513, 29.908190806904475, 29.908255596464215, 29.90834047735235, 29.90844005710507, 29.90855448220407, 29.908669081955637, 29.90878948773009, 29.908912563563877, 29.909044079139854, 29.90917782453641, 29.909316137087906, 29.90945950716241, 29.90960389645062, 29.909757930748803, 29.90991084809468, 29.910069277772777, 29.91022794312344, 29.910389450344947, 29.91055005574753, 29.910712243363754, 29.910878447420135, 29.91104849634599, 29.911218602805604, 29.911334931707636, 29.911450411353947, 29.911623091643627, 29.91180518390582, 29.911993741416268, 29.912169355748723, 29.912362059609357, 29.91255842188797, 29.912753013884412, 29.912950770720517, 29.913148690539707, 29.913350582645208, 29.913559227077474, 29.913775004682844, 29.913994317348017, 29.914214174881476, 29.914436518929307, 29.91466025826244, 29.91488105307755, 29.915110032410805, 29.915337101563704, 29.91556753130015, 29.91568619008772, 29.91578035294526], \"zone_number\": 38, \"zone_letter\": \"R\", \"x_points\": [759587.9344606012, 759587.9344606012, 759587.2712638513, 759587.2511038714, 759587.143846707, 759586.9014034207, 759586.6987285654, 759586.706976075, 759586.6746879382, 759586.5185266263, 759586.4323750889, 759586.3658278971, 759586.3086593271, 759586.1906416296, 759586.023407621, 759585.9043907117, 759585.684568957, 759585.3813632376, 759585.2147653812, 759585.0875245881, 759585.2273657522, 759585.2998132213, 759585.0179137895, 759584.8387541862, 759584.7687509593, 759584.6783525085, 759584.5847596098, 759584.4091903518, 759584.4822735864, 759584.5223964556, 759584.0183832112, 759583.4413050172, 759582.924660474, 759582.3664276212, 759581.7873306514, 759581.2232873213, 759580.8462528831, 759580.3978841049, 759579.821174125, 759579.3427020404, 759578.8789435473, 759578.423927812, 759577.9801480954, 759577.5723651665, 759577.1774682804, 759576.8298069885, 759576.6334261602, 759576.5693260387, 759576.6021456833, 759576.726250985, 759576.9390927741, 759576.8886601722, 759576.8188549292, 759576.906885529, 759577.0233770616, 759577.282838446, 759577.1546963827, 759577.1473081753, 759577.5966144803, 759578.0329203601, 759578.6852133372, 759581.2216109787, 759586.0236036862, 759592.8694296512, 759601.3773363956, 759612.4591044218, 759625.3610510252, 759640.1802878238, 759655.3366563043, 759671.4900463147, 759688.0463644511, 759705.7734437619, 759723.6056714233, 759741.8737366096, 759760.9346492728, 759780.0829724973, 759800.1905331475, 759820.0360841191, 759840.6711130679, 759861.4235520335, 759882.8025334277, 759904.2666910299, 759925.8633124719, 759947.2343336194, 759968.3000599189, 759989.3996671169, 760004.1279442844, 760018.939822347, 760039.778428776, 760059.6160524731, 760078.7012548068, 760095.7840799952, 760114.3611019171, 760132.9284654856, 760150.7958075992, 760169.1793914627, 760187.5414705571, 760204.8747981045, 760221.2153579359, 760236.9483535469, 760252.0834264195, 760266.550959633, 760280.5565834707, 760294.2957926814, 760307.9969761409, 760321.928301548, 760334.997604689, 760348.0102959211, 760354.7628032252, 760360.1954763419], \"y_points\": [3311661.864846832, 3311661.864846832, 3311661.2487841467, 3311661.2194406856, 3311661.0896454914, 3311660.9581710645, 3311660.9209201457, 3311660.7837135387, 3311660.57117851, 3311660.2761185677, 3311660.2138456884, 3311660.1383217857, 3311659.59886925, 3311658.961820818, 3311658.3238891587, 3311657.7019267427, 3311657.1188912024, 3311656.5877602333, 3311656.0286380835, 3311655.430740191, 3311655.0546946544, 3311654.7694371636, 3311654.2678621733, 3311653.760263647, 3311653.3271575854, 3311652.854904473, 3311652.37235669, 3311651.8429921954, 3311651.3611086365, 3311650.955562394, 3311650.5932406997, 3311650.339863995, 3311650.0666990555, 3311649.701717978, 3311649.272796371, 3311648.8038418996, 3311648.265730368, 3311648.226068831, 3311648.1260948298, 3311647.371496781, 3311646.546947525, 3311645.707921983, 3311644.8398767035, 3311644.006609738, 3311643.2707871725, 3311642.530525058, 3311641.8561983206, 3311641.3068557275, 3311640.817578067, 3311640.3580202344, 3311639.95954258, 3311639.734130088, 3311639.560437411, 3311639.207165645, 3311638.771701493, 3311638.434425707, 3311638.4661695533, 3311638.550973351, 3311638.3457934014, 3311638.237992423, 3311638.6179581434, 3311640.704713079, 3311644.7576061315, 3311650.494437772, 3311657.8806995205, 3311667.5559531883, 3311678.904376811, 3311691.9445012566, 3311705.0119188856, 3311718.7467707256, 3311732.7872758145, 3311747.791449701, 3311763.045472407, 3311778.816371181, 3311795.166909879, 3311811.6325959126, 3311829.19071482, 3311846.6188330953, 3311864.6769771096, 3311882.7640614365, 3311901.1811264046, 3311919.5001983377, 3311937.997938923, 3311956.9359803936, 3311976.293420434, 3311995.6580846966, 3312008.907835404, 3312022.0653625648, 3312041.7095322, 3312062.374331935, 3312083.738709136, 3312103.6203607474, 3312125.4328432726, 3312147.6509650885, 3312169.65631975, 3312192.0249022143, 3312214.411097739, 3312237.213826633, 3312260.7423178838, 3312285.0478579258, 3312309.7315323697, 3312334.4600023227, 3312359.4534801045, 3312384.595504853, 3312409.4100252073, 3312435.137882693, 3312460.633621033, 3312486.5008410956, 3312499.8222757652, 3312510.3953785026], \"surface_x\": 759587.9344606012, \"surface_y\": 3311661.864846832, \"isHorizontal\": [\"Vertical\", \"Vertical\", \"Vertical\", \"Vertical\", \"Vertical\", \"Vertical\", \"Vertical\", \"Vertical\", \"Vertical\", \"Vertical\", \"Vertical\", \"Vertical\", \"Vertical\", \"Vertical\", \"Vertical\", \"Vertical\", \"Vertical\", \"Vertical\", \"Vertical\", \"Vertical\", \"Vertical\", \"Vertical\", \"Vertical\", \"Vertical\", \"Vertical\", \"Vertical\", \"Vertical\", \"Vertical\", \"Vertical\", \"Vertical\", \"Vertical\", \"Vertical\", \"Vertical\", \"Vertical\", \"Vertical\", \"Vertical\", \"Vertical\", \"Vertical\", \"Vertical\", \"Vertical\", \"Vertical\", \"Vertical\", \"Vertical\", \"Vertical\", \"Vertical\", \"Vertical\", \"Vertical\", \"Vertical\", \"Vertical\", \"Vertical\", \"Vertical\", \"Vertical\", \"Vertical\", \"Vertical\", \"Vertical\", \"Vertical\", \"Vertical\", \"Vertical\", \"Vertical\", \"Vertical\", \"Vertical\", \"Vertical\", \"Vertical\", \"Vertical\", \"Vertical\", \"Vertical\", \"Vertical\", \"Vertical\", \"Vertical\", \"Vertical\", \"Vertical\", \"Vertical\", \"Vertical\", \"Vertical\", \"Vertical\", \"Vertical\", \"Vertical\", \"Vertical\", \"Vertical\", \"Vertical\", \"Vertical\", \"Vertical\", \"Vertical\", \"Vertical\", \"Vertical\", \"Horizontal\", \"Horizontal\", \"Horizontal\", \"Horizontal\", \"Horizontal\", \"Horizontal\", \"Horizontal\", \"Horizontal\", \"Horizontal\", \"Horizontal\", \"Horizontal\", \"Horizontal\", \"Horizontal\", \"Horizontal\", \"Horizontal\", \"Horizontal\", \"Horizontal\", \"Horizontal\", \"Horizontal\", \"Horizontal\", \"Horizontal\", \"Horizontal\", \"Horizontal\", \"Horizontal\", \"Horizontal\"]}'"
      ]
     },
     "execution_count": 14,
     "metadata": {},
     "output_type": "execute_result"
    }
   ],
   "source": [
    "# serialize\n",
    "json_ds = well_obj.serialize()\n",
    "json_ds"
   ]
  },
  {
   "cell_type": "markdown",
   "metadata": {},
   "source": [
    "Now you have done it, you can check out your calculated points in a dataframe for easy viewing."
   ]
  },
  {
   "cell_type": "code",
   "execution_count": 15,
   "metadata": {},
   "outputs": [
    {
     "data": {
      "text/html": [
       "<div>\n",
       "<style scoped>\n",
       "    .dataframe tbody tr th:only-of-type {\n",
       "        vertical-align: middle;\n",
       "    }\n",
       "\n",
       "    .dataframe tbody tr th {\n",
       "        vertical-align: top;\n",
       "    }\n",
       "\n",
       "    .dataframe thead th {\n",
       "        text-align: right;\n",
       "    }\n",
       "</style>\n",
       "<table border=\"1\" class=\"dataframe\">\n",
       "  <thead>\n",
       "    <tr style=\"text-align: right;\">\n",
       "      <th></th>\n",
       "      <th>wellId</th>\n",
       "      <th>md</th>\n",
       "      <th>inc</th>\n",
       "      <th>azim</th>\n",
       "      <th>tvd</th>\n",
       "      <th>e_w_deviation</th>\n",
       "      <th>n_s_deviation</th>\n",
       "      <th>dls</th>\n",
       "      <th>surface_latitude</th>\n",
       "      <th>surface_longitude</th>\n",
       "      <th>longitude_points</th>\n",
       "      <th>latitude_points</th>\n",
       "      <th>zone_number</th>\n",
       "      <th>zone_letter</th>\n",
       "      <th>x_points</th>\n",
       "      <th>y_points</th>\n",
       "      <th>surface_x</th>\n",
       "      <th>surface_y</th>\n",
       "      <th>isHorizontal</th>\n",
       "    </tr>\n",
       "  </thead>\n",
       "  <tbody>\n",
       "    <tr>\n",
       "      <th>0</th>\n",
       "      <td>well_C</td>\n",
       "      <td>0.00</td>\n",
       "      <td>0.00</td>\n",
       "      <td>227.11</td>\n",
       "      <td>0.000000</td>\n",
       "      <td>0.000000e+00</td>\n",
       "      <td>0.000000e+00</td>\n",
       "      <td>0.000000</td>\n",
       "      <td>29.908294</td>\n",
       "      <td>47.688521</td>\n",
       "      <td>47.688524</td>\n",
       "      <td>29.908294</td>\n",
       "      <td>38</td>\n",
       "      <td>R</td>\n",
       "      <td>759587.934461</td>\n",
       "      <td>3.311662e+06</td>\n",
       "      <td>759587.934461</td>\n",
       "      <td>3.311662e+06</td>\n",
       "      <td>Vertical</td>\n",
       "    </tr>\n",
       "    <tr>\n",
       "      <th>1</th>\n",
       "      <td>well_C</td>\n",
       "      <td>35.00</td>\n",
       "      <td>0.00</td>\n",
       "      <td>227.11</td>\n",
       "      <td>35.000000</td>\n",
       "      <td>-1.484001e-17</td>\n",
       "      <td>-1.378531e-17</td>\n",
       "      <td>0.000000</td>\n",
       "      <td>29.908294</td>\n",
       "      <td>47.688521</td>\n",
       "      <td>47.688524</td>\n",
       "      <td>29.908294</td>\n",
       "      <td>38</td>\n",
       "      <td>R</td>\n",
       "      <td>759587.934461</td>\n",
       "      <td>3.311662e+06</td>\n",
       "      <td>759587.934461</td>\n",
       "      <td>3.311662e+06</td>\n",
       "      <td>Vertical</td>\n",
       "    </tr>\n",
       "    <tr>\n",
       "      <th>2</th>\n",
       "      <td>well_C</td>\n",
       "      <td>774.81</td>\n",
       "      <td>0.46</td>\n",
       "      <td>227.11</td>\n",
       "      <td>774.802052</td>\n",
       "      <td>-2.175842e+00</td>\n",
       "      <td>-2.021203e+00</td>\n",
       "      <td>0.062178</td>\n",
       "      <td>29.908294</td>\n",
       "      <td>47.688521</td>\n",
       "      <td>47.688517</td>\n",
       "      <td>29.908289</td>\n",
       "      <td>38</td>\n",
       "      <td>R</td>\n",
       "      <td>759587.271264</td>\n",
       "      <td>3.311661e+06</td>\n",
       "      <td>759587.934461</td>\n",
       "      <td>3.311662e+06</td>\n",
       "      <td>Vertical</td>\n",
       "    </tr>\n",
       "    <tr>\n",
       "      <th>3</th>\n",
       "      <td>well_C</td>\n",
       "      <td>800.00</td>\n",
       "      <td>0.13</td>\n",
       "      <td>163.86</td>\n",
       "      <td>799.991684</td>\n",
       "      <td>-2.241984e+00</td>\n",
       "      <td>-2.117474e+00</td>\n",
       "      <td>1.312323</td>\n",
       "      <td>29.908294</td>\n",
       "      <td>47.688521</td>\n",
       "      <td>47.688516</td>\n",
       "      <td>29.908289</td>\n",
       "      <td>38</td>\n",
       "      <td>R</td>\n",
       "      <td>759587.251104</td>\n",
       "      <td>3.311661e+06</td>\n",
       "      <td>759587.934461</td>\n",
       "      <td>3.311662e+06</td>\n",
       "      <td>Vertical</td>\n",
       "    </tr>\n",
       "    <tr>\n",
       "      <th>4</th>\n",
       "      <td>well_C</td>\n",
       "      <td>900.00</td>\n",
       "      <td>0.57</td>\n",
       "      <td>230.43</td>\n",
       "      <td>899.989571</td>\n",
       "      <td>-2.593878e+00</td>\n",
       "      <td>-2.543311e+00</td>\n",
       "      <td>0.439221</td>\n",
       "      <td>29.908294</td>\n",
       "      <td>47.688521</td>\n",
       "      <td>47.688515</td>\n",
       "      <td>29.908288</td>\n",
       "      <td>38</td>\n",
       "      <td>R</td>\n",
       "      <td>759587.143847</td>\n",
       "      <td>3.311661e+06</td>\n",
       "      <td>759587.934461</td>\n",
       "      <td>3.311662e+06</td>\n",
       "      <td>Vertical</td>\n",
       "    </tr>\n",
       "  </tbody>\n",
       "</table>\n",
       "</div>"
      ],
      "text/plain": [
       "   wellId      md   inc    azim         tvd  e_w_deviation  n_s_deviation  \\\n",
       "0  well_C    0.00  0.00  227.11    0.000000   0.000000e+00   0.000000e+00   \n",
       "1  well_C   35.00  0.00  227.11   35.000000  -1.484001e-17  -1.378531e-17   \n",
       "2  well_C  774.81  0.46  227.11  774.802052  -2.175842e+00  -2.021203e+00   \n",
       "3  well_C  800.00  0.13  163.86  799.991684  -2.241984e+00  -2.117474e+00   \n",
       "4  well_C  900.00  0.57  230.43  899.989571  -2.593878e+00  -2.543311e+00   \n",
       "\n",
       "        dls  surface_latitude  surface_longitude  longitude_points  \\\n",
       "0  0.000000         29.908294          47.688521         47.688524   \n",
       "1  0.000000         29.908294          47.688521         47.688524   \n",
       "2  0.062178         29.908294          47.688521         47.688517   \n",
       "3  1.312323         29.908294          47.688521         47.688516   \n",
       "4  0.439221         29.908294          47.688521         47.688515   \n",
       "\n",
       "   latitude_points  zone_number zone_letter       x_points      y_points  \\\n",
       "0        29.908294           38           R  759587.934461  3.311662e+06   \n",
       "1        29.908294           38           R  759587.934461  3.311662e+06   \n",
       "2        29.908289           38           R  759587.271264  3.311661e+06   \n",
       "3        29.908289           38           R  759587.251104  3.311661e+06   \n",
       "4        29.908288           38           R  759587.143847  3.311661e+06   \n",
       "\n",
       "       surface_x     surface_y isHorizontal  \n",
       "0  759587.934461  3.311662e+06     Vertical  \n",
       "1  759587.934461  3.311662e+06     Vertical  \n",
       "2  759587.934461  3.311662e+06     Vertical  \n",
       "3  759587.934461  3.311662e+06     Vertical  \n",
       "4  759587.934461  3.311662e+06     Vertical  "
      ]
     },
     "execution_count": 15,
     "metadata": {},
     "output_type": "execute_result"
    }
   ],
   "source": [
    "json_ds_obj = json.loads(json_ds)\n",
    "dfXY = pd.DataFrame(json_ds_obj)\n",
    "dfXY.head()"
   ]
  },
  {
   "cell_type": "code",
   "execution_count": 16,
   "metadata": {},
   "outputs": [
    {
     "data": {
      "image/png": "[encoded data removed]",
      "text/plain": [
       "<Figure size 432x288 with 1 Axes>"
      ]
     },
     "metadata": {
      "needs_background": "light"
     },
     "output_type": "display_data"
    }
   ],
   "source": [
    "dfXY.plot(kind=\"scatter\", x=\"longitude_points\", y=\"latitude_points\", alpha=0.4)\n",
    "plt.show()"
   ]
  },
  {
   "cell_type": "code",
   "execution_count": 17,
   "metadata": {},
   "outputs": [
    {
     "data": {
      "image/png": "[encoded data removed]",
      "text/plain": [
       "<Figure size 432x288 with 1 Axes>"
      ]
     },
     "metadata": {
      "needs_background": "light"
     },
     "output_type": "display_data"
    }
   ],
   "source": [
    "from matplotlib import pyplot\n",
    "from mpl_toolkits.mplot3d import Axes3D\n",
    "\n",
    "fig = pyplot.figure()\n",
    "ax = Axes3D(fig)\n",
    "ax.scatter(dfXY['longitude_points'].values, dfXY['latitude_points'].values, dfXY['tvd'].values*-1)\n",
    "pyplot.show()"
   ]
  },
  {
   "cell_type": "code",
   "execution_count": 18,
   "metadata": {},
   "outputs": [],
   "source": [
    "# Finished"
   ]
  },
  {
   "cell_type": "markdown",
   "metadata": {},
   "source": [
    "## Work in Progress\n",
    "\n",
    "Compare both surface lat long and surface x y calculations together.\n",
    "There are slight differences between the two due to the translation.\n",
    "Find out if they are significant"
   ]
  },
  {
   "cell_type": "code",
   "execution_count": 19,
   "metadata": {},
   "outputs": [],
   "source": [
    "# comparison:"
   ]
  },
  {
   "cell_type": "code",
   "execution_count": 20,
   "metadata": {},
   "outputs": [],
   "source": [
    "#change wellname value for comparison\n",
    "dfXY['wellId'] = 'well_XY'"
   ]
  },
  {
   "cell_type": "code",
   "execution_count": 21,
   "metadata": {},
   "outputs": [],
   "source": [
    "df_comp = df.append(dfXY)"
   ]
  },
  {
   "cell_type": "code",
   "execution_count": 22,
   "metadata": {},
   "outputs": [
    {
     "data": {
      "text/plain": [
       "<matplotlib.legend.Legend at 0x1de21c47e48>"
      ]
     },
     "execution_count": 22,
     "metadata": {},
     "output_type": "execute_result"
    },
    {
     "data": {
      "image/png": "[encoded data removed]",
      "text/plain": [
       "<Figure size 432x288 with 1 Axes>"
      ]
     },
     "metadata": {
      "needs_background": "light"
     },
     "output_type": "display_data"
    }
   ],
   "source": [
    "groups = df_comp.groupby(\"wellId\")\n",
    "for name, group in groups:\n",
    "    plt.plot(group[\"longitude_points\"], group[\"latitude_points\"], marker=\"o\", linestyle=\"\", label=name)\n",
    "plt.legend()"
   ]
  },
  {
   "cell_type": "code",
   "execution_count": 23,
   "metadata": {},
   "outputs": [
    {
     "data": {
      "image/png": "[encoded data removed]",
      "text/plain": [
       "<Figure size 432x288 with 1 Axes>"
      ]
     },
     "metadata": {
      "needs_background": "light"
     },
     "output_type": "display_data"
    }
   ],
   "source": [
    "from matplotlib import pyplot\n",
    "from mpl_toolkits.mplot3d import Axes3D\n",
    "\n",
    "groups = df_comp.groupby(\"wellId\")\n",
    "fig = pyplot.figure()\n",
    "ax = Axes3D(fig)\n",
    "for name, group in groups:\n",
    "    #plt.plot(group[\"longitude_points\"], group[\"latitude_points\"], marker=\"o\", linestyle=\"\", label=name)\n",
    "    ax.scatter(group['longitude_points'].values, group['latitude_points'].values, group['tvd'].values*-1)\n",
    "pyplot.show()"
   ]
  },
  {
   "cell_type": "code",
   "execution_count": null,
   "metadata": {},
   "outputs": [],
   "source": []
  }
 ],
 "metadata": {
  "kernelspec": {
   "display_name": "Python 3",
   "language": "python",
   "name": "python3"
  },
  "toc": {
   "base_numbering": 1,
   "nav_menu": {},
   "number_sections": true,
   "sideBar": true,
   "skip_h1_title": false,
   "title_cell": "Table of Contents",
   "title_sidebar": "Contents",
   "toc_cell": false,
   "toc_position": {},
   "toc_section_display": true,
   "toc_window_display": false
  },
  "varInspector": {
   "cols": {
    "lenName": 16,
    "lenType": 16,
    "lenVar": 40
   },
   "kernels_config": {
    "python": {
     "delete_cmd_postfix": "",
     "delete_cmd_prefix": "del ",
     "library": "var_list.py",
     "varRefreshCmd": "print(var_dic_list())"
    },
    "r": {
     "delete_cmd_postfix": ") ",
     "delete_cmd_prefix": "rm(",
     "library": "var_list.r",
     "varRefreshCmd": "cat(var_dic_list()) "
    }
   },
   "types_to_exclude": [
    "module",
    "function",
    "builtin_function_or_method",
    "instance",
    "_Feature"
   ],
   "window_display": false
  }
 },
 "nbformat": 4,
 "nbformat_minor": 4
}
