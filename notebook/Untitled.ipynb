{
 "cells": [
  {
   "cell_type": "code",
   "execution_count": null,
   "metadata": {},
   "outputs": [],
   "source": []
  },
  {
   "cell_type": "code",
   "execution_count": null,
   "metadata": {},
   "outputs": [],
   "source": []
  },
  {
   "cell_type": "code",
   "execution_count": 7,
   "metadata": {},
   "outputs": [],
   "source": [
    "# ONLY RUN ONCE, must restart notebook otherwise\n",
    "import os\n",
    "from pathlib import Path\n",
    "import matplotlib.pyplot as plt\n",
    "current_dir = Path.cwd()\n",
    "path = current_dir.parent\n",
    "#print(path)\n",
    "#change directory to get src class data\n",
    "os.chdir(path)"
   ]
  },
  {
   "cell_type": "code",
   "execution_count": 9,
   "metadata": {},
   "outputs": [],
   "source": [
    "from welltrajconvert.wellbore_trajectory import *"
   ]
  },
  {
   "cell_type": "code",
   "execution_count": 10,
   "metadata": {},
   "outputs": [
    {
     "data": {
      "text/html": [
       "<div>\n",
       "<style scoped>\n",
       "    .dataframe tbody tr th:only-of-type {\n",
       "        vertical-align: middle;\n",
       "    }\n",
       "\n",
       "    .dataframe tbody tr th {\n",
       "        vertical-align: top;\n",
       "    }\n",
       "\n",
       "    .dataframe thead th {\n",
       "        text-align: right;\n",
       "    }\n",
       "</style>\n",
       "<table border=\"1\" class=\"dataframe\">\n",
       "  <thead>\n",
       "    <tr style=\"text-align: right;\">\n",
       "      <th></th>\n",
       "      <th>wellId</th>\n",
       "      <th>md</th>\n",
       "      <th>inc</th>\n",
       "      <th>azim</th>\n",
       "      <th>tvd</th>\n",
       "      <th>e_w_deviation</th>\n",
       "      <th>n_s_deviation</th>\n",
       "      <th>dls</th>\n",
       "      <th>surface_latitude</th>\n",
       "      <th>surface_longitude</th>\n",
       "      <th>longitude_points</th>\n",
       "      <th>latitude_points</th>\n",
       "      <th>zone_number</th>\n",
       "      <th>zone_letter</th>\n",
       "      <th>x_points</th>\n",
       "      <th>y_points</th>\n",
       "      <th>surface_x</th>\n",
       "      <th>surface_y</th>\n",
       "      <th>isHorizontal</th>\n",
       "    </tr>\n",
       "  </thead>\n",
       "  <tbody>\n",
       "    <tr>\n",
       "      <th>0</th>\n",
       "      <td>well_A</td>\n",
       "      <td>5600.55</td>\n",
       "      <td>85.03</td>\n",
       "      <td>27.59</td>\n",
       "      <td>0.000000</td>\n",
       "      <td>0.000000</td>\n",
       "      <td>0.000000</td>\n",
       "      <td>0.000000</td>\n",
       "      <td>29.908294</td>\n",
       "      <td>47.688521</td>\n",
       "      <td>47.688524</td>\n",
       "      <td>29.908294</td>\n",
       "      <td>38</td>\n",
       "      <td>R</td>\n",
       "      <td>759587.934440</td>\n",
       "      <td>3.311662e+06</td>\n",
       "      <td>759587.93444</td>\n",
       "      <td>3.311662e+06</td>\n",
       "      <td>Vertical</td>\n",
       "    </tr>\n",
       "    <tr>\n",
       "      <th>1</th>\n",
       "      <td>well_A</td>\n",
       "      <td>5800.00</td>\n",
       "      <td>89.91</td>\n",
       "      <td>26.69</td>\n",
       "      <td>8.801411</td>\n",
       "      <td>90.860665</td>\n",
       "      <td>177.258423</td>\n",
       "      <td>2.443200</td>\n",
       "      <td>29.908294</td>\n",
       "      <td>47.688521</td>\n",
       "      <td>47.688823</td>\n",
       "      <td>29.908776</td>\n",
       "      <td>38</td>\n",
       "      <td>R</td>\n",
       "      <td>759615.628771</td>\n",
       "      <td>3.311716e+06</td>\n",
       "      <td>759587.93444</td>\n",
       "      <td>3.311662e+06</td>\n",
       "      <td>Horizontal</td>\n",
       "    </tr>\n",
       "    <tr>\n",
       "      <th>2</th>\n",
       "      <td>well_A</td>\n",
       "      <td>5900.00</td>\n",
       "      <td>90.97</td>\n",
       "      <td>26.72</td>\n",
       "      <td>8.033417</td>\n",
       "      <td>135.798409</td>\n",
       "      <td>266.587721</td>\n",
       "      <td>1.059993</td>\n",
       "      <td>29.908294</td>\n",
       "      <td>47.688521</td>\n",
       "      <td>47.688972</td>\n",
       "      <td>29.909018</td>\n",
       "      <td>38</td>\n",
       "      <td>R</td>\n",
       "      <td>759629.325795</td>\n",
       "      <td>3.311743e+06</td>\n",
       "      <td>759587.93444</td>\n",
       "      <td>3.311662e+06</td>\n",
       "      <td>Horizontal</td>\n",
       "    </tr>\n",
       "  </tbody>\n",
       "</table>\n",
       "</div>"
      ],
      "text/plain": [
       "   wellId       md    inc   azim       tvd  e_w_deviation  n_s_deviation  \\\n",
       "0  well_A  5600.55  85.03  27.59  0.000000       0.000000       0.000000   \n",
       "1  well_A  5800.00  89.91  26.69  8.801411      90.860665     177.258423   \n",
       "2  well_A  5900.00  90.97  26.72  8.033417     135.798409     266.587721   \n",
       "\n",
       "        dls  surface_latitude  surface_longitude  longitude_points  \\\n",
       "0  0.000000         29.908294          47.688521         47.688524   \n",
       "1  2.443200         29.908294          47.688521         47.688823   \n",
       "2  1.059993         29.908294          47.688521         47.688972   \n",
       "\n",
       "   latitude_points  zone_number zone_letter       x_points      y_points  \\\n",
       "0        29.908294           38           R  759587.934440  3.311662e+06   \n",
       "1        29.908776           38           R  759615.628771  3.311716e+06   \n",
       "2        29.909018           38           R  759629.325795  3.311743e+06   \n",
       "\n",
       "      surface_x     surface_y isHorizontal  \n",
       "0  759587.93444  3.311662e+06     Vertical  \n",
       "1  759587.93444  3.311662e+06   Horizontal  \n",
       "2  759587.93444  3.311662e+06   Horizontal  "
      ]
     },
     "execution_count": 10,
     "metadata": {},
     "output_type": "execute_result"
    }
   ],
   "source": [
    "\n",
    "well_dict = {\n",
    "\"wellId\": \"well_A\",\n",
    "\"md\": [5600.55, 5800.0, 5900.0],\n",
    "\"inc\": [85.03, 89.91, 90.97],\n",
    "\"azim\": [27.59, 26.69, 26.72],\n",
    "\"surface_latitude\": 29.90829444,\n",
    "\"surface_longitude\": 47.68852083\n",
    "}\n",
    "dev_obj = WellboreTrajectory(well_dict) # get wellbore trajectory object\n",
    "dev_obj.calculate_survey_points() # runs through min curve algo, calc lat lon points, and calc horizontal\n",
    "json_ds = dev_obj.serialize() # serialize to json\n",
    "json_ds_obj = json.loads(json_ds)\n",
    "df = pd.DataFrame(json_ds_obj) # convert dict to dataframe\n",
    "df.head() # display dataframe"
   ]
  },
  {
   "cell_type": "code",
   "execution_count": 11,
   "metadata": {},
   "outputs": [
    {
     "data": {
      "text/plain": [
       "'1.18.1'"
      ]
     },
     "execution_count": 11,
     "metadata": {},
     "output_type": "execute_result"
    }
   ],
   "source": [
    "import numpy\n",
    "numpy.version.version"
   ]
  },
  {
   "cell_type": "code",
   "execution_count": 13,
   "metadata": {},
   "outputs": [
    {
     "data": {
      "text/plain": [
       "'1.4.1'"
      ]
     },
     "execution_count": 13,
     "metadata": {},
     "output_type": "execute_result"
    }
   ],
   "source": [
    "import scipy\n",
    "scipy.version.version"
   ]
  },
  {
   "cell_type": "code",
   "execution_count": 21,
   "metadata": {},
   "outputs": [
    {
     "ename": "AttributeError",
     "evalue": "module 'utm' has no attribute '__version__'",
     "output_type": "error",
     "traceback": [
      "\u001b[1;31m---------------------------------------------------------------------------\u001b[0m",
      "\u001b[1;31mAttributeError\u001b[0m                            Traceback (most recent call last)",
      "\u001b[1;32m<ipython-input-21-11174ec34499>\u001b[0m in \u001b[0;36m<module>\u001b[1;34m\u001b[0m\n\u001b[0;32m      1\u001b[0m \u001b[1;32mimport\u001b[0m \u001b[0mutm\u001b[0m\u001b[1;33m\u001b[0m\u001b[1;33m\u001b[0m\u001b[0m\n\u001b[1;32m----> 2\u001b[1;33m \u001b[0mutm\u001b[0m\u001b[1;33m.\u001b[0m \u001b[0m__version__\u001b[0m\u001b[1;33m\u001b[0m\u001b[1;33m\u001b[0m\u001b[0m\n\u001b[0m",
      "\u001b[1;31mAttributeError\u001b[0m: module 'utm' has no attribute '__version__'"
     ]
    }
   ],
   "source": [
    "import utm\n",
    "utm. __version__"
   ]
  },
  {
   "cell_type": "code",
   "execution_count": 25,
   "metadata": {},
   "outputs": [
    {
     "data": {
      "text/plain": [
       "'3.2.1'"
      ]
     },
     "execution_count": 25,
     "metadata": {},
     "output_type": "execute_result"
    }
   ],
   "source": [
    "import matplotlib\n",
    "matplotlib. __version__"
   ]
  },
  {
   "cell_type": "code",
   "execution_count": 24,
   "metadata": {},
   "outputs": [
    {
     "data": {
      "text/plain": [
       "<module 'dataclasses' from 'C:\\\\Users\\\\BpAmos\\\\anaconda3\\\\envs\\\\directional-survey\\\\lib\\\\dataclasses.py'>"
      ]
     },
     "execution_count": 24,
     "metadata": {},
     "output_type": "execute_result"
    }
   ],
   "source": [
    "import dataclasses\n",
    "dataclasses"
   ]
  },
  {
   "cell_type": "code",
   "execution_count": null,
   "metadata": {},
   "outputs": [],
   "source": []
  }
 ],
 "metadata": {
  "kernelspec": {
   "display_name": "Python 3",
   "language": "python",
   "name": "python3"
  },
  "language_info": {
   "codemirror_mode": {
    "name": "ipython",
    "version": 3
   },
   "file_extension": ".py",
   "mimetype": "text/x-python",
   "name": "python",
   "nbconvert_exporter": "python",
   "pygments_lexer": "ipython3",
   "version": "3.7.7"
  },
  "toc": {
   "base_numbering": 1,
   "nav_menu": {},
   "number_sections": true,
   "sideBar": true,
   "skip_h1_title": false,
   "title_cell": "Table of Contents",
   "title_sidebar": "Contents",
   "toc_cell": false,
   "toc_position": {},
   "toc_section_display": true,
   "toc_window_display": false
  },
  "varInspector": {
   "cols": {
    "lenName": 16,
    "lenType": 16,
    "lenVar": 40
   },
   "kernels_config": {
    "python": {
     "delete_cmd_postfix": "",
     "delete_cmd_prefix": "del ",
     "library": "var_list.py",
     "varRefreshCmd": "print(var_dic_list())"
    },
    "r": {
     "delete_cmd_postfix": ") ",
     "delete_cmd_prefix": "rm(",
     "library": "var_list.r",
     "varRefreshCmd": "cat(var_dic_list()) "
    }
   },
   "types_to_exclude": [
    "module",
    "function",
    "builtin_function_or_method",
    "instance",
    "_Feature"
   ],
   "window_display": false
  }
 },
 "nbformat": 4,
 "nbformat_minor": 4
}
